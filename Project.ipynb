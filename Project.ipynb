{
 "cells": [
  {
   "cell_type": "code",
   "execution_count": 1,
   "metadata": {},
   "outputs": [],
   "source": [
    "import pandas as pd\n",
    "import numpy as np\n",
    "import matplotlib.pyplot as plt\n",
    "import seaborn as sns; sns.set()\n",
    "plt.style.use('seaborn')\n",
    "from collections import Counter"
   ]
  },
  {
   "cell_type": "code",
   "execution_count": 2,
   "metadata": {},
   "outputs": [
    {
     "name": "stderr",
     "output_type": "stream",
     "text": [
      "/home/painguin/anaconda3/lib/python3.6/site-packages/IPython/core/interactiveshell.py:2785: DtypeWarning: Columns (0,3,5,24,25,26,28,36,41,49) have mixed types. Specify dtype option on import or set low_memory=False.\n",
      "  interactivity=interactivity, compiler=compiler, result=result)\n"
     ]
    }
   ],
   "source": [
    "data_folder = 'data/'\n",
    "data = pd.read_csv(data_folder + 'en.openfoodfacts.org.products.csv', sep='\\t')"
   ]
  },
  {
   "cell_type": "markdown",
   "metadata": {},
   "source": [
    "# Data Preprocessing"
   ]
  },
  {
   "cell_type": "markdown",
   "metadata": {},
   "source": [
    "### Chosen Fields"
   ]
  },
  {
   "cell_type": "markdown",
   "metadata": {},
   "source": [
    "(at least some text that explains why we dropped the other fields)"
   ]
  },
  {
   "cell_type": "code",
   "execution_count": 3,
   "metadata": {},
   "outputs": [],
   "source": [
    "chosen_fields = ['product_name', 'packaging_tags', 'brands_tags',\n",
    "                 'origins_tags', 'manufacturing_places_tags', 'labels_en', 'stores', 'countries_en',\n",
    "                 'additives_n', 'ingredients_from_palm_oil_n', 'ingredients_that_may_be_from_palm_oil_n', \n",
    "                 'nutrition_grade_fr', 'pnns_groups_1', 'fruits-vegetables-nuts_100g',\n",
    "                 'main_category_en', 'energy_100g', 'energy-from-fat_100g', 'fat_100g', \n",
    "                 'saturated-fat_100g', 'monounsaturated-fat_100g', 'polyunsaturated-fat_100g', \n",
    "                 'omega-3-fat_100g', 'omega-6-fat_100g', 'omega-9-fat_100g', 'trans-fat_100g', \n",
    "                 'cholesterol_100g', 'carbohydrates_100g', 'sugars_100g', 'fiber_100g', 'proteins_100g', 'sodium_100g', \n",
    "                 'nutrition-score-fr_100g', 'nutrition-score-uk_100g', 'carbon-footprint_100g', 'first_packaging_code_geo']\n",
    "\n",
    "data = data[chosen_fields]"
   ]
  },
  {
   "cell_type": "markdown",
   "metadata": {},
   "source": [
    "## Field Cleaning"
   ]
  },
  {
   "cell_type": "markdown",
   "metadata": {},
   "source": [
    "The 'pnns_groups_1' field is particularly usefull in our study. \n",
    "Indeed, it sorts the different food entries by some clear category, as seen below."
   ]
  },
  {
   "cell_type": "markdown",
   "metadata": {},
   "source": [
    "A simple map allows for better organisation and also cleans the duplicate field entries:"
   ]
  },
  {
   "cell_type": "code",
   "execution_count": 4,
   "metadata": {},
   "outputs": [],
   "source": [
    "my_map = {'unknown' : 'Unknown',\n",
    " 'Sugary snacks' : 'Snacks', \n",
    " 'Milk and dairy products' : 'Dairies',\n",
    " 'Composite foods' : 'Composite', \n",
    " 'Cereals and potatoes' : 'Starchy', \n",
    " 'Fish Meat Eggs' : 'Fish Meat Eggs',\n",
    " 'Beverages' : 'Beverages',\n",
    " 'Fat and sauces' : 'Fat Sauces',\n",
    " 'Fruits and vegetables' : 'Fruits Vegetables',\n",
    " 'Salty snacks' : 'Snacks',\n",
    " 'fruits-and-vegetables' : 'Fruits Vegetables',\n",
    " 'sugary-snacks' : 'Snacks',\n",
    " 'cereals-and-potatoes' : 'Starchy',\n",
    " 'salty-snacks' : 'Snacks'\n",
    "}\n",
    "\n",
    "data['Category'] = data['pnns_groups_1'].replace(my_map)"
   ]
  },
  {
   "cell_type": "markdown",
   "metadata": {},
   "source": [
    "Now the categories are clear:"
   ]
  },
  {
   "cell_type": "code",
   "execution_count": 5,
   "metadata": {},
   "outputs": [
    {
     "data": {
      "text/plain": [
       "Unknown              122881\n",
       "Snacks                37054\n",
       "Dairies               17948\n",
       "Composite             14670\n",
       "Starchy               14612\n",
       "Fish Meat Eggs        13993\n",
       "Fruits Vegetables     12632\n",
       "Beverages             12411\n",
       "Fat Sauces            11427\n",
       "Name: Category, dtype: int64"
      ]
     },
     "execution_count": 5,
     "metadata": {},
     "output_type": "execute_result"
    }
   ],
   "source": [
    "data['Category'].value_counts()"
   ]
  },
  {
   "cell_type": "markdown",
   "metadata": {},
   "source": [
    "From the 'main_category_en' field, we can recover more entries for the previous categories, as well as a new meaningfull category 'Plant-based foods and beverages', that we will rename 'Veggie' and add it as a new binary field in the data set."
   ]
  },
  {
   "cell_type": "code",
   "execution_count": 6,
   "metadata": {},
   "outputs": [
    {
     "data": {
      "text/plain": [
       "Plant-based foods and beverages    38524\n",
       "Beverages                          26110\n",
       "Sugary snacks                      25209\n",
       "Dairies                            16145\n",
       "Meats                               9801\n",
       "Groceries                           9703\n",
       "Meals                               8349\n",
       "Spreads                             4629\n",
       "Frozen foods                        3154\n",
       "Fruit juices                        3108\n",
       "Desserts                            3080\n",
       "Salty snacks                        3008\n",
       "Seafood                             2921\n",
       "Canned foods                        2770\n",
       "Fats                                1878\n",
       "Baby foods                          1037\n",
       "Sweeteners                           945\n",
       "Sandwiches                           905\n",
       "Farming products                     798\n",
       "Fish and meat and eggs               741\n",
       "Name: main_category_en, dtype: int64"
      ]
     },
     "execution_count": 6,
     "metadata": {},
     "output_type": "execute_result"
    }
   ],
   "source": [
    "data['main_category_en'].value_counts().head(20)"
   ]
  },
  {
   "cell_type": "markdown",
   "metadata": {},
   "source": [
    "First the usefull categories of `pnns_groups_1` and `main_category_en` are merged.\n",
    "This merged categorical field is called `category`."
   ]
  },
  {
   "cell_type": "code",
   "execution_count": 7,
   "metadata": {},
   "outputs": [],
   "source": [
    "my_map_2 = {\n",
    "    'Beverages' : 'Beverages',\n",
    "    'Sugary snacks' : 'Snacks',\n",
    "    'Dairies' : 'Dairies',\n",
    "    'Meats' : 'Fish Meat Eggs',\n",
    "    'Meals' : 'Composite',\n",
    "    'Fruit juices' : 'Beverages',\n",
    "    'Salty snacks' : 'Snacks',\n",
    "    'Fats' : 'Fat Sauces',\n",
    "    'Fish and meat and eggs' : 'Fish Meat Eggs'\n",
    "}"
   ]
  },
  {
   "cell_type": "code",
   "execution_count": 8,
   "metadata": {},
   "outputs": [
    {
     "data": {
      "text/plain": [
       "Beverages                 5844\n",
       "Meats                       68\n",
       "Meals                       16\n",
       "Fish and meat and eggs      12\n",
       "Name: main_category_en, dtype: int64"
      ]
     },
     "execution_count": 8,
     "metadata": {},
     "output_type": "execute_result"
    }
   ],
   "source": [
    "not_in_category = data[data['Category'].isna()]\n",
    "keys = my_map_2.keys()\n",
    "not_in_category.query('main_category_en in @keys')['main_category_en'].value_counts()"
   ]
  },
  {
   "cell_type": "markdown",
   "metadata": {},
   "source": [
    "We see that the number of usefull entries that are not already present in `pnns_group_1` are mainly from the `Beverages` category. Nonetheless, we build the new `Category` field as previously exposed, and add these categories, as well as the `pnns_group_1` fields."
   ]
  },
  {
   "cell_type": "code",
   "execution_count": 9,
   "metadata": {},
   "outputs": [],
   "source": [
    "# Adds the values in 'main_category_en' that are not in 'pnns_groups_1' after applying the map\n",
    "new_vals = not_in_category.query('main_category_en in @keys')['main_category_en'].replace(my_map_2)\n",
    "data.loc[new_vals.index, 'Category'] = new_vals"
   ]
  },
  {
   "cell_type": "markdown",
   "metadata": {},
   "source": [
    "Here is the new 'Category' field."
   ]
  },
  {
   "cell_type": "code",
   "execution_count": 10,
   "metadata": {},
   "outputs": [
    {
     "data": {
      "text/plain": [
       "Unknown              122881\n",
       "Snacks                37054\n",
       "Beverages             18255\n",
       "Dairies               17948\n",
       "Composite             14686\n",
       "Starchy               14612\n",
       "Fish Meat Eggs        14073\n",
       "Fruits Vegetables     12632\n",
       "Fat Sauces            11427\n",
       "Name: Category, dtype: int64"
      ]
     },
     "execution_count": 10,
     "metadata": {},
     "output_type": "execute_result"
    }
   ],
   "source": [
    "data['Category'].value_counts()"
   ]
  },
  {
   "cell_type": "markdown",
   "metadata": {},
   "source": [
    "Now the `Plant based food and beverages category` is used to create a new field called `Veggie`."
   ]
  },
  {
   "cell_type": "code",
   "execution_count": 11,
   "metadata": {},
   "outputs": [],
   "source": [
    "data['Veggie'] = data['main_category_en'] == 'Plant-based foods and beverages'"
   ]
  },
  {
   "cell_type": "markdown",
   "metadata": {},
   "source": [
    "The veggie fields from `Category` are also added:"
   ]
  },
  {
   "cell_type": "code",
   "execution_count": 12,
   "metadata": {},
   "outputs": [],
   "source": [
    "data['Veggie'] = data['Veggie'] | (data['Category'] == 'Fruits Vegetables')\n",
    "data['Veggie'] = data['Veggie'] | (data['Category'] == 'Starchy')"
   ]
  },
  {
   "cell_type": "code",
   "execution_count": 13,
   "metadata": {},
   "outputs": [
    {
     "data": {
      "text/plain": [
       "False    658551\n",
       "True      39926\n",
       "Name: Veggie, dtype: int64"
      ]
     },
     "execution_count": 13,
     "metadata": {},
     "output_type": "execute_result"
    }
   ],
   "source": [
    "data['Veggie'].value_counts()"
   ]
  },
  {
   "cell_type": "markdown",
   "metadata": {},
   "source": [
    "Notice that the `False` value doesn't mean that an entry is not veggie."
   ]
  },
  {
   "cell_type": "markdown",
   "metadata": {},
   "source": [
    "# Nutri-Score"
   ]
  },
  {
   "cell_type": "markdown",
   "metadata": {},
   "source": [
    "The Nutri-Score system was developped after Article 14 of the Modernisation Law for the health system, dated 26 January 2016, required the french authorities to recommend a front-of-pack system of labelling that would be simple and accessible for all. \n",
    "The new system includes a colour coded scheme, ranging from green to orange, associated with letters from A to E. Productes designated with an 'A' have the best nutritional quality, while products designated with an E have poorer nutritional quality."
   ]
  },
  {
   "cell_type": "markdown",
   "metadata": {},
   "source": [
    "## Points A"
   ]
  },
  {
   "cell_type": "markdown",
   "metadata": {},
   "source": [
    "| Points | Energy (kJ) | Fat (g) | Sugar (g) | Sodium (mg) |\n",
    "|:------:|:-----------:|:-------:|:---------:|:-----------:|\n",
    "|    0   |    <=335    |   <=1   |   <=4.5   |     <=90    |\n",
    "|    1   |     >335    |    >1   |    >4.5   |     >90     |\n",
    "|    2   |     >670    |    >2   |     >9    |     >180    |\n",
    "|    3   |    >1005    |    >3   |   >13.5   |     >270    |\n",
    "|    4   |    >1340    |    >4   |    >18    |     >360    |\n",
    "|    5   |    >1675    |    >5   |   >22.5   |     >450    |\n",
    "|    6   |    >2010    |    >6   |    >27    |     >540    |\n",
    "|    7   |    >2345    |    >7   |    >31    |     >630    |\n",
    "|    8   |    >2680    |    >8   |    >36    |     >720    |\n",
    "|    9   |    >3015    |    >9   |    >40    |     >810    |\n",
    "|   10   |    >3350    |   >10   |    >45    |     >900    |"
   ]
  },
  {
   "cell_type": "markdown",
   "metadata": {},
   "source": [
    "## Points C"
   ]
  },
  {
   "cell_type": "markdown",
   "metadata": {},
   "source": [
    "| Points | Fruits Vegetables Nuts (%) | Fiber (g) | Proteins (g) |\n",
    "|:------:|:--------------------------:|:---------:|:------------:|\n",
    "|    0   |            <=40            |   <=0.9   |     <=1.6    |\n",
    "|    1   |             >40            |    >0.9   |     >1.6     |\n",
    "|    2   |             >60            |    >1.9   |     >3.2     |\n",
    "|    3   |              -             |    >2.8   |     >4.8     |\n",
    "|    4   |              -             |    >3.7   |     >6.4     |\n",
    "|    5   |             >80            |    >4.7   |     >8.0     |"
   ]
  },
  {
   "cell_type": "markdown",
   "metadata": {},
   "source": [
    "## Nutri-Score Computation\n",
    "  * If `points A` < 11, then `score` = `points A` - `points C`\n",
    "  * If `points A` >= 11:\n",
    "      * If `points(Fruits/Vegetables/Nuts)` = 5, then `score` = `points(A)` - `points(C)`\n",
    "      * If `points(Fruits/Vegetables/Nuts)` < 5, then `score` = `points(A)` - (`points(Fiber)` + `points(Fruits/Vegetables/Nuts)`)"
   ]
  },
  {
   "cell_type": "markdown",
   "metadata": {},
   "source": [
    "## Letters Thresholds\n",
    "### Solid Food\n",
    "  * A: until -1\n",
    "  * B: from 0 to 2\n",
    "  * C: from 3 to 10\n",
    "  * D: from 11 to 18\n",
    "  * E: 19 and more\n",
    "  \n",
    "### Beverages \n",
    "  * A: mineral and spring water\n",
    "  * B: until 1\n",
    "  * C: from 2 to 5\n",
    "  * D: from 6 to 9\n",
    "  * E: 10 and more"
   ]
  },
  {
   "cell_type": "markdown",
   "metadata": {},
   "source": [
    "## Warning\n",
    "When fiber content is not present, its eventual positive contribution is not taken into account.\n",
    "\n",
    "Percentages corresponding to Fruits/Vegetables/Nuts are mainly missing from the packaging. \n",
    "It will be derived from other products as follows:\n",
    "  * 100% : Fruit Juices\n",
    "  * 90% : Fruit Compote\n",
    "  * 85% : Vegetables\n",
    "  * 50% : Jams\n",
    "  \n",
    "Tubers are not considered as vegetables for the nutri-score."
   ]
  },
  {
   "cell_type": "code",
   "execution_count": 14,
   "metadata": {
    "scrolled": true
   },
   "outputs": [
    {
     "name": "stderr",
     "output_type": "stream",
     "text": [
      "/home/painguin/anaconda3/lib/python3.6/site-packages/pandas/core/generic.py:5430: SettingWithCopyWarning: \n",
      "A value is trying to be set on a copy of a slice from a DataFrame\n",
      "\n",
      "See the caveats in the documentation: http://pandas.pydata.org/pandas-docs/stable/indexing.html#indexing-view-versus-copy\n",
      "  self._update_inplace(new_data)\n"
     ]
    }
   ],
   "source": [
    "data[(data['main_category_en'] == 'Fruit juices')]['fruits-vegetables-nuts_100g'].fillna(100, inplace=True)"
   ]
  },
  {
   "cell_type": "code",
   "execution_count": 15,
   "metadata": {},
   "outputs": [],
   "source": [
    "beverages = data.query('Category == \"Beverages\"')"
   ]
  },
  {
   "cell_type": "markdown",
   "metadata": {},
   "source": [
    "#### Compute points A"
   ]
  },
  {
   "cell_type": "code",
   "execution_count": 16,
   "metadata": {},
   "outputs": [],
   "source": [
    "# energy\n",
    "energy_bins = [data['energy_100g'].min() - 1, 335, 670, 1005, 1340, 1675, 2010, 2345, 2680, 3015, 3350, data['energy_100g'].max()]\n",
    "data['energy_points'] = pd.cut(data['energy_100g'], energy_bins, labels=range(11)).astype(float)\n",
    "\n",
    "# energy for beverages\n",
    "#bev_energy_bins = [beverages['energy_100g'].min() - 1, 0, 30, 60, 90, 120, 150, 180, 210, 240, 270, beverages['energy_100g'].max()]\n",
    "#bev_energy_points = pd.cut(beverages['energy_100g'], bev_energy_bins, labels=range(11), include_lowest=True)\n",
    "#data['energy_points'][bev_energy_points.index] = bev_energy_points\n",
    "\n",
    "# fat\n",
    "fat_bins = [data['fat_100g'].min() - 1, 1, 2, 3, 4, 5, 6, 7, 8, 9, 10, data['fat_100g'].max()]\n",
    "data['fat_points'] = pd.cut(data['fat_100g'], fat_bins, labels=range(11)).astype(float)\n",
    "\n",
    "# sugar\n",
    "sugar_bins = [data['sugars_100g'].min() - 1, 4.5, 9, 13.5, 18, 22.5, 27, 31, 36, 40, 45, data['sugars_100g'].max()]\n",
    "data['sugar_points'] = pd.cut(data['sugars_100g'], sugar_bins, labels=range(11)).astype(float)\n",
    "\n",
    "# sugar for beverages\n",
    "#bev_sugar_bins = [beverages['sugars_100g'].min() - 1, 0, 1.5, 3, 4.5, 6, 7.5, 9, 10.5, 12, 13.5, beverages['sugars_100g'].max()]\n",
    "#bev_sugar_points = pd.cut(beverages['sugars_100g'], bev_sugar_bins, labels=range(11))\n",
    "#data['sugar_points'][bev_sugar_points.index] = bev_sugar_points\n",
    "\n",
    "# sodium\n",
    "sodium_bins = [data['sodium_100g'].min() - 1, 90, 180, 270, 360, 450, 540, 630, 720, 810, 900, data['sodium_100g'].max()]\n",
    "data['sodium_points'] = pd.cut(data['sodium_100g'], sodium_bins, labels=range(11)).astype(float)\n",
    "\n",
    "data['points_A'] = data['energy_points'] + data['fat_points'] + data['sugar_points'] + data['sodium_points']"
   ]
  },
  {
   "cell_type": "markdown",
   "metadata": {},
   "source": [
    "#### Compute points C"
   ]
  },
  {
   "cell_type": "code",
   "execution_count": 17,
   "metadata": {},
   "outputs": [],
   "source": [
    "# fruits-vegetables-nuts\n",
    "fvn_bins = [data['fruits-vegetables-nuts_100g'].min() - 1, 40, 60, 80, data['fruits-vegetables-nuts_100g'].max()]\n",
    "data['fvn_points'] = pd.cut(data['fruits-vegetables-nuts_100g'], fvn_bins, labels=[0,1,2,5]).astype(float)\n",
    "\n",
    "# fruits-vegetables-nuts for beverages\n",
    "#bev_fvn_bins = [beverages['fruits-vegetables-nuts_100g'].min() - 1, 40, 60, 80, beverages['fruits-vegetables-nuts_100g'].max()]\n",
    "#bev_fvn_points = pd.cut(beverages['fruits-vegetables-nuts_100g'], bev_fvn_bins, labels=[0,2,4,10])\n",
    "#data['fvn_points'][bev_fvn_points.index] = bev_fvn_points\n",
    "data['fvn_points'].fillna(0, inplace=True)\n",
    "\n",
    "# fiber\n",
    "fiber_bins = [data['fiber_100g'].min() - 1, 0.9, 1.9, 2.8, 3.7, 4.7, data['fiber_100g'].max()]\n",
    "data['fiber_points'] = pd.cut(data['fiber_100g'], fiber_bins, labels=range(6)).astype(float)\n",
    "data['fiber_points'].fillna(0, inplace=True)\n",
    "\n",
    "# proteins\n",
    "proteins_bins = [data['proteins_100g'].min() - 1, 1.6, 3.2, 4.8, 6.4, 8.0, data['proteins_100g'].max()]\n",
    "data['proteins_points'] = pd.cut(data['proteins_100g'], proteins_bins, labels=range(6)).astype(float)\n",
    "\n",
    "data['points_C'] = (data['fvn_points'] + data['fiber_points'] + data['proteins_points'])\n",
    "data['points_C'].fillna(0, inplace=True)"
   ]
  },
  {
   "cell_type": "markdown",
   "metadata": {},
   "source": [
    "#### Compute nutri-score"
   ]
  },
  {
   "cell_type": "markdown",
   "metadata": {},
   "source": [
    "We first compute the nutri-score based on the rules formula mentioned ahead."
   ]
  },
  {
   "cell_type": "code",
   "execution_count": 18,
   "metadata": {},
   "outputs": [],
   "source": [
    "def compute_score(row):\n",
    "    A = row['points_A']\n",
    "    C = row['points_C']\n",
    "    fvn = row['fvn_points']\n",
    "    fiber = row['fiber_points']\n",
    "    if A < 11 or fvn == 5:\n",
    "        return A - C\n",
    "    else:\n",
    "        return A - (fiber + fvn)"
   ]
  },
  {
   "cell_type": "code",
   "execution_count": 19,
   "metadata": {},
   "outputs": [],
   "source": [
    "data['nutri-score'] = data.apply(compute_score, axis=1)"
   ]
  },
  {
   "cell_type": "code",
   "execution_count": 20,
   "metadata": {
    "scrolled": false
   },
   "outputs": [
    {
     "data": {
      "text/plain": [
       "<matplotlib.axes._subplots.AxesSubplot at 0x7f70a80ca240>"
      ]
     },
     "execution_count": 20,
     "metadata": {},
     "output_type": "execute_result"
    },
    {
     "data": {
      "image/png": "[encoded data removed]",
      "text/plain": [
       "<Figure size 432x288 with 1 Axes>"
      ]
     },
     "metadata": {},
     "output_type": "display_data"
    }
   ],
   "source": [
    "data['nutri-score'].hist(bins=int(data['nutri-score'].max() - data['nutri-score'].min() + 1))"
   ]
  },
  {
   "cell_type": "code",
   "execution_count": 21,
   "metadata": {},
   "outputs": [
    {
     "data": {
      "text/plain": [
       "<matplotlib.axes._subplots.AxesSubplot at 0x7f70b6f8cc18>"
      ]
     },
     "execution_count": 21,
     "metadata": {},
     "output_type": "execute_result"
    },
    {
     "data": {
      "image/png": "[encoded data removed]",
      "text/plain": [
       "<Figure size 432x288 with 1 Axes>"
      ]
     },
     "metadata": {},
     "output_type": "display_data"
    }
   ],
   "source": [
    "data.plot.scatter('nutrition-score-uk_100g', 'nutri-score')"
   ]
  },
  {
   "cell_type": "markdown",
   "metadata": {},
   "source": [
    "Now we assign the letter corresponding to the nutri-score."
   ]
  },
  {
   "cell_type": "code",
   "execution_count": 22,
   "metadata": {},
   "outputs": [],
   "source": [
    "def nutri_score_letter(row):\n",
    "    nutri_score = row['nutri-score']\n",
    "    product_name = row['product_name']\n",
    "    \n",
    "    # check if nutri_score is nan\n",
    "    if nutri_score != nutri_score:\n",
    "        return np.nan\n",
    "    \n",
    "    if row['Category'] == 'Beverages':\n",
    "        if nutri_score <= 1:\n",
    "            return 'B'\n",
    "        elif nutri_score <= 5:\n",
    "            return 'C'\n",
    "        elif nutri_score <= 9:\n",
    "            return 'D'\n",
    "        else:\n",
    "            return 'E'\n",
    "    else:\n",
    "        if nutri_score <= -1:\n",
    "            return 'A'\n",
    "        elif nutri_score <= 2:\n",
    "            return 'B'\n",
    "        elif nutri_score <= 10:\n",
    "            return 'C'\n",
    "        elif nutri_score <= 18:\n",
    "            return 'D'\n",
    "        else:\n",
    "            return 'E'"
   ]
  },
  {
   "cell_type": "code",
   "execution_count": 23,
   "metadata": {},
   "outputs": [],
   "source": [
    "data['nutri-score_letter'] = data.apply(nutri_score_letter, axis=1)"
   ]
  },
  {
   "cell_type": "markdown",
   "metadata": {},
   "source": [
    "### Analyse the nutri-score across the categories"
   ]
  },
  {
   "cell_type": "code",
   "execution_count": 24,
   "metadata": {
    "scrolled": true
   },
   "outputs": [
    {
     "data": {
      "text/html": [
       "<div>\n",
       "<style scoped>\n",
       "    .dataframe tbody tr th:only-of-type {\n",
       "        vertical-align: middle;\n",
       "    }\n",
       "\n",
       "    .dataframe tbody tr th {\n",
       "        vertical-align: top;\n",
       "    }\n",
       "\n",
       "    .dataframe thead th {\n",
       "        text-align: right;\n",
       "    }\n",
       "</style>\n",
       "<table border=\"1\" class=\"dataframe\">\n",
       "  <thead>\n",
       "    <tr style=\"text-align: right;\">\n",
       "      <th></th>\n",
       "      <th></th>\n",
       "      <th>nutri-score</th>\n",
       "    </tr>\n",
       "    <tr>\n",
       "      <th>Category</th>\n",
       "      <th>nutri-score_letter</th>\n",
       "      <th></th>\n",
       "    </tr>\n",
       "  </thead>\n",
       "  <tbody>\n",
       "    <tr>\n",
       "      <th rowspan=\"4\" valign=\"top\">Beverages</th>\n",
       "      <th>B</th>\n",
       "      <td>5317</td>\n",
       "    </tr>\n",
       "    <tr>\n",
       "      <th>C</th>\n",
       "      <td>4425</td>\n",
       "    </tr>\n",
       "    <tr>\n",
       "      <th>D</th>\n",
       "      <td>84</td>\n",
       "    </tr>\n",
       "    <tr>\n",
       "      <th>E</th>\n",
       "      <td>1760</td>\n",
       "    </tr>\n",
       "    <tr>\n",
       "      <th rowspan=\"5\" valign=\"top\">Composite</th>\n",
       "      <th>A</th>\n",
       "      <td>2249</td>\n",
       "    </tr>\n",
       "    <tr>\n",
       "      <th>B</th>\n",
       "      <td>3343</td>\n",
       "    </tr>\n",
       "    <tr>\n",
       "      <th>C</th>\n",
       "      <td>4271</td>\n",
       "    </tr>\n",
       "    <tr>\n",
       "      <th>D</th>\n",
       "      <td>3705</td>\n",
       "    </tr>\n",
       "    <tr>\n",
       "      <th>E</th>\n",
       "      <td>12</td>\n",
       "    </tr>\n",
       "    <tr>\n",
       "      <th rowspan=\"5\" valign=\"top\">Dairies</th>\n",
       "      <th>A</th>\n",
       "      <td>1051</td>\n",
       "    </tr>\n",
       "    <tr>\n",
       "      <th>B</th>\n",
       "      <td>2742</td>\n",
       "    </tr>\n",
       "    <tr>\n",
       "      <th>C</th>\n",
       "      <td>4305</td>\n",
       "    </tr>\n",
       "    <tr>\n",
       "      <th>D</th>\n",
       "      <td>7547</td>\n",
       "    </tr>\n",
       "    <tr>\n",
       "      <th>E</th>\n",
       "      <td>346</td>\n",
       "    </tr>\n",
       "    <tr>\n",
       "      <th rowspan=\"5\" valign=\"top\">Fat Sauces</th>\n",
       "      <th>A</th>\n",
       "      <td>374</td>\n",
       "    </tr>\n",
       "    <tr>\n",
       "      <th>B</th>\n",
       "      <td>979</td>\n",
       "    </tr>\n",
       "    <tr>\n",
       "      <th>C</th>\n",
       "      <td>1967</td>\n",
       "    </tr>\n",
       "    <tr>\n",
       "      <th>D</th>\n",
       "      <td>3322</td>\n",
       "    </tr>\n",
       "    <tr>\n",
       "      <th>E</th>\n",
       "      <td>3283</td>\n",
       "    </tr>\n",
       "    <tr>\n",
       "      <th rowspan=\"5\" valign=\"top\">Fish Meat Eggs</th>\n",
       "      <th>A</th>\n",
       "      <td>2804</td>\n",
       "    </tr>\n",
       "    <tr>\n",
       "      <th>B</th>\n",
       "      <td>871</td>\n",
       "    </tr>\n",
       "    <tr>\n",
       "      <th>C</th>\n",
       "      <td>981</td>\n",
       "    </tr>\n",
       "    <tr>\n",
       "      <th>D</th>\n",
       "      <td>6909</td>\n",
       "    </tr>\n",
       "    <tr>\n",
       "      <th>E</th>\n",
       "      <td>33</td>\n",
       "    </tr>\n",
       "    <tr>\n",
       "      <th rowspan=\"5\" valign=\"top\">Fruits Vegetables</th>\n",
       "      <th>A</th>\n",
       "      <td>3474</td>\n",
       "    </tr>\n",
       "    <tr>\n",
       "      <th>B</th>\n",
       "      <td>3273</td>\n",
       "    </tr>\n",
       "    <tr>\n",
       "      <th>C</th>\n",
       "      <td>1544</td>\n",
       "    </tr>\n",
       "    <tr>\n",
       "      <th>D</th>\n",
       "      <td>793</td>\n",
       "    </tr>\n",
       "    <tr>\n",
       "      <th>E</th>\n",
       "      <td>144</td>\n",
       "    </tr>\n",
       "    <tr>\n",
       "      <th rowspan=\"5\" valign=\"top\">Snacks</th>\n",
       "      <th>A</th>\n",
       "      <td>196</td>\n",
       "    </tr>\n",
       "    <tr>\n",
       "      <th>B</th>\n",
       "      <td>645</td>\n",
       "    </tr>\n",
       "    <tr>\n",
       "      <th>C</th>\n",
       "      <td>1825</td>\n",
       "    </tr>\n",
       "    <tr>\n",
       "      <th>D</th>\n",
       "      <td>14996</td>\n",
       "    </tr>\n",
       "    <tr>\n",
       "      <th>E</th>\n",
       "      <td>14889</td>\n",
       "    </tr>\n",
       "    <tr>\n",
       "      <th rowspan=\"5\" valign=\"top\">Starchy</th>\n",
       "      <th>A</th>\n",
       "      <td>5012</td>\n",
       "    </tr>\n",
       "    <tr>\n",
       "      <th>B</th>\n",
       "      <td>2921</td>\n",
       "    </tr>\n",
       "    <tr>\n",
       "      <th>C</th>\n",
       "      <td>2205</td>\n",
       "    </tr>\n",
       "    <tr>\n",
       "      <th>D</th>\n",
       "      <td>2440</td>\n",
       "    </tr>\n",
       "    <tr>\n",
       "      <th>E</th>\n",
       "      <td>168</td>\n",
       "    </tr>\n",
       "    <tr>\n",
       "      <th rowspan=\"5\" valign=\"top\">Unknown</th>\n",
       "      <th>A</th>\n",
       "      <td>14199</td>\n",
       "    </tr>\n",
       "    <tr>\n",
       "      <th>B</th>\n",
       "      <td>22690</td>\n",
       "    </tr>\n",
       "    <tr>\n",
       "      <th>C</th>\n",
       "      <td>17243</td>\n",
       "    </tr>\n",
       "    <tr>\n",
       "      <th>D</th>\n",
       "      <td>38819</td>\n",
       "    </tr>\n",
       "    <tr>\n",
       "      <th>E</th>\n",
       "      <td>12484</td>\n",
       "    </tr>\n",
       "  </tbody>\n",
       "</table>\n",
       "</div>"
      ],
      "text/plain": [
       "                                      nutri-score\n",
       "Category          nutri-score_letter             \n",
       "Beverages         B                          5317\n",
       "                  C                          4425\n",
       "                  D                            84\n",
       "                  E                          1760\n",
       "Composite         A                          2249\n",
       "                  B                          3343\n",
       "                  C                          4271\n",
       "                  D                          3705\n",
       "                  E                            12\n",
       "Dairies           A                          1051\n",
       "                  B                          2742\n",
       "                  C                          4305\n",
       "                  D                          7547\n",
       "                  E                           346\n",
       "Fat Sauces        A                           374\n",
       "                  B                           979\n",
       "                  C                          1967\n",
       "                  D                          3322\n",
       "                  E                          3283\n",
       "Fish Meat Eggs    A                          2804\n",
       "                  B                           871\n",
       "                  C                           981\n",
       "                  D                          6909\n",
       "                  E                            33\n",
       "Fruits Vegetables A                          3474\n",
       "                  B                          3273\n",
       "                  C                          1544\n",
       "                  D                           793\n",
       "                  E                           144\n",
       "Snacks            A                           196\n",
       "                  B                           645\n",
       "                  C                          1825\n",
       "                  D                         14996\n",
       "                  E                         14889\n",
       "Starchy           A                          5012\n",
       "                  B                          2921\n",
       "                  C                          2205\n",
       "                  D                          2440\n",
       "                  E                           168\n",
       "Unknown           A                         14199\n",
       "                  B                         22690\n",
       "                  C                         17243\n",
       "                  D                         38819\n",
       "                  E                         12484"
      ]
     },
     "execution_count": 24,
     "metadata": {},
     "output_type": "execute_result"
    }
   ],
   "source": [
    "# Count the letter occurences for each category\n",
    "letter_counts_per_cat = data.groupby(['Category', 'nutri-score_letter']).count()[['nutri-score']]\n",
    "letter_counts_per_cat"
   ]
  },
  {
   "cell_type": "code",
   "execution_count": 25,
   "metadata": {},
   "outputs": [],
   "source": [
    "# For some categories, some letters are not represented. We add the missing rows with 0 as value.\n",
    "for cat in letter_counts_per_cat.index.levels[0]:\n",
    "    for letter in letter_counts_per_cat.index.levels[1]:\n",
    "        if (cat, letter) not in letter_counts_per_cat.index:\n",
    "            letter_counts_per_cat.loc[(cat, letter), :] = 0\n",
    "            \n",
    "letter_counts_per_cat.sort_index(inplace=True)"
   ]
  },
  {
   "cell_type": "code",
   "execution_count": 26,
   "metadata": {},
   "outputs": [],
   "source": [
    "# normalize the counts\n",
    "totals = letter_counts_per_cat.reset_index()[['Category', 'nutri-score']].groupby('Category').sum()\n",
    "score_distr_per_cat = letter_counts_per_cat / totals"
   ]
  },
  {
   "cell_type": "code",
   "execution_count": 27,
   "metadata": {},
   "outputs": [],
   "source": [
    "# colors similar to the original nutri-score ones\n",
    "nutri_score_colors = ['green', 'limegreen', 'gold', 'darkorange', 'orangered']"
   ]
  },
  {
   "cell_type": "code",
   "execution_count": 28,
   "metadata": {},
   "outputs": [
    {
     "name": "stderr",
     "output_type": "stream",
     "text": [
      "/home/painguin/anaconda3/lib/python3.6/site-packages/pandas/plotting/_core.py:194: UserWarning: 'colors' is being deprecated. Please use 'color'instead of 'colors'\n",
      "  warnings.warn((\"'colors' is being deprecated. Please use 'color'\"\n"
     ]
    },
    {
     "data": {
      "image/png": "[encoded data removed]",
      "text/plain": [
       "<Figure size 576x432 with 1 Axes>"
      ]
     },
     "metadata": {},
     "output_type": "display_data"
    }
   ],
   "source": [
    "score_distr_per_cat.drop('Unknown').reset_index().pivot(index='Category', columns='nutri-score_letter', values='nutri-score').plot.bar(stacked=True, figsize=(8,6), colors=nutri_score_colors)\n",
    "plt.legend(bbox_to_anchor=(1, 1.0))\n",
    "plt.title('Nutrition score distribution for each food category', fontsize=18);"
   ]
  },
  {
   "cell_type": "code",
   "execution_count": 29,
   "metadata": {},
   "outputs": [
    {
     "data": {
      "text/html": [
       "<div>\n",
       "<style scoped>\n",
       "    .dataframe tbody tr th:only-of-type {\n",
       "        vertical-align: middle;\n",
       "    }\n",
       "\n",
       "    .dataframe tbody tr th {\n",
       "        vertical-align: top;\n",
       "    }\n",
       "\n",
       "    .dataframe thead th {\n",
       "        text-align: right;\n",
       "    }\n",
       "</style>\n",
       "<table border=\"1\" class=\"dataframe\">\n",
       "  <thead>\n",
       "    <tr style=\"text-align: right;\">\n",
       "      <th></th>\n",
       "      <th></th>\n",
       "      <th>nutri-score</th>\n",
       "    </tr>\n",
       "    <tr>\n",
       "      <th>Category</th>\n",
       "      <th>nutri-score_letter</th>\n",
       "      <th></th>\n",
       "    </tr>\n",
       "  </thead>\n",
       "  <tbody>\n",
       "    <tr>\n",
       "      <th rowspan=\"5\" valign=\"top\">Beverages</th>\n",
       "      <th>A</th>\n",
       "      <td>0.0</td>\n",
       "    </tr>\n",
       "    <tr>\n",
       "      <th>B</th>\n",
       "      <td>5317.0</td>\n",
       "    </tr>\n",
       "    <tr>\n",
       "      <th>C</th>\n",
       "      <td>4425.0</td>\n",
       "    </tr>\n",
       "    <tr>\n",
       "      <th>D</th>\n",
       "      <td>84.0</td>\n",
       "    </tr>\n",
       "    <tr>\n",
       "      <th>E</th>\n",
       "      <td>1760.0</td>\n",
       "    </tr>\n",
       "    <tr>\n",
       "      <th rowspan=\"5\" valign=\"top\">Composite</th>\n",
       "      <th>A</th>\n",
       "      <td>2249.0</td>\n",
       "    </tr>\n",
       "    <tr>\n",
       "      <th>B</th>\n",
       "      <td>3343.0</td>\n",
       "    </tr>\n",
       "    <tr>\n",
       "      <th>C</th>\n",
       "      <td>4271.0</td>\n",
       "    </tr>\n",
       "    <tr>\n",
       "      <th>D</th>\n",
       "      <td>3705.0</td>\n",
       "    </tr>\n",
       "    <tr>\n",
       "      <th>E</th>\n",
       "      <td>12.0</td>\n",
       "    </tr>\n",
       "    <tr>\n",
       "      <th rowspan=\"5\" valign=\"top\">Dairies</th>\n",
       "      <th>A</th>\n",
       "      <td>1051.0</td>\n",
       "    </tr>\n",
       "    <tr>\n",
       "      <th>B</th>\n",
       "      <td>2742.0</td>\n",
       "    </tr>\n",
       "    <tr>\n",
       "      <th>C</th>\n",
       "      <td>4305.0</td>\n",
       "    </tr>\n",
       "    <tr>\n",
       "      <th>D</th>\n",
       "      <td>7547.0</td>\n",
       "    </tr>\n",
       "    <tr>\n",
       "      <th>E</th>\n",
       "      <td>346.0</td>\n",
       "    </tr>\n",
       "    <tr>\n",
       "      <th rowspan=\"5\" valign=\"top\">Fat Sauces</th>\n",
       "      <th>A</th>\n",
       "      <td>374.0</td>\n",
       "    </tr>\n",
       "    <tr>\n",
       "      <th>B</th>\n",
       "      <td>979.0</td>\n",
       "    </tr>\n",
       "    <tr>\n",
       "      <th>C</th>\n",
       "      <td>1967.0</td>\n",
       "    </tr>\n",
       "    <tr>\n",
       "      <th>D</th>\n",
       "      <td>3322.0</td>\n",
       "    </tr>\n",
       "    <tr>\n",
       "      <th>E</th>\n",
       "      <td>3283.0</td>\n",
       "    </tr>\n",
       "    <tr>\n",
       "      <th rowspan=\"5\" valign=\"top\">Fish Meat Eggs</th>\n",
       "      <th>A</th>\n",
       "      <td>2804.0</td>\n",
       "    </tr>\n",
       "    <tr>\n",
       "      <th>B</th>\n",
       "      <td>871.0</td>\n",
       "    </tr>\n",
       "    <tr>\n",
       "      <th>C</th>\n",
       "      <td>981.0</td>\n",
       "    </tr>\n",
       "    <tr>\n",
       "      <th>D</th>\n",
       "      <td>6909.0</td>\n",
       "    </tr>\n",
       "    <tr>\n",
       "      <th>E</th>\n",
       "      <td>33.0</td>\n",
       "    </tr>\n",
       "    <tr>\n",
       "      <th rowspan=\"5\" valign=\"top\">Fruits Vegetables</th>\n",
       "      <th>A</th>\n",
       "      <td>3474.0</td>\n",
       "    </tr>\n",
       "    <tr>\n",
       "      <th>B</th>\n",
       "      <td>3273.0</td>\n",
       "    </tr>\n",
       "    <tr>\n",
       "      <th>C</th>\n",
       "      <td>1544.0</td>\n",
       "    </tr>\n",
       "    <tr>\n",
       "      <th>D</th>\n",
       "      <td>793.0</td>\n",
       "    </tr>\n",
       "    <tr>\n",
       "      <th>E</th>\n",
       "      <td>144.0</td>\n",
       "    </tr>\n",
       "    <tr>\n",
       "      <th rowspan=\"5\" valign=\"top\">Snacks</th>\n",
       "      <th>A</th>\n",
       "      <td>196.0</td>\n",
       "    </tr>\n",
       "    <tr>\n",
       "      <th>B</th>\n",
       "      <td>645.0</td>\n",
       "    </tr>\n",
       "    <tr>\n",
       "      <th>C</th>\n",
       "      <td>1825.0</td>\n",
       "    </tr>\n",
       "    <tr>\n",
       "      <th>D</th>\n",
       "      <td>14996.0</td>\n",
       "    </tr>\n",
       "    <tr>\n",
       "      <th>E</th>\n",
       "      <td>14889.0</td>\n",
       "    </tr>\n",
       "    <tr>\n",
       "      <th rowspan=\"5\" valign=\"top\">Starchy</th>\n",
       "      <th>A</th>\n",
       "      <td>5012.0</td>\n",
       "    </tr>\n",
       "    <tr>\n",
       "      <th>B</th>\n",
       "      <td>2921.0</td>\n",
       "    </tr>\n",
       "    <tr>\n",
       "      <th>C</th>\n",
       "      <td>2205.0</td>\n",
       "    </tr>\n",
       "    <tr>\n",
       "      <th>D</th>\n",
       "      <td>2440.0</td>\n",
       "    </tr>\n",
       "    <tr>\n",
       "      <th>E</th>\n",
       "      <td>168.0</td>\n",
       "    </tr>\n",
       "    <tr>\n",
       "      <th rowspan=\"5\" valign=\"top\">Unknown</th>\n",
       "      <th>A</th>\n",
       "      <td>14199.0</td>\n",
       "    </tr>\n",
       "    <tr>\n",
       "      <th>B</th>\n",
       "      <td>22690.0</td>\n",
       "    </tr>\n",
       "    <tr>\n",
       "      <th>C</th>\n",
       "      <td>17243.0</td>\n",
       "    </tr>\n",
       "    <tr>\n",
       "      <th>D</th>\n",
       "      <td>38819.0</td>\n",
       "    </tr>\n",
       "    <tr>\n",
       "      <th>E</th>\n",
       "      <td>12484.0</td>\n",
       "    </tr>\n",
       "  </tbody>\n",
       "</table>\n",
       "</div>"
      ],
      "text/plain": [
       "                                      nutri-score\n",
       "Category          nutri-score_letter             \n",
       "Beverages         A                           0.0\n",
       "                  B                        5317.0\n",
       "                  C                        4425.0\n",
       "                  D                          84.0\n",
       "                  E                        1760.0\n",
       "Composite         A                        2249.0\n",
       "                  B                        3343.0\n",
       "                  C                        4271.0\n",
       "                  D                        3705.0\n",
       "                  E                          12.0\n",
       "Dairies           A                        1051.0\n",
       "                  B                        2742.0\n",
       "                  C                        4305.0\n",
       "                  D                        7547.0\n",
       "                  E                         346.0\n",
       "Fat Sauces        A                         374.0\n",
       "                  B                         979.0\n",
       "                  C                        1967.0\n",
       "                  D                        3322.0\n",
       "                  E                        3283.0\n",
       "Fish Meat Eggs    A                        2804.0\n",
       "                  B                         871.0\n",
       "                  C                         981.0\n",
       "                  D                        6909.0\n",
       "                  E                          33.0\n",
       "Fruits Vegetables A                        3474.0\n",
       "                  B                        3273.0\n",
       "                  C                        1544.0\n",
       "                  D                         793.0\n",
       "                  E                         144.0\n",
       "Snacks            A                         196.0\n",
       "                  B                         645.0\n",
       "                  C                        1825.0\n",
       "                  D                       14996.0\n",
       "                  E                       14889.0\n",
       "Starchy           A                        5012.0\n",
       "                  B                        2921.0\n",
       "                  C                        2205.0\n",
       "                  D                        2440.0\n",
       "                  E                         168.0\n",
       "Unknown           A                       14199.0\n",
       "                  B                       22690.0\n",
       "                  C                       17243.0\n",
       "                  D                       38819.0\n",
       "                  E                       12484.0"
      ]
     },
     "execution_count": 29,
     "metadata": {},
     "output_type": "execute_result"
    }
   ],
   "source": [
    "letter_counts_per_cat"
   ]
  },
  {
   "cell_type": "code",
   "execution_count": 30,
   "metadata": {},
   "outputs": [
    {
     "data": {
      "text/plain": [
       "<matplotlib.axes._subplots.AxesSubplot at 0x7f709a12d780>"
      ]
     },
     "execution_count": 30,
     "metadata": {},
     "output_type": "execute_result"
    },
    {
     "data": {
      "image/png": "[encoded data removed]",
      "text/plain": [
       "<Figure size 936x1872 with 8 Axes>"
      ]
     },
     "metadata": {},
     "output_type": "display_data"
    }
   ],
   "source": [
    "plt.figure(figsize=(13, 26))\n",
    "letter_counts_per_cat.loc['Beverages'].plot.pie('nutri-score', ax=plt.subplot(421), title='Beverages', colors=nutri_score_colors)\n",
    "letter_counts_per_cat.loc['Composite'].plot.pie('nutri-score', ax=plt.subplot(422), title='Composite', colors=nutri_score_colors)\n",
    "letter_counts_per_cat.loc['Dairies'].plot.pie('nutri-score', ax=plt.subplot(423), title='Dairies', colors=nutri_score_colors)\n",
    "letter_counts_per_cat.loc['Fat Sauces'].plot.pie('nutri-score', ax=plt.subplot(424), title='Fat sauces', colors=nutri_score_colors)\n",
    "letter_counts_per_cat.loc['Fish Meat Eggs'].plot.pie('nutri-score', ax=plt.subplot(425), title='Fish, Meat, Eggs', colors=nutri_score_colors)\n",
    "letter_counts_per_cat.loc['Fruits Vegetables'].plot.pie('nutri-score', ax=plt.subplot(426), title='Fruits and Vegetables', colors=nutri_score_colors)\n",
    "letter_counts_per_cat.loc['Snacks'].plot.pie('nutri-score', ax=plt.subplot(427), title='Snacks', colors=nutri_score_colors)\n",
    "letter_counts_per_cat.loc['Starchy'].plot.pie('nutri-score', ax=plt.subplot(428), title='Starchy', colors=nutri_score_colors)"
   ]
  },
  {
   "cell_type": "code",
   "execution_count": 31,
   "metadata": {},
   "outputs": [
    {
     "data": {
      "text/html": [
       "<div>\n",
       "<style scoped>\n",
       "    .dataframe tbody tr th:only-of-type {\n",
       "        vertical-align: middle;\n",
       "    }\n",
       "\n",
       "    .dataframe tbody tr th {\n",
       "        vertical-align: top;\n",
       "    }\n",
       "\n",
       "    .dataframe thead th {\n",
       "        text-align: right;\n",
       "    }\n",
       "</style>\n",
       "<table border=\"1\" class=\"dataframe\">\n",
       "  <thead>\n",
       "    <tr style=\"text-align: right;\">\n",
       "      <th></th>\n",
       "      <th>nutri-score</th>\n",
       "    </tr>\n",
       "    <tr>\n",
       "      <th>Category</th>\n",
       "      <th></th>\n",
       "    </tr>\n",
       "  </thead>\n",
       "  <tbody>\n",
       "    <tr>\n",
       "      <th>Beverages</th>\n",
       "      <td>3.280511</td>\n",
       "    </tr>\n",
       "    <tr>\n",
       "      <th>Composite</th>\n",
       "      <td>4.931075</td>\n",
       "    </tr>\n",
       "    <tr>\n",
       "      <th>Dairies</th>\n",
       "      <td>8.300419</td>\n",
       "    </tr>\n",
       "    <tr>\n",
       "      <th>Fat Sauces</th>\n",
       "      <td>12.615013</td>\n",
       "    </tr>\n",
       "    <tr>\n",
       "      <th>Fish Meat Eggs</th>\n",
       "      <td>7.548370</td>\n",
       "    </tr>\n",
       "    <tr>\n",
       "      <th>Fruits Vegetables</th>\n",
       "      <td>1.669701</td>\n",
       "    </tr>\n",
       "    <tr>\n",
       "      <th>Snacks</th>\n",
       "      <td>17.427084</td>\n",
       "    </tr>\n",
       "    <tr>\n",
       "      <th>Starchy</th>\n",
       "      <td>2.972776</td>\n",
       "    </tr>\n",
       "    <tr>\n",
       "      <th>Unknown</th>\n",
       "      <td>8.478769</td>\n",
       "    </tr>\n",
       "  </tbody>\n",
       "</table>\n",
       "</div>"
      ],
      "text/plain": [
       "                   nutri-score\n",
       "Category                      \n",
       "Beverages             3.280511\n",
       "Composite             4.931075\n",
       "Dairies               8.300419\n",
       "Fat Sauces           12.615013\n",
       "Fish Meat Eggs        7.548370\n",
       "Fruits Vegetables     1.669701\n",
       "Snacks               17.427084\n",
       "Starchy               2.972776\n",
       "Unknown               8.478769"
      ]
     },
     "execution_count": 31,
     "metadata": {},
     "output_type": "execute_result"
    }
   ],
   "source": [
    "score_mean_by_category = data[['Category', 'nutri-score']].groupby('Category').mean()\n",
    "score_mean_by_category"
   ]
  },
  {
   "cell_type": "code",
   "execution_count": 32,
   "metadata": {},
   "outputs": [
    {
     "data": {
      "text/plain": [
       "<matplotlib.axes._subplots.AxesSubplot at 0x7f70a1862dd8>"
      ]
     },
     "execution_count": 32,
     "metadata": {},
     "output_type": "execute_result"
    },
    {
     "data": {
      "image/png": "[encoded data removed]",
      "text/plain": [
       "<Figure size 720x576 with 1 Axes>"
      ]
     },
     "metadata": {},
     "output_type": "display_data"
    }
   ],
   "source": [
    "plt.figure(figsize=(10,8))\n",
    "sns.barplot(score_mean_by_category['nutri-score'], score_mean_by_category.index,orient='h')"
   ]
  },
  {
   "cell_type": "code",
   "execution_count": 33,
   "metadata": {},
   "outputs": [],
   "source": [
    "carbon_mean_by_category = data[['Category', 'carbon-footprint_100g']].groupby('Category').mean()"
   ]
  },
  {
   "cell_type": "code",
   "execution_count": 34,
   "metadata": {},
   "outputs": [
    {
     "data": {
      "text/html": [
       "<div>\n",
       "<style scoped>\n",
       "    .dataframe tbody tr th:only-of-type {\n",
       "        vertical-align: middle;\n",
       "    }\n",
       "\n",
       "    .dataframe tbody tr th {\n",
       "        vertical-align: top;\n",
       "    }\n",
       "\n",
       "    .dataframe thead th {\n",
       "        text-align: right;\n",
       "    }\n",
       "</style>\n",
       "<table border=\"1\" class=\"dataframe\">\n",
       "  <thead>\n",
       "    <tr style=\"text-align: right;\">\n",
       "      <th></th>\n",
       "      <th>carbon-footprint_100g</th>\n",
       "      <th>nutri-score</th>\n",
       "    </tr>\n",
       "  </thead>\n",
       "  <tbody>\n",
       "    <tr>\n",
       "      <th>carbon-footprint_100g</th>\n",
       "      <td>1.000000</td>\n",
       "      <td>0.210482</td>\n",
       "    </tr>\n",
       "    <tr>\n",
       "      <th>nutri-score</th>\n",
       "      <td>0.210482</td>\n",
       "      <td>1.000000</td>\n",
       "    </tr>\n",
       "  </tbody>\n",
       "</table>\n",
       "</div>"
      ],
      "text/plain": [
       "                       carbon-footprint_100g  nutri-score\n",
       "carbon-footprint_100g               1.000000     0.210482\n",
       "nutri-score                         0.210482     1.000000"
      ]
     },
     "execution_count": 34,
     "metadata": {},
     "output_type": "execute_result"
    }
   ],
   "source": [
    "pd.concat((carbon_mean_by_category, score_mean_by_category), axis=1).corr()"
   ]
  },
  {
   "cell_type": "code",
   "execution_count": 35,
   "metadata": {},
   "outputs": [
    {
     "data": {
      "text/plain": [
       "array([<matplotlib.axes._subplots.AxesSubplot object at 0x7f70a998b2b0>,\n",
       "       <matplotlib.axes._subplots.AxesSubplot object at 0x7f70acdd6d30>],\n",
       "      dtype=object)"
      ]
     },
     "execution_count": 35,
     "metadata": {},
     "output_type": "execute_result"
    },
    {
     "data": {
      "image/png": "[encoded data removed]",
      "text/plain": [
       "<Figure size 576x864 with 2 Axes>"
      ]
     },
     "metadata": {},
     "output_type": "display_data"
    }
   ],
   "source": [
    "pd.concat((carbon_mean_by_category, 20*score_mean_by_category), axis=1).drop('Unknown').sort_values('nutri-score').plot.bar(subplots=True, figsize=(8, 12))"
   ]
  },
  {
   "cell_type": "code",
   "execution_count": 36,
   "metadata": {},
   "outputs": [],
   "source": [
    "countries_en_scores = {}"
   ]
  },
  {
   "cell_type": "code",
   "execution_count": 37,
   "metadata": {},
   "outputs": [],
   "source": [
    "def random_stuff(row):\n",
    "    letter = row['nutri-score_letter']\n",
    "    if letter == letter:\n",
    "        for exportator in row['countries_en'].split(','):\n",
    "            if exportator in countries_en_scores:\n",
    "                countries_en_scores[exportator] += [row['nutri-score_letter']]\n",
    "            else:\n",
    "                countries_en_scores[exportator] = [row['nutri-score_letter']]"
   ]
  },
  {
   "cell_type": "code",
   "execution_count": 38,
   "metadata": {
    "scrolled": true
   },
   "outputs": [],
   "source": [
    "data[data['countries_en'].notna()].apply(random_stuff, axis=1);"
   ]
  },
  {
   "cell_type": "code",
   "execution_count": 39,
   "metadata": {},
   "outputs": [],
   "source": [
    "threshold = 1"
   ]
  },
  {
   "cell_type": "code",
   "execution_count": 40,
   "metadata": {
    "scrolled": true
   },
   "outputs": [
    {
     "data": {
      "text/plain": [
       "{'France': Counter({'D': 141022,\n",
       "          'B': 73354,\n",
       "          'C': 56350,\n",
       "          'A': 38123,\n",
       "          'E': 57106}),\n",
       " 'United States': Counter({'D': 60224,\n",
       "          'A': 26681,\n",
       "          'C': 23917,\n",
       "          'E': 18112,\n",
       "          'B': 31413}),\n",
       " 'Canada': Counter({'D': 355, 'A': 190, 'C': 240, 'E': 136, 'B': 240}),\n",
       " 'Oman': Counter({'D': 1, 'A': 2, 'C': 2, 'B': 2, 'E': 1}),\n",
       " 'Germany': Counter({'E': 1851, 'C': 1896, 'D': 3761, 'B': 2455, 'A': 1387}),\n",
       " 'United Kingdom': Counter({'D': 1348,\n",
       "          'A': 577,\n",
       "          'E': 632,\n",
       "          'B': 718,\n",
       "          'C': 643}),\n",
       " 'Mexico': Counter({'B': 673, 'D': 665, 'A': 387, 'C': 476, 'E': 315}),\n",
       " 'Belgium': Counter({'E': 818, 'C': 895, 'A': 588, 'B': 1139, 'D': 1796}),\n",
       " 'Netherlands': Counter({'E': 143, 'C': 125, 'B': 178, 'D': 297, 'A': 128}),\n",
       " 'Australia': Counter({'E': 112, 'C': 171, 'D': 278, 'A': 122, 'B': 211}),\n",
       " 'Switzerland': Counter({'E': 2169,\n",
       "          'C': 2250,\n",
       "          'A': 1883,\n",
       "          'D': 3873,\n",
       "          'B': 2632}),\n",
       " 'Egypt': Counter({'D': 10, 'E': 1, 'C': 4}),\n",
       " 'Haiti': Counter({'C': 2}),\n",
       " 'Italy': Counter({'A': 197, 'E': 251, 'C': 278, 'D': 579, 'B': 320}),\n",
       " 'Spain': Counter({'B': 1132, 'C': 854, 'A': 916, 'E': 652, 'D': 1365}),\n",
       " 'New Zealand': Counter({'D': 40, 'C': 20, 'B': 28, 'A': 18, 'E': 14}),\n",
       " 'Saudi Arabia': Counter({'B': 7, 'D': 6, 'E': 9, 'C': 11, 'A': 2}),\n",
       " 'Iraq': Counter({'A': 1, 'B': 2, 'C': 3}),\n",
       " 'Costa Rica': Counter({'D': 4, 'B': 3, 'C': 1}),\n",
       " 'New Caledonia': Counter({'D': 32, 'E': 23, 'A': 13, 'C': 19, 'B': 31}),\n",
       " 'Sweden': Counter({'D': 392, 'B': 241, 'C': 236, 'E': 114, 'A': 149}),\n",
       " 'French Polynesia': Counter({'E': 47, 'D': 58, 'C': 66, 'B': 61, 'A': 16}),\n",
       " 'Vietnam': Counter({'B': 4, 'C': 4, 'D': 6, 'E': 2}),\n",
       " 'Singapore': Counter({'C': 7, 'E': 7, 'A': 3, 'D': 6, 'B': 6}),\n",
       " 'Thailand': Counter({'C': 14, 'B': 16, 'D': 16, 'E': 3, 'A': 2}),\n",
       " 'Greece': Counter({'C': 12, 'B': 20, 'E': 20, 'D': 26, 'A': 11}),\n",
       " 'Panama': Counter({'C': 1, 'D': 1}),\n",
       " 'Hong Kong': Counter({'B': 41, 'D': 41, 'E': 17, 'A': 19, 'C': 21}),\n",
       " 'Luxembourg': Counter({'A': 29, 'B': 40, 'D': 87, 'C': 50, 'E': 42}),\n",
       " 'Lebanon': Counter({'A': 2, 'D': 12, 'C': 3, 'B': 5, 'E': 3}),\n",
       " 'Denmark': Counter({'B': 66, 'C': 48, 'D': 115, 'A': 55, 'E': 78}),\n",
       " 'Malaysia': Counter({'B': 3, 'A': 2, 'C': 1, 'D': 4}),\n",
       " 'European Union': Counter({'E': 3, 'B': 12, 'A': 7, 'C': 5, 'D': 8}),\n",
       " 'Serbia': Counter({'E': 83, 'D': 194, 'C': 79, 'B': 94, 'A': 39}),\n",
       " 'Martinique': Counter({'C': 41, 'B': 44, 'D': 36, 'E': 16, 'A': 7}),\n",
       " 'Ireland': Counter({'E': 74, 'B': 65, 'C': 72, 'D': 128, 'A': 48}),\n",
       " 'Aruba': Counter({'C': 1, 'D': 2}),\n",
       " 'Saint Kitts and Nevis': Counter({'D': 2, 'C': 1}),\n",
       " 'El Salvador': Counter({'D': 1, 'A': 1}),\n",
       " 'Bahrain': Counter({'C': 1, 'A': 1, 'D': 2}),\n",
       " 'Colombia': Counter({'D': 11, 'C': 8, 'E': 6, 'A': 2, 'B': 1}),\n",
       " 'Taiwan': Counter({'C': 8, 'B': 21, 'A': 5, 'D': 12, 'E': 6}),\n",
       " 'United Arab Emirates': Counter({'E': 7, 'A': 5, 'B': 3, 'C': 7, 'D': 13}),\n",
       " 'Cuba': Counter({'D': 1, 'B': 4}),\n",
       " 'Portugal': Counter({'D': 215, 'B': 176, 'E': 133, 'A': 108, 'C': 97}),\n",
       " 'Kuwait': Counter({'E': 4, 'C': 1, 'B': 2}),\n",
       " 'Austria': Counter({'D': 129, 'B': 100, 'A': 55, 'C': 60, 'E': 79}),\n",
       " 'Japan': Counter({'C': 17, 'B': 18, 'D': 19, 'A': 17, 'E': 10}),\n",
       " 'Israel': Counter({'C': 5, 'D': 10, 'E': 6, 'B': 5, 'A': 1}),\n",
       " 'En': Counter({'B': 35, 'A': 45, 'D': 94, 'C': 31, 'E': 19}),\n",
       " 'Argentina': Counter({'D': 9, 'C': 5, 'E': 9, 'B': 2, 'A': 1}),\n",
       " 'Brazil': Counter({'D': 28, 'B': 9, 'C': 16, 'A': 11, 'E': 7}),\n",
       " 'Morocco': Counter({'E': 42, 'D': 41, 'B': 47, 'A': 15, 'C': 22}),\n",
       " 'Guinea': Counter({'D': 1, 'B': 1}),\n",
       " 'China': Counter({'D': 9, 'B': 5, 'C': 11, 'E': 8, 'A': 2}),\n",
       " 'Saint Pierre and Miquelon': Counter({'B': 7,\n",
       "          'C': 7,\n",
       "          'D': 12,\n",
       "          'A': 3,\n",
       "          'E': 3}),\n",
       " 'fr:quebec': Counter({'C': 7, 'B': 5, 'E': 1, 'D': 5, 'A': 2}),\n",
       " 'Czech Republic': Counter({'A': 8, 'B': 30, 'C': 15, 'D': 57, 'E': 51}),\n",
       " 'Algeria': Counter({'D': 34, 'C': 13, 'B': 40, 'E': 47, 'A': 3}),\n",
       " 'Indonesia': Counter({'B': 2, 'D': 5, 'E': 1, 'C': 3}),\n",
       " 'Turkey': Counter({'E': 9, 'D': 8, 'B': 7, 'C': 3, 'A': 2}),\n",
       " 'Chile': Counter({'D': 13, 'B': 15, 'E': 7, 'C': 10, 'A': 9}),\n",
       " 'Jordan': Counter({'D': 1, 'E': 2, 'A': 1, 'B': 3}),\n",
       " 'Réunion': Counter({'C': 67, 'E': 34, 'A': 33, 'D': 83, 'B': 88}),\n",
       " 'Norway': Counter({'D': 48, 'E': 20, 'B': 30, 'C': 14, 'A': 16}),\n",
       " 'French Guiana': Counter({'A': 23, 'B': 19, 'D': 22, 'C': 25, 'E': 6}),\n",
       " 'Peru': Counter({'C': 2, 'E': 4, 'D': 2, 'A': 1}),\n",
       " 'Russia': Counter({'D': 44, 'C': 13, 'B': 22, 'E': 48, 'A': 16}),\n",
       " 'Cyprus': Counter({'C': 4, 'E': 3, 'D': 4, 'B': 1}),\n",
       " 'India': Counter({'D': 32, 'E': 16, 'B': 6, 'C': 9, 'A': 3}),\n",
       " 'Philippines': Counter({'D': 4, 'C': 1, 'E': 2, 'B': 1}),\n",
       " 'South Korea': Counter({'B': 4, 'D': 5, 'E': 2, 'A': 1, 'C': 2}),\n",
       " 'South Africa': Counter({'D': 25, 'A': 3, 'E': 17, 'B': 16, 'C': 11}),\n",
       " \"Côte d'Ivoire\": Counter({'C': 3, 'D': 5, 'B': 10, 'E': 2, 'A': 1}),\n",
       " 'Ecuador': Counter({'C': 2}),\n",
       " 'Mauritius': Counter({'D': 22, 'E': 3, 'B': 9, 'C': 3, 'A': 3}),\n",
       " 'Senegal': Counter({'B': 8, 'E': 6, 'A': 6, 'D': 12, 'C': 4}),\n",
       " 'Bangladesh': Counter({'D': 2, 'E': 1}),\n",
       " 'Guadeloupe': Counter({'D': 63, 'B': 61, 'C': 56, 'A': 29, 'E': 28}),\n",
       " 'Cameroon': Counter({'B': 4, 'E': 3, 'D': 1, 'C': 1, 'A': 1}),\n",
       " 'Romania': Counter({'E': 103, 'D': 188, 'A': 67, 'B': 106, 'C': 81}),\n",
       " 'Finland': Counter({'B': 29, 'C': 7, 'A': 17, 'E': 10, 'D': 30}),\n",
       " 'Slovakia': Counter({'E': 18, 'B': 9, 'D': 10, 'A': 3, 'C': 2}),\n",
       " 'Lithuania': Counter({'D': 9, 'E': 7, 'B': 5, 'A': 2, 'C': 2}),\n",
       " 'Hungary': Counter({'D': 133, 'E': 70, 'B': 90, 'C': 57, 'A': 36}),\n",
       " 'Iceland': Counter({'C': 4, 'B': 4, 'D': 2, 'A': 4, 'E': 5}),\n",
       " 'World': Counter({'B': 4}),\n",
       " 'fr:deutschland': Counter({'D': 77, 'B': 58, 'E': 41, 'A': 28, 'C': 36}),\n",
       " 'fr:frankreich': Counter({'D': 12, 'A': 5, 'B': 9, 'C': 2, 'E': 9}),\n",
       " 'fr:schweiz': Counter({'B': 14, 'A': 10, 'D': 9, 'E': 10, 'C': 5}),\n",
       " 'Bulgaria': Counter({'E': 23, 'C': 3, 'D': 8, 'B': 12, 'A': 6}),\n",
       " 'Estonia': Counter({'E': 5, 'D': 2, 'A': 1, 'C': 1, 'B': 2}),\n",
       " 'Latvia': Counter({'E': 7, 'D': 5, 'C': 1}),\n",
       " 'de:allemagne': Counter({'B': 23, 'D': 35, 'A': 8, 'C': 11, 'E': 7}),\n",
       " 'Poland': Counter({'C': 37, 'A': 29, 'E': 26, 'B': 43, 'D': 58}),\n",
       " 'Slovenia': Counter({'E': 10, 'A': 4, 'D': 17, 'C': 3, 'B': 13}),\n",
       " 'Ukraine': Counter({'B': 4, 'D': 2, 'E': 4}),\n",
       " 'fr:en': Counter({'A': 5, 'D': 5, 'C': 4, 'B': 5, 'E': 2}),\n",
       " 'Malta': Counter({'A': 3, 'E': 3, 'D': 2, 'C': 2, 'B': 7}),\n",
       " 'Croatia': Counter({'E': 11, 'D': 15, 'B': 10, 'C': 1, 'A': 2}),\n",
       " 'Iran': Counter({'E': 1, 'C': 2, 'D': 1}),\n",
       " 'ch:suisse': Counter({'D': 37, 'A': 35, 'B': 18, 'E': 8, 'C': 20}),\n",
       " 'Mali': Counter({'E': 1, 'B': 3, 'A': 2, 'C': 1}),\n",
       " 'Monaco': Counter({'E': 7, 'D': 3, 'B': 3, 'C': 2, 'A': 2}),\n",
       " 'Gabon': Counter({'A': 3, 'C': 5, 'D': 3, 'B': 3}),\n",
       " 'Sint Maarten': Counter({'D': 1, 'B': 1}),\n",
       " 'Kazakhstan': Counter({'D': 5, 'A': 3, 'C': 2}),\n",
       " 'Republic of the Congo': Counter({'E': 2, 'B': 1, 'D': 1}),\n",
       " 'Burkina Faso': Counter({'B': 5, 'A': 1, 'C': 3, 'D': 1, 'E': 1}),\n",
       " 'Mayotte': Counter({'E': 1, 'D': 1, 'B': 3}),\n",
       " 'Tunisia': Counter({'E': 24, 'C': 10, 'D': 24, 'B': 10, 'A': 5}),\n",
       " 'fr:dom-tom': Counter({'D': 20, 'C': 3}),\n",
       " 'Mauritania': Counter({'E': 1, 'B': 1, 'C': 1}),\n",
       " 'Seychelles': Counter({'D': 2, 'A': 1}),\n",
       " 'Djibouti': Counter({'B': 2}),\n",
       " 'Libya': Counter({'D': 1, 'B': 1}),\n",
       " 'Vanuatu': Counter({'C': 2}),\n",
       " 'Albania': Counter({'A': 5, 'E': 4, 'B': 6, 'D': 5, 'C': 1}),\n",
       " 'Mongolia': Counter({'B': 1, 'C': 1, 'D': 1}),\n",
       " 'Democratic Republic of the Congo': Counter({'C': 3, 'D': 2, 'E': 1}),\n",
       " 'Madagascar': Counter({'E': 4, 'C': 2, 'D': 4, 'A': 2, 'B': 1}),\n",
       " 'Cambodia': Counter({'C': 3, 'E': 1, 'B': 3, 'D': 2}),\n",
       " 'Qatar': Counter({'D': 3, 'E': 1, 'C': 2, 'B': 2}),\n",
       " 'Saint Martin': Counter({'D': 1, 'E': 1}),\n",
       " 'Andorra': Counter({'C': 4, 'D': 3, 'B': 3, 'E': 3, 'A': 2}),\n",
       " 'Republic of Macedonia': Counter({'D': 11, 'B': 2, 'E': 6}),\n",
       " 'Kosovo': Counter({'D': 1, 'C': 1}),\n",
       " 'Bosnia and Herzegovina': Counter({'B': 4, 'E': 7, 'D': 10, 'C': 1}),\n",
       " 'it:deutschland': Counter({'E': 1, 'D': 1}),\n",
       " 'Moldova': Counter({'E': 5, 'D': 1, 'B': 1}),\n",
       " 'Montenegro': Counter({'E': 9, 'D': 13, 'B': 5, 'A': 2, 'C': 2}),\n",
       " 'Allemagne': Counter({'E': 1, 'D': 1}),\n",
       " 'Suisse': Counter({'E': 1, 'A': 1}),\n",
       " 'Georgia': Counter({'D': 2, 'A': 36, 'B': 5, 'C': 11}),\n",
       " 'Swaziland': Counter({'B': 2}),\n",
       " 'Pakistan': Counter({'C': 1, 'E': 2}),\n",
       " 'Kenya': Counter({'C': 1, 'A': 1}),\n",
       " 'Azerbaijan': Counter({'B': 10, 'A': 2}),\n",
       " 'Yemen': Counter({'C': 1, 'E': 1}),\n",
       " 'Namibia': Counter({'C': 1, 'D': 1}),\n",
       " 'Guatemala': Counter({'C': 1, 'B': 1}),\n",
       " 'Bolivia': Counter({'C': 1, 'A': 1}),\n",
       " 'Venezuela': Counter({'B': 2}),\n",
       " 'Uruguay': Counter({'D': 1, 'C': 1, 'A': 1}),\n",
       " 'ch:allemagne': Counter({'B': 1, 'A': 1, 'C': 1}),\n",
       " 'Fiji': Counter({'D': 2})}"
      ]
     },
     "execution_count": 40,
     "metadata": {},
     "output_type": "execute_result"
    }
   ],
   "source": [
    "{country: Counter(countries_en_scores[country]) for country in countries_en_scores if len(countries_en_scores[country]) > threshold}"
   ]
  },
  {
   "cell_type": "code",
   "execution_count": 41,
   "metadata": {},
   "outputs": [],
   "source": [
    "origins_countries_pairs = []\n",
    "\n",
    "for idx, row in data[['origins_tags', 'countries_en']].dropna().iterrows():\n",
    "    origin_split = row['origins_tags'].split(',')\n",
    "    countries_split = row['countries_en'].split(',')\n",
    "    for orig in origin_split:\n",
    "        for country in countries_split:\n",
    "            origins_countries_pairs += [[idx, orig, country]]\n",
    "\n",
    "origins_countries_pairs_np = np.array(origins_countries_pairs)\n",
    "\n",
    "travel_data = pd.DataFrame(origins_countries_pairs_np[:,1:], index=origins_countries_pairs_np[:,0], columns=['origin', 'destination'])"
   ]
  },
  {
   "cell_type": "code",
   "execution_count": 42,
   "metadata": {},
   "outputs": [
    {
     "data": {
      "text/plain": [
       "france                                                                                                                               11300\n",
       "union-europeenne                                                                                                                      2042\n",
       "mexico                                                                                                                                1549\n",
       "italie                                                                                                                                 986\n",
       "espagne                                                                                                                                904\n",
       "espana                                                                                                                                 764\n",
       "australia                                                                                                                              465\n",
       "suisse                                                                                                                                 385\n",
       "deutschland                                                                                                                            359\n",
       "belgique                                                                                                                               351\n",
       "thailande                                                                                                                              249\n",
       "united-kingdom                                                                                                                         237\n",
       "canada                                                                                                                                 236\n",
       "perou                                                                                                                                  231\n",
       "neprecizata                                                                                                                            226\n",
       "agricultura-ue,agricultura-no-ue                                                                                                       225\n",
       "chine                                                                                                                                  225\n",
       "norvege                                                                                                                                218\n",
       "china                                                                                                                                  217\n",
       "allemagne                                                                                                                              214\n",
       "agriculture-ue-non-ue                                                                                                                  202\n",
       "france,hors-france                                                                                                                     201\n",
       "italia                                                                                                                                 192\n",
       "maroc                                                                                                                                  191\n",
       "turquie                                                                                                                                189\n",
       "portugal                                                                                                                               187\n",
       "estados-unidos                                                                                                                         177\n",
       "madagascar                                                                                                                             152\n",
       "usa                                                                                                                                    145\n",
       "france,union-europeenne                                                                                                                141\n",
       "                                                                                                                                     ...  \n",
       "canada,agriculture-canada                                                                                                                1\n",
       "espagne-pour-la-viande,e1782780                                                                                                          1\n",
       "bomporto,italie                                                                                                                          1\n",
       "monts-du-forez                                                                                                                           1\n",
       "lettres-sai,colin-lieu-pollachius-virens,atlantique-nord-est,lettres-ap,colin-d-alaska-theragra-chalcogramma,ocean-pacifique-nord        1\n",
       "03-2018                                                                                                                                  1\n",
       "cambodia,phnom-penh                                                                                                                      1\n",
       "galice,espagne                                                                                                                           1\n",
       "noisettes-origine-sicile                                                                                                                 1\n",
       "delta-del-ebre,zona-captura-baleares,de-cria-espana                                                                                      1\n",
       "herefordshire,midlands-de-l-ouest,angleterre,royaume-uni                                                                                 1\n",
       "guilliers                                                                                                                                1\n",
       "chine,equateur                                                                                                                           1\n",
       "sotrapal                                                                                                                                 1\n",
       "british-flour                                                                                                                            1\n",
       "eden-valley,cumbria,uk                                                                                                                   1\n",
       "neu-ulm,allemagne                                                                                                                        1\n",
       "agriculture-ue-non-ue,pays-bas                                                                                                           1\n",
       "france,languedoc,picpoul-de-pinet-aop                                                                                                    1\n",
       "orodara,burkina-faso,cote-d-ivoire                                                                                                       1\n",
       "argentine,france,perou,russie                                                                                                            1\n",
       "cranberries-des-etats-unis-ou-canada-ou-chili,canada,chili,etats-unis                                                                    1\n",
       "12-10-2018                                                                                                                               1\n",
       "viande-de-poulet-origine-ue,ue                                                                                                           1\n",
       "italie,turquie,georgie                                                                                                                   1\n",
       "turkei,china,belgien,niederlande,deutschland,vietnam,ukraine,schweden                                                                    1\n",
       "sahambavy,madagascar                                                                                                                     1\n",
       "saint-galmier                                                                                                                            1\n",
       "israele                                                                                                                                  1\n",
       "chaudfontaine,belgique                                                                                                                   1\n",
       "Name: origins_tags, Length: 6711, dtype: int64"
      ]
     },
     "execution_count": 42,
     "metadata": {},
     "output_type": "execute_result"
    }
   ],
   "source": [
    "data['origins_tags'].value_counts()"
   ]
  },
  {
   "cell_type": "code",
   "execution_count": 43,
   "metadata": {},
   "outputs": [
    {
     "data": {
      "text/plain": [
       "France                   42446\n",
       "Spain                     3172\n",
       "Germany                   2470\n",
       "Mexico                    2243\n",
       "Switzerland               2088\n",
       "Australia                 1358\n",
       "United Kingdom            1186\n",
       "Belgium                   1140\n",
       "Italy                      607\n",
       "United States              514\n",
       "Canada                     441\n",
       "Romania                    426\n",
       "Sweden                     415\n",
       "Portugal                   320\n",
       "Brazil                     201\n",
       "Réunion                    165\n",
       "Netherlands                156\n",
       "Austria                    149\n",
       "Madagascar                 124\n",
       "Guadeloupe                 112\n",
       "Russia                     106\n",
       "India                       98\n",
       "Hungary                     90\n",
       "French Polynesia            84\n",
       "Denmark                     81\n",
       "French Guiana               80\n",
       "Ireland                     73\n",
       "Tunisia                     70\n",
       "Georgia                     66\n",
       "New Zealand                 61\n",
       "                         ...  \n",
       "sq:kosovo                    1\n",
       "Mauritania                   1\n",
       "Benin                        1\n",
       "Saint Martin                 1\n",
       "Sint Maarten                 1\n",
       "Namibia                      1\n",
       "it:espagne                   1\n",
       "fr:republica-moldova         1\n",
       "Montserrat                   1\n",
       "Vanuatu                      1\n",
       "Rwanda                       1\n",
       "fr:ungaria                   1\n",
       "Puerto Rico                  1\n",
       "La-reunion                   1\n",
       "fr:tyskland                  1\n",
       "fr:sverige                   1\n",
       "Tanzania                     1\n",
       "Togo                         1\n",
       "Dominica                     1\n",
       "Republika Srpska             1\n",
       "it:allemagne                 1\n",
       "Kosovo                       1\n",
       "Asia                         1\n",
       "Suisse                       1\n",
       "ch:mexique                   1\n",
       "Photos to be uploaded        1\n",
       "ch:allemagne                 1\n",
       "Dominican Republic           1\n",
       "Guatemala                    1\n",
       "Nepal                        1\n",
       "Name: destination, Length: 173, dtype: int64"
      ]
     },
     "execution_count": 43,
     "metadata": {},
     "output_type": "execute_result"
    }
   ],
   "source": [
    "travel_data['destination'].value_counts()"
   ]
  },
  {
   "cell_type": "code",
   "execution_count": 44,
   "metadata": {},
   "outputs": [
    {
     "data": {
      "text/plain": [
       "france                                                                       16408\n",
       "union-europeenne                                                              2934\n",
       "mexico                                                                        1582\n",
       "italie                                                                        1472\n",
       "espagne                                                                       1266\n",
       "espana                                                                        1201\n",
       "suisse                                                                         721\n",
       "deutschland                                                                    604\n",
       "australia                                                                      599\n",
       "belgique                                                                       533\n",
       "perou                                                                          419\n",
       "neprecizata                                                                    404\n",
       "allemagne                                                                      383\n",
       "canada                                                                         381\n",
       "italia                                                                         358\n",
       "thailande                                                                      358\n",
       "bretagne                                                                       354\n",
       "agricultura-ue                                                                 352\n",
       "royaume-uni                                                                    333\n",
       "norvege                                                                        322\n",
       "chine                                                                          317\n",
       "united-kingdom                                                                 312\n",
       "agricultura-no-ue                                                              307\n",
       "hors-union-europeenne                                                          299\n",
       "agriculture-ue-non-ue                                                          295\n",
       "usa                                                                            294\n",
       "china                                                                          290\n",
       "hors-france                                                                    286\n",
       "portugal                                                                       274\n",
       "europe                                                                         256\n",
       "                                                                             ...  \n",
       "nordostpafizik                                                                   1\n",
       "белгородская-область                                                             1\n",
       "not-indicated                                                                    1\n",
       "morue-gadus-spp                                                                  1\n",
       "france-mirabelles                                                                1\n",
       "pate-de-cacao-de-republique-dominicaine-9-6                                      1\n",
       "urloffen                                                                         1\n",
       "pleaux                                                                           1\n",
       "worldwide                                                                        1\n",
       "dijon-france                                                                     1\n",
       "bonduelle-surgele-international-bsi-la-woestyne                                  1\n",
       "49360-maulevrier                                                                 1\n",
       "viande-de-lapin-origine-france-viande-de-porc-et-foie-de-dinde-origine-ue        1\n",
       "kavacık-beykoy-i̇stanbul                                                         1\n",
       "port-francais                                                                    1\n",
       "ribera-del-jalon-comarca                                                         1\n",
       "fontane-brunnen                                                                  1\n",
       "mangue-du-perou                                                                  1\n",
       "mirassol                                                                         1\n",
       "израиль                                                                          1\n",
       "abidjan                                                                          1\n",
       "faconne                                                                          1\n",
       "et-non-europeenn                                                                 1\n",
       "hors-belgique                                                                    1\n",
       "crevette                                                                         1\n",
       "france-sud-ouest-47170-andiran                                                   1\n",
       "hellebrunn                                                                       1\n",
       "rio-negro-provinicia                                                             1\n",
       "bodensee                                                                         1\n",
       "france-et-divers                                                                 1\n",
       "Name: origin, Length: 5289, dtype: int64"
      ]
     },
     "execution_count": 44,
     "metadata": {},
     "output_type": "execute_result"
    }
   ],
   "source": [
    "travel_data['origin'].value_counts()"
   ]
  },
  {
   "cell_type": "code",
   "execution_count": 45,
   "metadata": {},
   "outputs": [
    {
     "data": {
      "text/plain": [
       "France                       42446\n",
       "Spain                         3172\n",
       "Germany                       2470\n",
       "Mexico                        2243\n",
       "Switzerland                   2088\n",
       "Australia                     1358\n",
       "United Kingdom                1186\n",
       "Belgium                       1140\n",
       "Italy                          607\n",
       "United States                  514\n",
       "Canada                         441\n",
       "Romania                        426\n",
       "Sweden                         415\n",
       "Portugal                       320\n",
       "Brazil                         201\n",
       "Réunion                        165\n",
       "Netherlands                    156\n",
       "Austria                        149\n",
       "Madagascar                     124\n",
       "Guadeloupe                     112\n",
       "Russia                         106\n",
       "India                           98\n",
       "Hungary                         90\n",
       "French Polynesia                84\n",
       "Denmark                         81\n",
       "French Guiana                   80\n",
       "Ireland                         73\n",
       "Tunisia                         70\n",
       "Georgia                         66\n",
       "New Zealand                     61\n",
       "Poland                          58\n",
       "Packaging completed             57\n",
       "Product name completed          57\n",
       "Ingredients completed           57\n",
       "Categories completed            57\n",
       "Nutrition facts completed       57\n",
       "Brands completed                57\n",
       "Characteristics completed       57\n",
       "Quantity completed              57\n",
       "Photos uploaded                 56\n",
       "Complete                        54\n",
       "Photos validated                54\n",
       "To be checked                   54\n",
       "ch:suisse                       49\n",
       "Luxembourg                      47\n",
       "Czech Republic                  46\n",
       "Serbia                          44\n",
       "fr:deutschland                  43\n",
       "En                              42\n",
       "Martinique                      41\n",
       "Name: destination, dtype: int64"
      ]
     },
     "execution_count": 45,
     "metadata": {},
     "output_type": "execute_result"
    }
   ],
   "source": [
    "travel_data['destination'].value_counts()[:50]"
   ]
  }
 ],
 "metadata": {
  "kernelspec": {
   "display_name": "Python 3",
   "language": "python",
   "name": "python3"
  },
  "language_info": {
   "codemirror_mode": {
    "name": "ipython",
    "version": 3
   },
   "file_extension": ".py",
   "mimetype": "text/x-python",
   "name": "python",
   "nbconvert_exporter": "python",
   "pygments_lexer": "ipython3",
   "version": "3.6.5"
  }
 },
 "nbformat": 4,
 "nbformat_minor": 2
}
