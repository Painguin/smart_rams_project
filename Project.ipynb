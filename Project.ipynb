{
 "cells": [
  {
   "cell_type": "code",
   "execution_count": 1,
   "metadata": {},
   "outputs": [],
   "source": [
    "import pandas as pd\n",
    "import numpy as np\n",
    "import matplotlib.pyplot as plt\n",
    "import seaborn as sns; sns.set()\n",
    "plt.style.use('seaborn')"
   ]
  },
  {
   "cell_type": "code",
   "execution_count": 2,
   "metadata": {},
   "outputs": [
    {
     "name": "stderr",
     "output_type": "stream",
     "text": [
      "/home/painguin/anaconda3/lib/python3.6/site-packages/IPython/core/interactiveshell.py:2785: DtypeWarning: Columns (0,3,5,24,25,26,28,36,41,49) have mixed types. Specify dtype option on import or set low_memory=False.\n",
      "  interactivity=interactivity, compiler=compiler, result=result)\n"
     ]
    }
   ],
   "source": [
    "data_folder = 'data/'\n",
    "data = pd.read_csv(data_folder + 'en.openfoodfacts.org.products.csv', sep='\\t')"
   ]
  },
  {
   "cell_type": "markdown",
   "metadata": {},
   "source": [
    "# Data Preprocessing"
   ]
  },
  {
   "cell_type": "markdown",
   "metadata": {},
   "source": [
    "### Chosen Fields"
   ]
  },
  {
   "cell_type": "markdown",
   "metadata": {},
   "source": [
    "(at least some text that explains why we dropped the other fields)"
   ]
  },
  {
   "cell_type": "code",
   "execution_count": 3,
   "metadata": {},
   "outputs": [],
   "source": [
    "chosen_fields = ['product_name', 'packaging_tags', 'brands_tags',\n",
    "                 'origins_tags', 'manufacturing_places_tags', 'labels_en', 'stores', 'countries_en',\n",
    "                 'additives_n', 'ingredients_from_palm_oil_n', 'ingredients_that_may_be_from_palm_oil_n', \n",
    "                 'nutrition_grade_fr', 'pnns_groups_1', 'fruits-vegetables-nuts_100g',\n",
    "                 'main_category_en', 'energy_100g', 'energy-from-fat_100g', 'fat_100g', \n",
    "                 'saturated-fat_100g', 'monounsaturated-fat_100g', 'polyunsaturated-fat_100g', \n",
    "                 'omega-3-fat_100g', 'omega-6-fat_100g', 'omega-9-fat_100g', 'trans-fat_100g', \n",
    "                 'cholesterol_100g', 'carbohydrates_100g', 'sugars_100g', 'fiber_100g', 'proteins_100g', 'sodium_100g', \n",
    "                 'nutrition-score-fr_100g', 'nutrition-score-uk_100g']\n",
    "\n",
    "data = data[chosen_fields]"
   ]
  },
  {
   "cell_type": "markdown",
   "metadata": {},
   "source": [
    "## Field Cleaning"
   ]
  },
  {
   "cell_type": "markdown",
   "metadata": {},
   "source": [
    "The 'pnns_groups_1' field is particularly usefull in our study. \n",
    "Indeed, it sorts the different food entries by some clear category, as seen below."
   ]
  },
  {
   "cell_type": "code",
   "execution_count": 4,
   "metadata": {},
   "outputs": [
    {
     "data": {
      "text/plain": [
       "unknown                    122881\n",
       "Sugary snacks               30005\n",
       "Milk and dairy products     17948\n",
       "Composite foods             14670\n",
       "Cereals and potatoes        14587\n",
       "Fish Meat Eggs              13993\n",
       "Beverages                   12411\n",
       "Fat and sauces              11427\n",
       "Fruits and vegetables       11095\n",
       "Salty snacks                 5595\n",
       "fruits-and-vegetables        1537\n",
       "sugary-snacks                1451\n",
       "cereals-and-potatoes           25\n",
       "salty-snacks                    3\n",
       "Name: pnns_groups_1, dtype: int64"
      ]
     },
     "execution_count": 4,
     "metadata": {},
     "output_type": "execute_result"
    }
   ],
   "source": [
    "data['pnns_groups_1'].value_counts()"
   ]
  },
  {
   "cell_type": "markdown",
   "metadata": {},
   "source": [
    "A simple map allows for better organisation and also cleans the duplicate field entries:"
   ]
  },
  {
   "cell_type": "code",
   "execution_count": 5,
   "metadata": {},
   "outputs": [],
   "source": [
    "my_map = {'unknown' : 'Unknown',\n",
    " 'Sugary snacks' : 'Snacks', \n",
    " 'Milk and dairy products' : 'Fish Meat Eggs Dairy',\n",
    " 'Composite foods' : 'Composite', \n",
    " 'Cereals and potatoes' : 'Starchy', \n",
    " 'Fish Meat Eggs' : 'Fish Meat Eggs Dairy',\n",
    " 'Beverages' : 'Beverages',\n",
    " 'Fat and sauces' : 'Fat Sauces',\n",
    " 'Fruits and vegetables' : 'Fruits Vegetables',\n",
    " 'Salty snacks' : 'Snacks',\n",
    " 'fruits-and-vegetables' : 'Fruits Vegetables',\n",
    " 'sugary-snacks' : 'Snacks',\n",
    " 'cereals-and-potatoes' : 'Starchy',\n",
    " 'salty-snacks' : 'Snacks'\n",
    "}\n",
    "\n",
    "data['pnns_groups_1'].replace(my_map, inplace=True)"
   ]
  },
  {
   "cell_type": "markdown",
   "metadata": {},
   "source": [
    "Now the categories are clear:"
   ]
  },
  {
   "cell_type": "code",
   "execution_count": 6,
   "metadata": {},
   "outputs": [
    {
     "data": {
      "text/plain": [
       "Unknown                 122881\n",
       "Snacks                   37054\n",
       "Fish Meat Eggs Dairy     31941\n",
       "Composite                14670\n",
       "Starchy                  14612\n",
       "Fruits Vegetables        12632\n",
       "Beverages                12411\n",
       "Fat Sauces               11427\n",
       "Name: pnns_groups_1, dtype: int64"
      ]
     },
     "execution_count": 6,
     "metadata": {},
     "output_type": "execute_result"
    }
   ],
   "source": [
    "data['pnns_groups_1'].value_counts()"
   ]
  },
  {
   "cell_type": "markdown",
   "metadata": {},
   "source": [
    "From the 'main_category_en' field, we can recover more entries for the previous categories, as well as a new meaningfull category 'Plant-based foods and beverages', that we will rename 'Veggie' and add it as a new binary field in the data set."
   ]
  },
  {
   "cell_type": "code",
   "execution_count": 7,
   "metadata": {},
   "outputs": [
    {
     "data": {
      "text/plain": [
       "Plant-based foods and beverages    38524\n",
       "Beverages                          26110\n",
       "Sugary snacks                      25209\n",
       "Dairies                            16145\n",
       "Meats                               9801\n",
       "Groceries                           9703\n",
       "Meals                               8349\n",
       "Spreads                             4629\n",
       "Frozen foods                        3154\n",
       "Fruit juices                        3108\n",
       "Desserts                            3080\n",
       "Salty snacks                        3008\n",
       "Seafood                             2921\n",
       "Canned foods                        2770\n",
       "Fats                                1878\n",
       "Baby foods                          1037\n",
       "Sweeteners                           945\n",
       "Sandwiches                           905\n",
       "Farming products                     798\n",
       "Fish and meat and eggs               741\n",
       "Name: main_category_en, dtype: int64"
      ]
     },
     "execution_count": 7,
     "metadata": {},
     "output_type": "execute_result"
    }
   ],
   "source": [
    "data['main_category_en'].value_counts().head(20)"
   ]
  },
  {
   "cell_type": "markdown",
   "metadata": {},
   "source": [
    "First the usefull categories of `pnns_groups_1` and `main_category_en` are merged.\n",
    "This merged categorical field is called `category`."
   ]
  },
  {
   "cell_type": "code",
   "execution_count": 8,
   "metadata": {},
   "outputs": [],
   "source": [
    "my_map_2 = {\n",
    "    'Beverages' : 'Beverages',\n",
    "    'Sugary snacks' : 'Snacks',\n",
    "    'Dairies' : 'Fish Meat Eggs Dairy',\n",
    "    'Meats' : 'Fish Meat Eggs Dairy',\n",
    "    'Meals' : 'Composite',\n",
    "    'Fruit juices' : 'Beverages',\n",
    "    'Salty snacks' : 'Snacks',\n",
    "    'Fats' : 'Fat Sauces',\n",
    "    'Fish and meat and eggs' : 'Fish Meat Eggs Dairy'\n",
    "}"
   ]
  },
  {
   "cell_type": "code",
   "execution_count": 9,
   "metadata": {},
   "outputs": [
    {
     "data": {
      "text/plain": [
       "Beverages                 5844\n",
       "Meats                       68\n",
       "Meals                       16\n",
       "Fish and meat and eggs      12\n",
       "Name: main_category_en, dtype: int64"
      ]
     },
     "execution_count": 9,
     "metadata": {},
     "output_type": "execute_result"
    }
   ],
   "source": [
    "not_in_pnns = data[data['pnns_groups_1'].isna()]\n",
    "keys = my_map_2.keys()\n",
    "not_in_pnns.query('main_category_en in @keys')['main_category_en'].value_counts()"
   ]
  },
  {
   "cell_type": "markdown",
   "metadata": {},
   "source": [
    "We see that the number of usefull entries that are not already present in `pnns_group_1` are mainly from the `Beverages` category. Nonetheless, we build the new `Category` field as previously exposed, and add these categories, as well as the `pnns_group_1` fields."
   ]
  },
  {
   "cell_type": "code",
   "execution_count": 10,
   "metadata": {},
   "outputs": [],
   "source": [
    "# First add the values from 'pnns_groups_1'\n",
    "data['Category'] = data['pnns_groups_1']\n",
    "# Adds the values in 'main_category_en' that are not in 'pnns_groups_1' after applying the map\n",
    "new_vals = not_in_pnns.query('main_category_en in @keys')['main_category_en'].replace(my_map_2)\n",
    "data.loc[new_vals.index, 'Category'] = new_vals"
   ]
  },
  {
   "cell_type": "markdown",
   "metadata": {},
   "source": [
    "Here is the new 'Category' field."
   ]
  },
  {
   "cell_type": "code",
   "execution_count": 11,
   "metadata": {},
   "outputs": [
    {
     "data": {
      "text/plain": [
       "Unknown                 122881\n",
       "Snacks                   37054\n",
       "Fish Meat Eggs Dairy     32021\n",
       "Beverages                18255\n",
       "Composite                14686\n",
       "Starchy                  14612\n",
       "Fruits Vegetables        12632\n",
       "Fat Sauces               11427\n",
       "Name: Category, dtype: int64"
      ]
     },
     "execution_count": 11,
     "metadata": {},
     "output_type": "execute_result"
    }
   ],
   "source": [
    "data['Category'].value_counts()"
   ]
  },
  {
   "cell_type": "markdown",
   "metadata": {},
   "source": [
    "Now the `Plant based food and beverages category` is used to create a new field called `Veggie`."
   ]
  },
  {
   "cell_type": "code",
   "execution_count": 12,
   "metadata": {},
   "outputs": [],
   "source": [
    "data['Veggie'] = data['main_category_en'] == 'Plant-based foods and beverages'"
   ]
  },
  {
   "cell_type": "markdown",
   "metadata": {},
   "source": [
    "The veggie fields from `Category` are also added:"
   ]
  },
  {
   "cell_type": "code",
   "execution_count": 13,
   "metadata": {},
   "outputs": [],
   "source": [
    "data['Veggie'] = np.logical_or(data['Veggie'], data['Category'] == 'Fruits Vegetables')\n",
    "data['Veggie'] = np.logical_or(data['Veggie'], data['Category'] == 'Starchy')"
   ]
  },
  {
   "cell_type": "code",
   "execution_count": 14,
   "metadata": {},
   "outputs": [
    {
     "data": {
      "text/plain": [
       "False    658551\n",
       "True      39926\n",
       "Name: Veggie, dtype: int64"
      ]
     },
     "execution_count": 14,
     "metadata": {},
     "output_type": "execute_result"
    }
   ],
   "source": [
    "data['Veggie'].value_counts()"
   ]
  },
  {
   "cell_type": "markdown",
   "metadata": {},
   "source": [
    "Notice that the `False` value doesn't mean that an entry is not veggie."
   ]
  },
  {
   "cell_type": "markdown",
   "metadata": {},
   "source": [
    "# Nutri-Score"
   ]
  },
  {
   "cell_type": "markdown",
   "metadata": {},
   "source": [
    "The Nutri-Score system was developped after Article 14 of the Modernisation Law for the health system, dated 26 January 2016, required the french authorities to recommend a front-of-pack system of labelling that would be simple and accessible for all. \n",
    "The new system includes a colour coded scheme, ranging from green to orange, associated with letters from A to E. Productes designated with an 'A' have the best nutritional quality, while products designated with an E have poorer nutritional quality."
   ]
  },
  {
   "cell_type": "markdown",
   "metadata": {},
   "source": [
    "## Points A"
   ]
  },
  {
   "cell_type": "markdown",
   "metadata": {},
   "source": [
    "| Points | Energy (kJ) | Fat (g) | Sugar (g) | Sodium (mg) |\n",
    "|:------:|:-----------:|:-------:|:---------:|:-----------:|\n",
    "|    0   |    <=335    |   <=1   |   <=4.5   |     <=90    |\n",
    "|    1   |     >335    |    >1   |    >4.5   |     >90     |\n",
    "|    2   |     >670    |    >2   |     >9    |     >180    |\n",
    "|    3   |    >1005    |    >3   |   >13.5   |     >270    |\n",
    "|    4   |    >1340    |    >4   |    >18    |     >360    |\n",
    "|    5   |    >1675    |    >5   |   >22.5   |     >450    |\n",
    "|    6   |    >2010    |    >6   |    >27    |     >540    |\n",
    "|    7   |    >2345    |    >7   |    >31    |     >630    |\n",
    "|    8   |    >2680    |    >8   |    >36    |     >720    |\n",
    "|    9   |    >3015    |    >9   |    >40    |     >810    |\n",
    "|   10   |    >3350    |   >10   |    >45    |     >900    |"
   ]
  },
  {
   "cell_type": "markdown",
   "metadata": {},
   "source": [
    "## Points C"
   ]
  },
  {
   "cell_type": "markdown",
   "metadata": {},
   "source": [
    "| Points | Fruits Vegetables Nuts (%) | Fiber (g) | Proteins (g) |\n",
    "|:------:|:--------------------------:|:---------:|:------------:|\n",
    "|    0   |            <=40            |   <=0.9   |     <=1.6    |\n",
    "|    1   |             >40            |    >0.9   |     >1.6     |\n",
    "|    2   |             >60            |    >1.9   |     >3.2     |\n",
    "|    3   |              -             |    >2.8   |     >4.8     |\n",
    "|    4   |              -             |    >3.7   |     >6.4     |\n",
    "|    5   |             >80            |    >4.7   |     >8.0     |"
   ]
  },
  {
   "cell_type": "markdown",
   "metadata": {},
   "source": [
    "## Nutri-Score Computation\n",
    "  * If `points A` < 11, then `score` = `points A` - `points C`\n",
    "  * If `points A` >= 11:\n",
    "      * If `points(Fruits/Vegetables/Nuts)` = 5, then `score` = `points(A)` - `points(C)`\n",
    "      * If `points(Fruits/Vegetables/Nuts)` < 5, then `score` = `points(A)` - (`points(Fiber)` + `points(Fruits/Vegetables/Nuts)`)"
   ]
  },
  {
   "cell_type": "markdown",
   "metadata": {},
   "source": [
    "## Letters Thresholds\n",
    "### Solid Food\n",
    "  * A: until -1\n",
    "  * B: from 0 to 2\n",
    "  * C: from 3 to 10\n",
    "  * D: from 11 to 18\n",
    "  * E: 19 and more\n",
    "  \n",
    "### Beverages \n",
    "  * A: mineral and spring water\n",
    "  * B: until 1\n",
    "  * C: from 2 to 5\n",
    "  * D: from 6 to 9\n",
    "  * E: 10 and more"
   ]
  },
  {
   "cell_type": "markdown",
   "metadata": {},
   "source": [
    "## Warning\n",
    "When fiber content is not present, its eventual positive contribution is not taken into account.\n",
    "\n",
    "Percentages corresponding to Fruits/Vegetables/Nuts are mainly missing from the packaging. \n",
    "It will be derived from other products as follows:\n",
    "  * 100% : Fruit Juices\n",
    "  * 90% : Fruit Compote\n",
    "  * 85% : Vegetables\n",
    "  * 50% : Jams\n",
    "  \n",
    "Tubers are not considered as vegetables for the nutri-score."
   ]
  },
  {
   "cell_type": "code",
   "execution_count": 15,
   "metadata": {},
   "outputs": [
    {
     "name": "stderr",
     "output_type": "stream",
     "text": [
      "/home/painguin/anaconda3/lib/python3.6/site-packages/pandas/core/generic.py:5430: SettingWithCopyWarning: \n",
      "A value is trying to be set on a copy of a slice from a DataFrame\n",
      "\n",
      "See the caveats in the documentation: http://pandas.pydata.org/pandas-docs/stable/indexing.html#indexing-view-versus-copy\n",
      "  self._update_inplace(new_data)\n"
     ]
    }
   ],
   "source": [
    "data[(data['main_category_en'] == 'Fruit juices')]['fruits-vegetables-nuts_100g'].fillna(100, inplace=True)"
   ]
  },
  {
   "cell_type": "code",
   "execution_count": 16,
   "metadata": {},
   "outputs": [],
   "source": [
    "energy_bins = [data['energy_100g'].min(), 335, 670, 1005, 1340, 1675, 2010, 2345, 2680, 3015, 3350, data['energy_100g'].max()]\n",
    "data['energy_points'] = pd.cut(data['energy_100g'], energy_bins, labels=range(11)).astype(float)\n",
    "\n",
    "fat_bins = [data['fat_100g'].min(), 1, 2, 3, 4, 5, 6, 7, 8, 9, 10, data['fat_100g'].max()]\n",
    "data['fat_points'] = pd.cut(data['fat_100g'], fat_bins, labels=range(11)).astype(float)\n",
    "\n",
    "sugar_bins = [data['sugars_100g'].min(), 4.5, 9, 13.5, 18, 22.5, 27, 31, 36, 40, 45, data['sugars_100g'].max()]\n",
    "data['sugar_points'] = pd.cut(data['sugars_100g'], sugar_bins, labels=range(11)).astype(float)\n",
    "\n",
    "sodium_bins = [data['sodium_100g'].min(), 90, 180, 270, 360, 450, 540, 630, 720, 810, 900, data['sodium_100g'].max()]\n",
    "data['sodium_points'] = pd.cut(data['sodium_100g'], sodium_bins, labels=range(11)).astype(float)\n",
    "\n",
    "data['points_A'] = data['energy_points'] + data['fat_points'] + data['sugar_points'] + data['sodium_points']"
   ]
  },
  {
   "cell_type": "code",
   "execution_count": 17,
   "metadata": {},
   "outputs": [],
   "source": [
    "fvn_bins = [data['fruits-vegetables-nuts_100g'].min(), 40, 60, 80, data['fruits-vegetables-nuts_100g'].max()]\n",
    "data['fvn_points'] = pd.cut(data['fruits-vegetables-nuts_100g'], fvn_bins, labels=[0,1,2,5]).astype(float)\n",
    "data['fvn_points'].fillna(0, inplace=True)\n",
    "\n",
    "fiber_bins = [data['fiber_100g'].min(), 0.9, 1.9, 2.8, 3.7, 4.7, data['fiber_100g'].max()]\n",
    "data['fiber_points'] = pd.cut(data['fiber_100g'], fiber_bins, labels=range(6)).astype(float)\n",
    "data['fiber_points'].fillna(0, inplace=True)\n",
    "\n",
    "proteins_bins = [data['proteins_100g'].min(), 1.6, 3.2, 4.8, 6.4, 8.0, data['proteins_100g'].max()]\n",
    "data['proteins_points'] = pd.cut(data['proteins_100g'], proteins_bins, labels=range(6)).astype(float)\n",
    "\n",
    "data['points_C'] = data['fvn_points'] + data['fiber_points'] + data['proteins_points']"
   ]
  },
  {
   "cell_type": "code",
   "execution_count": 18,
   "metadata": {},
   "outputs": [],
   "source": [
    "def compute_score(row):\n",
    "    A = row['points_A']\n",
    "    C = row['points_C']\n",
    "    fvn = row['fvn_points']\n",
    "    fiber = row['fiber_points']\n",
    "    if A < 11 or fvn == 5:\n",
    "        return A - C\n",
    "    else:\n",
    "        return A - (fiber + fvn)"
   ]
  },
  {
   "cell_type": "code",
   "execution_count": 19,
   "metadata": {},
   "outputs": [],
   "source": [
    "data['score'] = data.apply(compute_score, axis=1)"
   ]
  },
  {
   "cell_type": "code",
   "execution_count": 20,
   "metadata": {},
   "outputs": [
    {
     "data": {
      "text/plain": [
       "<matplotlib.axes._subplots.AxesSubplot at 0x7ff9ea2e3b38>"
      ]
     },
     "execution_count": 20,
     "metadata": {},
     "output_type": "execute_result"
    },
    {
     "data": {
      "image/png": "[encoded data removed]",
      "text/plain": [
       "<Figure size 432x288 with 1 Axes>"
      ]
     },
     "metadata": {},
     "output_type": "display_data"
    }
   ],
   "source": [
    "data['score'].hist(bins=int(data['score'].max() - data['score'].min() + 1))"
   ]
  },
  {
   "cell_type": "code",
   "execution_count": 21,
   "metadata": {},
   "outputs": [
    {
     "data": {
      "text/html": [
       "<div>\n",
       "<style scoped>\n",
       "    .dataframe tbody tr th:only-of-type {\n",
       "        vertical-align: middle;\n",
       "    }\n",
       "\n",
       "    .dataframe tbody tr th {\n",
       "        vertical-align: top;\n",
       "    }\n",
       "\n",
       "    .dataframe thead th {\n",
       "        text-align: right;\n",
       "    }\n",
       "</style>\n",
       "<table border=\"1\" class=\"dataframe\">\n",
       "  <thead>\n",
       "    <tr style=\"text-align: right;\">\n",
       "      <th></th>\n",
       "      <th>score</th>\n",
       "    </tr>\n",
       "    <tr>\n",
       "      <th>Category</th>\n",
       "      <th></th>\n",
       "    </tr>\n",
       "  </thead>\n",
       "  <tbody>\n",
       "    <tr>\n",
       "      <th>Beverages</th>\n",
       "      <td>4.976873</td>\n",
       "    </tr>\n",
       "    <tr>\n",
       "      <th>Composite</th>\n",
       "      <td>4.957496</td>\n",
       "    </tr>\n",
       "    <tr>\n",
       "      <th>Fat Sauces</th>\n",
       "      <td>11.620552</td>\n",
       "    </tr>\n",
       "    <tr>\n",
       "      <th>Fish Meat Eggs Dairy</th>\n",
       "      <td>8.106382</td>\n",
       "    </tr>\n",
       "    <tr>\n",
       "      <th>Fruits Vegetables</th>\n",
       "      <td>1.716984</td>\n",
       "    </tr>\n",
       "    <tr>\n",
       "      <th>Snacks</th>\n",
       "      <td>18.073932</td>\n",
       "    </tr>\n",
       "    <tr>\n",
       "      <th>Starchy</th>\n",
       "      <td>3.300240</td>\n",
       "    </tr>\n",
       "    <tr>\n",
       "      <th>Unknown</th>\n",
       "      <td>9.388888</td>\n",
       "    </tr>\n",
       "  </tbody>\n",
       "</table>\n",
       "</div>"
      ],
      "text/plain": [
       "                          score\n",
       "Category                       \n",
       "Beverages              4.976873\n",
       "Composite              4.957496\n",
       "Fat Sauces            11.620552\n",
       "Fish Meat Eggs Dairy   8.106382\n",
       "Fruits Vegetables      1.716984\n",
       "Snacks                18.073932\n",
       "Starchy                3.300240\n",
       "Unknown                9.388888"
      ]
     },
     "execution_count": 21,
     "metadata": {},
     "output_type": "execute_result"
    }
   ],
   "source": [
    "score_mean_by_category = data[['Category', 'score']].groupby('Category').mean()\n",
    "score_mean_by_category"
   ]
  },
  {
   "cell_type": "code",
   "execution_count": 22,
   "metadata": {},
   "outputs": [
    {
     "data": {
      "text/plain": [
       "<matplotlib.axes._subplots.AxesSubplot at 0x7ff9ed571c18>"
      ]
     },
     "execution_count": 22,
     "metadata": {},
     "output_type": "execute_result"
    },
    {
     "data": {
      "image/png": "[encoded data removed]",
      "text/plain": [
       "<Figure size 720x576 with 1 Axes>"
      ]
     },
     "metadata": {},
     "output_type": "display_data"
    }
   ],
   "source": [
    "plt.figure(figsize=(10,8))\n",
    "sns.barplot(score_mean_by_category.score, score_mean_by_category.index,orient='h')"
   ]
  },
  {
   "cell_type": "code",
   "execution_count": 23,
   "metadata": {},
   "outputs": [
    {
     "data": {
      "text/plain": [
       "<matplotlib.axes._subplots.AxesSubplot at 0x7ff9e3fe5b00>"
      ]
     },
     "execution_count": 23,
     "metadata": {},
     "output_type": "execute_result"
    },
    {
     "data": {
      "image/png": "[encoded data removed]",
      "text/plain": [
       "<Figure size 432x288 with 1 Axes>"
      ]
     },
     "metadata": {},
     "output_type": "display_data"
    }
   ],
   "source": [
    "data.plot.scatter('nutrition-score-uk_100g', 'score')"
   ]
  }
 ],
 "metadata": {
  "kernelspec": {
   "display_name": "Python 3",
   "language": "python",
   "name": "python3"
  },
  "language_info": {
   "codemirror_mode": {
    "name": "ipython",
    "version": 3
   },
   "file_extension": ".py",
   "mimetype": "text/x-python",
   "name": "python",
   "nbconvert_exporter": "python",
   "pygments_lexer": "ipython3",
   "version": "3.6.5"
  }
 },
 "nbformat": 4,
 "nbformat_minor": 2
}
