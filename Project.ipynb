{
 "cells": [
  {
   "cell_type": "code",
   "execution_count": 1,
   "metadata": {},
   "outputs": [],
   "source": [
    "import pandas as pd\n",
    "import numpy as np\n",
    "import matplotlib.pyplot as plt\n",
    "import seaborn as sns; sns.set()\n",
    "plt.style.use('seaborn')\n",
    "from collections import Counter"
   ]
  },
  {
   "cell_type": "code",
   "execution_count": 2,
   "metadata": {},
   "outputs": [
    {
     "name": "stderr",
     "output_type": "stream",
     "text": [
      "/home/painguin/anaconda3/lib/python3.6/site-packages/IPython/core/interactiveshell.py:2785: DtypeWarning: Columns (0,3,5,24,25,26,28,36,41,49) have mixed types. Specify dtype option on import or set low_memory=False.\n",
      "  interactivity=interactivity, compiler=compiler, result=result)\n"
     ]
    }
   ],
   "source": [
    "data_folder = 'data/'\n",
    "data = pd.read_csv(data_folder + 'en.openfoodfacts.org.products.csv', sep='\\t')"
   ]
  },
  {
   "cell_type": "markdown",
   "metadata": {},
   "source": [
    "# Data Preprocessing"
   ]
  },
  {
   "cell_type": "markdown",
   "metadata": {},
   "source": [
    "### Chosen Fields"
   ]
  },
  {
   "cell_type": "markdown",
   "metadata": {},
   "source": [
    "(at least some text that explains why we dropped the other fields)"
   ]
  },
  {
   "cell_type": "markdown",
   "metadata": {},
   "source": [
    "chosen_fields = ['product_name', 'packaging_tags', 'brands_tags',\n",
    "                 'origins_tags', 'manufacturing_places_tags', 'labels_en', 'stores', 'countries_en',\n",
    "                 'additives_n', 'ingredients_from_palm_oil_n', 'ingredients_that_may_be_from_palm_oil_n', \n",
    "                 'nutrition_grade_fr', 'pnns_groups_1', 'fruits-vegetables-nuts_100g',\n",
    "                 'main_category_en', 'energy_100g', 'energy-from-fat_100g', 'fat_100g', \n",
    "                 'saturated-fat_100g', 'monounsaturated-fat_100g', 'polyunsaturated-fat_100g', \n",
    "                 'omega-3-fat_100g', 'omega-6-fat_100g', 'omega-9-fat_100g', 'trans-fat_100g', \n",
    "                 'cholesterol_100g', 'carbohydrates_100g', 'sugars_100g', 'fiber_100g', 'proteins_100g', 'sodium_100g', \n",
    "                 'nutrition-score-fr_100g', 'nutrition-score-uk_100g', 'carbon-footprint_100g', 'first_packaging_code_geo']\n",
    "\n",
    "data = data[chosen_fields]"
   ]
  },
  {
   "cell_type": "markdown",
   "metadata": {},
   "source": [
    "## Field Cleaning"
   ]
  },
  {
   "cell_type": "markdown",
   "metadata": {},
   "source": [
    "The 'pnns_groups_1' field is particularly usefull in our study. \n",
    "Indeed, it sorts the different food entries by some clear category, as seen below."
   ]
  },
  {
   "cell_type": "markdown",
   "metadata": {},
   "source": [
    "A simple map allows for better organisation and also cleans the duplicate field entries:"
   ]
  },
  {
   "cell_type": "code",
   "execution_count": 3,
   "metadata": {},
   "outputs": [],
   "source": [
    "my_map = {'unknown' : 'Unknown',\n",
    " 'Sugary snacks' : 'Snacks', \n",
    " 'Milk and dairy products' : 'Dairies',\n",
    " 'Composite foods' : 'Composite', \n",
    " 'Cereals and potatoes' : 'Starchy', \n",
    " 'Fish Meat Eggs' : 'Fish Meat Eggs',\n",
    " 'Beverages' : 'Beverages',\n",
    " 'Fat and sauces' : 'Fat Sauces',\n",
    " 'Fruits and vegetables' : 'Fruits Vegetables',\n",
    " 'Salty snacks' : 'Snacks',\n",
    " 'fruits-and-vegetables' : 'Fruits Vegetables',\n",
    " 'sugary-snacks' : 'Snacks',\n",
    " 'cereals-and-potatoes' : 'Starchy',\n",
    " 'salty-snacks' : 'Snacks'\n",
    "}\n",
    "\n",
    "data['Category'] = data['pnns_groups_1'].replace(my_map)"
   ]
  },
  {
   "cell_type": "markdown",
   "metadata": {},
   "source": [
    "Now the categories are clear:"
   ]
  },
  {
   "cell_type": "code",
   "execution_count": 4,
   "metadata": {},
   "outputs": [
    {
     "data": {
      "text/plain": [
       "Unknown              122881\n",
       "Snacks                37054\n",
       "Dairies               17948\n",
       "Composite             14670\n",
       "Starchy               14612\n",
       "Fish Meat Eggs        13993\n",
       "Fruits Vegetables     12632\n",
       "Beverages             12411\n",
       "Fat Sauces            11427\n",
       "Name: Category, dtype: int64"
      ]
     },
     "execution_count": 4,
     "metadata": {},
     "output_type": "execute_result"
    }
   ],
   "source": [
    "data['Category'].value_counts()"
   ]
  },
  {
   "cell_type": "markdown",
   "metadata": {},
   "source": [
    "From the 'main_category_en' field, we can recover more entries for the previous categories, as well as a new meaningfull category 'Plant-based foods and beverages', that we will rename 'Veggie' and add it as a new binary field in the data set."
   ]
  },
  {
   "cell_type": "code",
   "execution_count": 5,
   "metadata": {},
   "outputs": [
    {
     "data": {
      "text/plain": [
       "Plant-based foods and beverages    38524\n",
       "Beverages                          26110\n",
       "Sugary snacks                      25209\n",
       "Dairies                            16145\n",
       "Meats                               9801\n",
       "Groceries                           9703\n",
       "Meals                               8349\n",
       "Spreads                             4629\n",
       "Frozen foods                        3154\n",
       "Fruit juices                        3108\n",
       "Desserts                            3080\n",
       "Salty snacks                        3008\n",
       "Seafood                             2921\n",
       "Canned foods                        2770\n",
       "Fats                                1878\n",
       "Baby foods                          1037\n",
       "Sweeteners                           945\n",
       "Sandwiches                           905\n",
       "Farming products                     798\n",
       "Fish and meat and eggs               741\n",
       "Name: main_category_en, dtype: int64"
      ]
     },
     "execution_count": 5,
     "metadata": {},
     "output_type": "execute_result"
    }
   ],
   "source": [
    "data['main_category_en'].value_counts().head(20)"
   ]
  },
  {
   "cell_type": "markdown",
   "metadata": {},
   "source": [
    "First the usefull categories of `pnns_groups_1` and `main_category_en` are merged.\n",
    "This merged categorical field is called `category`."
   ]
  },
  {
   "cell_type": "code",
   "execution_count": 6,
   "metadata": {},
   "outputs": [],
   "source": [
    "my_map_2 = {\n",
    "    'Beverages' : 'Beverages',\n",
    "    'Sugary snacks' : 'Snacks',\n",
    "    'Dairies' : 'Dairies',\n",
    "    'Meats' : 'Fish Meat Eggs',\n",
    "    'Meals' : 'Composite',\n",
    "    'Fruit juices' : 'Beverages',\n",
    "    'Salty snacks' : 'Snacks',\n",
    "    'Fats' : 'Fat Sauces',\n",
    "    'Fish and meat and eggs' : 'Fish Meat Eggs'\n",
    "}"
   ]
  },
  {
   "cell_type": "code",
   "execution_count": 7,
   "metadata": {},
   "outputs": [
    {
     "data": {
      "text/plain": [
       "Beverages                 5844\n",
       "Meats                       68\n",
       "Meals                       16\n",
       "Fish and meat and eggs      12\n",
       "Name: main_category_en, dtype: int64"
      ]
     },
     "execution_count": 7,
     "metadata": {},
     "output_type": "execute_result"
    }
   ],
   "source": [
    "not_in_category = data[data['Category'].isna()]\n",
    "keys = my_map_2.keys()\n",
    "not_in_category.query('main_category_en in @keys')['main_category_en'].value_counts()"
   ]
  },
  {
   "cell_type": "markdown",
   "metadata": {},
   "source": [
    "We see that the number of usefull entries that are not already present in `pnns_group_1` are mainly from the `Beverages` category. Nonetheless, we build the new `Category` field as previously exposed, and add these categories, as well as the `pnns_group_1` fields."
   ]
  },
  {
   "cell_type": "code",
   "execution_count": 8,
   "metadata": {},
   "outputs": [],
   "source": [
    "# Adds the values in 'main_category_en' that are not in 'pnns_groups_1' after applying the map\n",
    "new_vals = not_in_category.query('main_category_en in @keys')['main_category_en'].replace(my_map_2)\n",
    "data.loc[new_vals.index, 'Category'] = new_vals"
   ]
  },
  {
   "cell_type": "markdown",
   "metadata": {},
   "source": [
    "Here is the new 'Category' field."
   ]
  },
  {
   "cell_type": "code",
   "execution_count": 9,
   "metadata": {},
   "outputs": [
    {
     "data": {
      "text/plain": [
       "Unknown              122881\n",
       "Snacks                37054\n",
       "Beverages             18255\n",
       "Dairies               17948\n",
       "Composite             14686\n",
       "Starchy               14612\n",
       "Fish Meat Eggs        14073\n",
       "Fruits Vegetables     12632\n",
       "Fat Sauces            11427\n",
       "Name: Category, dtype: int64"
      ]
     },
     "execution_count": 9,
     "metadata": {},
     "output_type": "execute_result"
    }
   ],
   "source": [
    "data['Category'].value_counts()"
   ]
  },
  {
   "cell_type": "markdown",
   "metadata": {},
   "source": [
    "Now the `Plant based food and beverages category` is used to create a new field called `Veggie`."
   ]
  },
  {
   "cell_type": "code",
   "execution_count": 10,
   "metadata": {},
   "outputs": [],
   "source": [
    "data['Veggie'] = data['main_category_en'] == 'Plant-based foods and beverages'"
   ]
  },
  {
   "cell_type": "markdown",
   "metadata": {},
   "source": [
    "The veggie fields from `Category` are also added:"
   ]
  },
  {
   "cell_type": "code",
   "execution_count": 11,
   "metadata": {},
   "outputs": [],
   "source": [
    "data['Veggie'] = data['Veggie'] | (data['Category'] == 'Fruits Vegetables')\n",
    "data['Veggie'] = data['Veggie'] | (data['Category'] == 'Starchy')"
   ]
  },
  {
   "cell_type": "code",
   "execution_count": 12,
   "metadata": {},
   "outputs": [
    {
     "data": {
      "text/plain": [
       "False    658551\n",
       "True      39926\n",
       "Name: Veggie, dtype: int64"
      ]
     },
     "execution_count": 12,
     "metadata": {},
     "output_type": "execute_result"
    }
   ],
   "source": [
    "data['Veggie'].value_counts()"
   ]
  },
  {
   "cell_type": "markdown",
   "metadata": {},
   "source": [
    "Notice that the `False` value doesn't mean that an entry is not veggie."
   ]
  },
  {
   "cell_type": "markdown",
   "metadata": {},
   "source": [
    "# Nutri-Score"
   ]
  },
  {
   "cell_type": "markdown",
   "metadata": {},
   "source": [
    "The Nutri-Score system was developped after Article 14 of the Modernisation Law for the health system, dated 26 January 2016, required the french authorities to recommend a front-of-pack system of labelling that would be simple and accessible for all. \n",
    "The new system includes a colour coded scheme, ranging from green to orange, associated with letters from A to E. Productes designated with an 'A' have the best nutritional quality, while products designated with an E have poorer nutritional quality."
   ]
  },
  {
   "cell_type": "markdown",
   "metadata": {},
   "source": [
    "## Points A"
   ]
  },
  {
   "cell_type": "markdown",
   "metadata": {},
   "source": [
    "| Points | Energy (kJ) | Fat (g) | Sugar (g) | Sodium (mg) |\n",
    "|:------:|:-----------:|:-------:|:---------:|:-----------:|\n",
    "|    0   |    <=335    |   <=1   |   <=4.5   |     <=90    |\n",
    "|    1   |     >335    |    >1   |    >4.5   |     >90     |\n",
    "|    2   |     >670    |    >2   |     >9    |     >180    |\n",
    "|    3   |    >1005    |    >3   |   >13.5   |     >270    |\n",
    "|    4   |    >1340    |    >4   |    >18    |     >360    |\n",
    "|    5   |    >1675    |    >5   |   >22.5   |     >450    |\n",
    "|    6   |    >2010    |    >6   |    >27    |     >540    |\n",
    "|    7   |    >2345    |    >7   |    >31    |     >630    |\n",
    "|    8   |    >2680    |    >8   |    >36    |     >720    |\n",
    "|    9   |    >3015    |    >9   |    >40    |     >810    |\n",
    "|   10   |    >3350    |   >10   |    >45    |     >900    |"
   ]
  },
  {
   "cell_type": "markdown",
   "metadata": {},
   "source": [
    "## Points C"
   ]
  },
  {
   "cell_type": "markdown",
   "metadata": {},
   "source": [
    "| Points | Fruits Vegetables Nuts (%) | Fiber (g) | Proteins (g) |\n",
    "|:------:|:--------------------------:|:---------:|:------------:|\n",
    "|    0   |            <=40            |   <=0.9   |     <=1.6    |\n",
    "|    1   |             >40            |    >0.9   |     >1.6     |\n",
    "|    2   |             >60            |    >1.9   |     >3.2     |\n",
    "|    3   |              -             |    >2.8   |     >4.8     |\n",
    "|    4   |              -             |    >3.7   |     >6.4     |\n",
    "|    5   |             >80            |    >4.7   |     >8.0     |"
   ]
  },
  {
   "cell_type": "markdown",
   "metadata": {},
   "source": [
    "## Nutri-Score Computation\n",
    "  * If `points A` < 11, then `score` = `points A` - `points C`\n",
    "  * If `points A` >= 11:\n",
    "      * If `points(Fruits/Vegetables/Nuts)` = 5, then `score` = `points(A)` - `points(C)`\n",
    "      * If `points(Fruits/Vegetables/Nuts)` < 5, then `score` = `points(A)` - (`points(Fiber)` + `points(Fruits/Vegetables/Nuts)`)"
   ]
  },
  {
   "cell_type": "markdown",
   "metadata": {},
   "source": [
    "## Letters Thresholds\n",
    "### Solid Food\n",
    "  * A: until -1\n",
    "  * B: from 0 to 2\n",
    "  * C: from 3 to 10\n",
    "  * D: from 11 to 18\n",
    "  * E: 19 and more\n",
    "  \n",
    "### Beverages \n",
    "  * A: mineral and spring water\n",
    "  * B: until 1\n",
    "  * C: from 2 to 5\n",
    "  * D: from 6 to 9\n",
    "  * E: 10 and more"
   ]
  },
  {
   "cell_type": "markdown",
   "metadata": {},
   "source": [
    "## Warning\n",
    "When fiber content is not present, its eventual positive contribution is not taken into account.\n",
    "\n",
    "Percentages corresponding to Fruits/Vegetables/Nuts are mainly missing from the packaging. \n",
    "It will be derived from other products as follows:\n",
    "  * 100% : Fruit Juices\n",
    "  * 90% : Fruit Compote\n",
    "  * 85% : Vegetables\n",
    "  * 50% : Jams\n",
    "  \n",
    "Tubers are not considered as vegetables for the nutri-score."
   ]
  },
  {
   "cell_type": "code",
   "execution_count": 16,
   "metadata": {
    "scrolled": true
   },
   "outputs": [
    {
     "name": "stderr",
     "output_type": "stream",
     "text": [
      "/home/painguin/anaconda3/lib/python3.6/site-packages/pandas/core/generic.py:5430: SettingWithCopyWarning: \n",
      "A value is trying to be set on a copy of a slice from a DataFrame\n",
      "\n",
      "See the caveats in the documentation: http://pandas.pydata.org/pandas-docs/stable/indexing.html#indexing-view-versus-copy\n",
      "  self._update_inplace(new_data)\n"
     ]
    }
   ],
   "source": [
    "data[(data['main_category_en'] == 'Fruit juices')]['fruits-vegetables-nuts_100g'].fillna(100, inplace=True)"
   ]
  },
  {
   "cell_type": "code",
   "execution_count": 17,
   "metadata": {},
   "outputs": [],
   "source": [
    "beverages = data.query('Category == \"Beverages\"')"
   ]
  },
  {
   "cell_type": "markdown",
   "metadata": {},
   "source": [
    "#### Compute points A"
   ]
  },
  {
   "cell_type": "code",
   "execution_count": 18,
   "metadata": {},
   "outputs": [
    {
     "name": "stderr",
     "output_type": "stream",
     "text": [
      "/home/painguin/anaconda3/lib/python3.6/site-packages/ipykernel_launcher.py:8: SettingWithCopyWarning: \n",
      "A value is trying to be set on a copy of a slice from a DataFrame\n",
      "\n",
      "See the caveats in the documentation: http://pandas.pydata.org/pandas-docs/stable/indexing.html#indexing-view-versus-copy\n",
      "  \n",
      "/home/painguin/anaconda3/lib/python3.6/site-packages/ipykernel_launcher.py:21: SettingWithCopyWarning: \n",
      "A value is trying to be set on a copy of a slice from a DataFrame\n",
      "\n",
      "See the caveats in the documentation: http://pandas.pydata.org/pandas-docs/stable/indexing.html#indexing-view-versus-copy\n"
     ]
    }
   ],
   "source": [
    "# energy\n",
    "energy_bins = [data['energy_100g'].min() - 1, 335, 670, 1005, 1340, 1675, 2010, 2345, 2680, 3015, 3350, data['energy_100g'].max()]\n",
    "data['energy_points'] = pd.cut(data['energy_100g'], energy_bins, labels=range(11)).astype(float)\n",
    "\n",
    "# energy for beverages\n",
    "bev_energy_bins = [beverages['energy_100g'].min() - 1, 0, 30, 60, 90, 120, 150, 180, 210, 240, 270, beverages['energy_100g'].max()]\n",
    "bev_energy_points = pd.cut(beverages['energy_100g'], bev_energy_bins, labels=range(11), include_lowest=True)\n",
    "data['energy_points'][bev_energy_points.index] = bev_energy_points\n",
    "\n",
    "# fat\n",
    "fat_bins = [data['fat_100g'].min() - 1, 1, 2, 3, 4, 5, 6, 7, 8, 9, 10, data['fat_100g'].max()]\n",
    "data['fat_points'] = pd.cut(data['fat_100g'], fat_bins, labels=range(11)).astype(float)\n",
    "\n",
    "# sugar\n",
    "sugar_bins = [data['sugars_100g'].min() - 1, 4.5, 9, 13.5, 18, 22.5, 27, 31, 36, 40, 45, data['sugars_100g'].max()]\n",
    "data['sugar_points'] = pd.cut(data['sugars_100g'], sugar_bins, labels=range(11)).astype(float)\n",
    "\n",
    "# sugar for beverages\n",
    "bev_sugar_bins = [beverages['sugars_100g'].min() - 1, 0, 1.5, 3, 4.5, 6, 7.5, 9, 10.5, 12, 13.5, beverages['sugars_100g'].max()]\n",
    "bev_sugar_points = pd.cut(beverages['sugars_100g'], bev_sugar_bins, labels=range(11))\n",
    "data['sugar_points'][bev_sugar_points.index] = bev_sugar_points\n",
    "\n",
    "# sodium\n",
    "sodium_bins = [data['sodium_100g'].min() - 1, 90, 180, 270, 360, 450, 540, 630, 720, 810, 900, data['sodium_100g'].max()]\n",
    "data['sodium_points'] = pd.cut(data['sodium_100g'], sodium_bins, labels=range(11)).astype(float)\n",
    "\n",
    "data['points_A'] = data['energy_points'] + data['fat_points'] + data['sugar_points'] + data['sodium_points']"
   ]
  },
  {
   "cell_type": "markdown",
   "metadata": {},
   "source": [
    "#### Compute points C"
   ]
  },
  {
   "cell_type": "code",
   "execution_count": 19,
   "metadata": {},
   "outputs": [
    {
     "name": "stderr",
     "output_type": "stream",
     "text": [
      "/home/painguin/anaconda3/lib/python3.6/site-packages/ipykernel_launcher.py:8: SettingWithCopyWarning: \n",
      "A value is trying to be set on a copy of a slice from a DataFrame\n",
      "\n",
      "See the caveats in the documentation: http://pandas.pydata.org/pandas-docs/stable/indexing.html#indexing-view-versus-copy\n",
      "  \n"
     ]
    }
   ],
   "source": [
    "# fruits-vegetables-nuts\n",
    "fvn_bins = [data['fruits-vegetables-nuts_100g'].min() - 1, 40, 60, 80, data['fruits-vegetables-nuts_100g'].max()]\n",
    "data['fvn_points'] = pd.cut(data['fruits-vegetables-nuts_100g'], fvn_bins, labels=[0,1,2,5]).astype(float)\n",
    "\n",
    "# fruits-vegetables-nuts for beverages\n",
    "bev_fvn_bins = [beverages['fruits-vegetables-nuts_100g'].min() - 1, 40, 60, 80, beverages['fruits-vegetables-nuts_100g'].max()]\n",
    "bev_fvn_points = pd.cut(beverages['fruits-vegetables-nuts_100g'], bev_fvn_bins, labels=[0,2,4,10])\n",
    "data['fvn_points'][bev_fvn_points.index] = bev_fvn_points\n",
    "\n",
    "# fiber\n",
    "fiber_bins = [data['fiber_100g'].min() - 1, 0.9, 1.9, 2.8, 3.7, 4.7, data['fiber_100g'].max()]\n",
    "data['fiber_points'] = pd.cut(data['fiber_100g'], fiber_bins, labels=range(6)).astype(float)\n",
    "data['fiber_points'].fillna(0, inplace=True)\n",
    "\n",
    "# proteins\n",
    "proteins_bins = [data['proteins_100g'].min() - 1, 1.6, 3.2, 4.8, 6.4, 8.0, data['proteins_100g'].max()]\n",
    "data['proteins_points'] = pd.cut(data['proteins_100g'], proteins_bins, labels=range(6)).astype(float)\n",
    "\n",
    "data['points_C'] = data['fvn_points'] + data['fiber_points'] + data['proteins_points']"
   ]
  },
  {
   "cell_type": "markdown",
   "metadata": {},
   "source": [
    "#### Compute nutri-score"
   ]
  },
  {
   "cell_type": "markdown",
   "metadata": {},
   "source": [
    "We first compute the nutri-score based on the rules formula mentioned ahead."
   ]
  },
  {
   "cell_type": "code",
   "execution_count": 20,
   "metadata": {},
   "outputs": [],
   "source": [
    "def compute_score(row):\n",
    "    A = row['points_A']\n",
    "    C = row['points_C']\n",
    "    fvn = row['fvn_points']\n",
    "    fiber = row['fiber_points']\n",
    "    if A < 11 or fvn == 5:\n",
    "        return A - C\n",
    "    else:\n",
    "        return A - (fiber + fvn)"
   ]
  },
  {
   "cell_type": "code",
   "execution_count": 21,
   "metadata": {},
   "outputs": [],
   "source": [
    "data['nutri-score'] = data.apply(compute_score, axis=1)"
   ]
  },
  {
   "cell_type": "code",
   "execution_count": 22,
   "metadata": {
    "scrolled": false
   },
   "outputs": [
    {
     "data": {
      "text/plain": [
       "<matplotlib.axes._subplots.AxesSubplot at 0x7f8dbc6d3c88>"
      ]
     },
     "execution_count": 22,
     "metadata": {},
     "output_type": "execute_result"
    },
    {
     "data": {
      "image/png": "[encoded data removed]",
      "text/plain": [
       "<Figure size 432x288 with 1 Axes>"
      ]
     },
     "metadata": {},
     "output_type": "display_data"
    }
   ],
   "source": [
    "data['nutri-score'].hist(bins=int(data['nutri-score'].max() - data['nutri-score'].min() + 1))"
   ]
  },
  {
   "cell_type": "code",
   "execution_count": 23,
   "metadata": {},
   "outputs": [
    {
     "data": {
      "text/plain": [
       "<matplotlib.axes._subplots.AxesSubplot at 0x7f8dbc6c0080>"
      ]
     },
     "execution_count": 23,
     "metadata": {},
     "output_type": "execute_result"
    },
    {
     "data": {
      "image/png": "[encoded data removed]",
      "text/plain": [
       "<Figure size 432x288 with 1 Axes>"
      ]
     },
     "metadata": {},
     "output_type": "display_data"
    }
   ],
   "source": [
    "data.plot.scatter('nutrition-score-uk_100g', 'nutri-score')"
   ]
  },
  {
   "cell_type": "markdown",
   "metadata": {},
   "source": [
    "Now we assign the letter corresponding to the nutri-score."
   ]
  },
  {
   "cell_type": "code",
   "execution_count": 24,
   "metadata": {},
   "outputs": [],
   "source": [
    "def nutri_score_letter(row):\n",
    "    nutri_score = row['nutri-score']\n",
    "    product_name = row['product_name']\n",
    "    \n",
    "    # check if nutri_score is nan\n",
    "    if nutri_score != nutri_score:\n",
    "        return np.nan\n",
    "    \n",
    "    if row['Category'] == 'Beverages':\n",
    "        if product_name == product_name and 'mineral' in row['product_name']:\n",
    "            return 'A'\n",
    "        elif nutri_score <= 1:\n",
    "            return 'B'\n",
    "        elif nutri_score <= 5:\n",
    "            return 'C'\n",
    "        elif nutri_score <= 9:\n",
    "            return 'D'\n",
    "        else:\n",
    "            return 'E'\n",
    "    else:\n",
    "        if nutri_score <= -1:\n",
    "            return 'A'\n",
    "        elif nutri_score <= 2:\n",
    "            return 'B'\n",
    "        elif nutri_score <= 10:\n",
    "            return 'C'\n",
    "        elif nutri_score <= 18:\n",
    "            return 'D'\n",
    "        else:\n",
    "            return 'E'"
   ]
  },
  {
   "cell_type": "code",
   "execution_count": 25,
   "metadata": {},
   "outputs": [],
   "source": [
    "data['nutri-score_letter'] = data.apply(nutri_score_letter, axis=1)"
   ]
  },
  {
   "cell_type": "markdown",
   "metadata": {},
   "source": [
    "### Analyse the nutri-score across the categories"
   ]
  },
  {
   "cell_type": "code",
   "execution_count": 26,
   "metadata": {
    "scrolled": true
   },
   "outputs": [
    {
     "data": {
      "text/html": [
       "<div>\n",
       "<style scoped>\n",
       "    .dataframe tbody tr th:only-of-type {\n",
       "        vertical-align: middle;\n",
       "    }\n",
       "\n",
       "    .dataframe tbody tr th {\n",
       "        vertical-align: top;\n",
       "    }\n",
       "\n",
       "    .dataframe thead th {\n",
       "        text-align: right;\n",
       "    }\n",
       "</style>\n",
       "<table border=\"1\" class=\"dataframe\">\n",
       "  <thead>\n",
       "    <tr style=\"text-align: right;\">\n",
       "      <th></th>\n",
       "      <th></th>\n",
       "      <th>nutri-score</th>\n",
       "    </tr>\n",
       "    <tr>\n",
       "      <th>Category</th>\n",
       "      <th>nutri-score_letter</th>\n",
       "      <th></th>\n",
       "    </tr>\n",
       "  </thead>\n",
       "  <tbody>\n",
       "    <tr>\n",
       "      <th rowspan=\"4\" valign=\"top\">Beverages</th>\n",
       "      <th>B</th>\n",
       "      <td>16</td>\n",
       "    </tr>\n",
       "    <tr>\n",
       "      <th>C</th>\n",
       "      <td>131</td>\n",
       "    </tr>\n",
       "    <tr>\n",
       "      <th>D</th>\n",
       "      <td>86</td>\n",
       "    </tr>\n",
       "    <tr>\n",
       "      <th>E</th>\n",
       "      <td>485</td>\n",
       "    </tr>\n",
       "    <tr>\n",
       "      <th rowspan=\"4\" valign=\"top\">Composite</th>\n",
       "      <th>A</th>\n",
       "      <td>150</td>\n",
       "    </tr>\n",
       "    <tr>\n",
       "      <th>B</th>\n",
       "      <td>113</td>\n",
       "    </tr>\n",
       "    <tr>\n",
       "      <th>C</th>\n",
       "      <td>113</td>\n",
       "    </tr>\n",
       "    <tr>\n",
       "      <th>D</th>\n",
       "      <td>33</td>\n",
       "    </tr>\n",
       "    <tr>\n",
       "      <th rowspan=\"5\" valign=\"top\">Dairies</th>\n",
       "      <th>A</th>\n",
       "      <td>26</td>\n",
       "    </tr>\n",
       "    <tr>\n",
       "      <th>B</th>\n",
       "      <td>36</td>\n",
       "    </tr>\n",
       "    <tr>\n",
       "      <th>C</th>\n",
       "      <td>135</td>\n",
       "    </tr>\n",
       "    <tr>\n",
       "      <th>D</th>\n",
       "      <td>43</td>\n",
       "    </tr>\n",
       "    <tr>\n",
       "      <th>E</th>\n",
       "      <td>2</td>\n",
       "    </tr>\n",
       "    <tr>\n",
       "      <th rowspan=\"5\" valign=\"top\">Fat Sauces</th>\n",
       "      <th>A</th>\n",
       "      <td>9</td>\n",
       "    </tr>\n",
       "    <tr>\n",
       "      <th>B</th>\n",
       "      <td>7</td>\n",
       "    </tr>\n",
       "    <tr>\n",
       "      <th>C</th>\n",
       "      <td>11</td>\n",
       "    </tr>\n",
       "    <tr>\n",
       "      <th>D</th>\n",
       "      <td>21</td>\n",
       "    </tr>\n",
       "    <tr>\n",
       "      <th>E</th>\n",
       "      <td>15</td>\n",
       "    </tr>\n",
       "    <tr>\n",
       "      <th rowspan=\"4\" valign=\"top\">Fish Meat Eggs</th>\n",
       "      <th>A</th>\n",
       "      <td>13</td>\n",
       "    </tr>\n",
       "    <tr>\n",
       "      <th>B</th>\n",
       "      <td>3</td>\n",
       "    </tr>\n",
       "    <tr>\n",
       "      <th>C</th>\n",
       "      <td>3</td>\n",
       "    </tr>\n",
       "    <tr>\n",
       "      <th>D</th>\n",
       "      <td>25</td>\n",
       "    </tr>\n",
       "    <tr>\n",
       "      <th rowspan=\"5\" valign=\"top\">Fruits Vegetables</th>\n",
       "      <th>A</th>\n",
       "      <td>292</td>\n",
       "    </tr>\n",
       "    <tr>\n",
       "      <th>B</th>\n",
       "      <td>104</td>\n",
       "    </tr>\n",
       "    <tr>\n",
       "      <th>C</th>\n",
       "      <td>49</td>\n",
       "    </tr>\n",
       "    <tr>\n",
       "      <th>D</th>\n",
       "      <td>17</td>\n",
       "    </tr>\n",
       "    <tr>\n",
       "      <th>E</th>\n",
       "      <td>1</td>\n",
       "    </tr>\n",
       "    <tr>\n",
       "      <th rowspan=\"5\" valign=\"top\">Snacks</th>\n",
       "      <th>A</th>\n",
       "      <td>4</td>\n",
       "    </tr>\n",
       "    <tr>\n",
       "      <th>B</th>\n",
       "      <td>8</td>\n",
       "    </tr>\n",
       "    <tr>\n",
       "      <th>C</th>\n",
       "      <td>170</td>\n",
       "    </tr>\n",
       "    <tr>\n",
       "      <th>D</th>\n",
       "      <td>253</td>\n",
       "    </tr>\n",
       "    <tr>\n",
       "      <th>E</th>\n",
       "      <td>104</td>\n",
       "    </tr>\n",
       "    <tr>\n",
       "      <th rowspan=\"5\" valign=\"top\">Starchy</th>\n",
       "      <th>A</th>\n",
       "      <td>22</td>\n",
       "    </tr>\n",
       "    <tr>\n",
       "      <th>B</th>\n",
       "      <td>13</td>\n",
       "    </tr>\n",
       "    <tr>\n",
       "      <th>C</th>\n",
       "      <td>26</td>\n",
       "    </tr>\n",
       "    <tr>\n",
       "      <th>D</th>\n",
       "      <td>22</td>\n",
       "    </tr>\n",
       "    <tr>\n",
       "      <th>E</th>\n",
       "      <td>1</td>\n",
       "    </tr>\n",
       "    <tr>\n",
       "      <th rowspan=\"5\" valign=\"top\">Unknown</th>\n",
       "      <th>A</th>\n",
       "      <td>182</td>\n",
       "    </tr>\n",
       "    <tr>\n",
       "      <th>B</th>\n",
       "      <td>153</td>\n",
       "    </tr>\n",
       "    <tr>\n",
       "      <th>C</th>\n",
       "      <td>129</td>\n",
       "    </tr>\n",
       "    <tr>\n",
       "      <th>D</th>\n",
       "      <td>197</td>\n",
       "    </tr>\n",
       "    <tr>\n",
       "      <th>E</th>\n",
       "      <td>91</td>\n",
       "    </tr>\n",
       "  </tbody>\n",
       "</table>\n",
       "</div>"
      ],
      "text/plain": [
       "                                      nutri-score\n",
       "Category          nutri-score_letter             \n",
       "Beverages         B                            16\n",
       "                  C                           131\n",
       "                  D                            86\n",
       "                  E                           485\n",
       "Composite         A                           150\n",
       "                  B                           113\n",
       "                  C                           113\n",
       "                  D                            33\n",
       "Dairies           A                            26\n",
       "                  B                            36\n",
       "                  C                           135\n",
       "                  D                            43\n",
       "                  E                             2\n",
       "Fat Sauces        A                             9\n",
       "                  B                             7\n",
       "                  C                            11\n",
       "                  D                            21\n",
       "                  E                            15\n",
       "Fish Meat Eggs    A                            13\n",
       "                  B                             3\n",
       "                  C                             3\n",
       "                  D                            25\n",
       "Fruits Vegetables A                           292\n",
       "                  B                           104\n",
       "                  C                            49\n",
       "                  D                            17\n",
       "                  E                             1\n",
       "Snacks            A                             4\n",
       "                  B                             8\n",
       "                  C                           170\n",
       "                  D                           253\n",
       "                  E                           104\n",
       "Starchy           A                            22\n",
       "                  B                            13\n",
       "                  C                            26\n",
       "                  D                            22\n",
       "                  E                             1\n",
       "Unknown           A                           182\n",
       "                  B                           153\n",
       "                  C                           129\n",
       "                  D                           197\n",
       "                  E                            91"
      ]
     },
     "execution_count": 26,
     "metadata": {},
     "output_type": "execute_result"
    }
   ],
   "source": [
    "# Count the letter occurences for each category\n",
    "letter_counts_per_cat = data.groupby(['Category', 'nutri-score_letter']).count()[['nutri-score']]\n",
    "letter_counts_per_cat"
   ]
  },
  {
   "cell_type": "code",
   "execution_count": 27,
   "metadata": {},
   "outputs": [],
   "source": [
    "# For some categories, some letters are not represented. We add the missing rows with 0 as value.\n",
    "for cat in letter_counts_per_cat.index.levels[0]:\n",
    "    for letter in letter_counts_per_cat.index.levels[1]:\n",
    "        if (cat, letter) not in letter_counts_per_cat.index:\n",
    "            letter_counts_per_cat.loc[(cat, letter), :] = 0\n",
    "            \n",
    "letter_counts_per_cat.sort_index(inplace=True)"
   ]
  },
  {
   "cell_type": "code",
   "execution_count": 28,
   "metadata": {},
   "outputs": [],
   "source": [
    "# normalize the counts\n",
    "totals = letter_counts_per_cat.reset_index()[['Category', 'nutri-score']].groupby('Category').sum()\n",
    "score_distr_per_cat = letter_counts_per_cat / totals"
   ]
  },
  {
   "cell_type": "code",
   "execution_count": 29,
   "metadata": {},
   "outputs": [],
   "source": [
    "# colors similar to the original nutri-score ones\n",
    "nutri_score_colors = ['green', 'limegreen', 'gold', 'darkorange', 'orangered']"
   ]
  },
  {
   "cell_type": "code",
   "execution_count": 30,
   "metadata": {},
   "outputs": [
    {
     "name": "stderr",
     "output_type": "stream",
     "text": [
      "/home/painguin/anaconda3/lib/python3.6/site-packages/pandas/plotting/_core.py:194: UserWarning: 'colors' is being deprecated. Please use 'color'instead of 'colors'\n",
      "  warnings.warn((\"'colors' is being deprecated. Please use 'color'\"\n"
     ]
    },
    {
     "data": {
      "image/png": "[encoded data removed]",
      "text/plain": [
       "<Figure size 576x432 with 1 Axes>"
      ]
     },
     "metadata": {},
     "output_type": "display_data"
    }
   ],
   "source": [
    "score_distr_per_cat.drop('Unknown').reset_index().pivot(index='Category', columns='nutri-score_letter', values='nutri-score').plot.bar(stacked=True, figsize=(8,6), colors=nutri_score_colors)\n",
    "plt.legend(bbox_to_anchor=(1, 1.0))\n",
    "plt.title('Nutrition score distribution for each food category', fontsize=18);"
   ]
  },
  {
   "cell_type": "code",
   "execution_count": 45,
   "metadata": {},
   "outputs": [
    {
     "data": {
      "text/html": [
       "<div>\n",
       "<style scoped>\n",
       "    .dataframe tbody tr th:only-of-type {\n",
       "        vertical-align: middle;\n",
       "    }\n",
       "\n",
       "    .dataframe tbody tr th {\n",
       "        vertical-align: top;\n",
       "    }\n",
       "\n",
       "    .dataframe thead th {\n",
       "        text-align: right;\n",
       "    }\n",
       "</style>\n",
       "<table border=\"1\" class=\"dataframe\">\n",
       "  <thead>\n",
       "    <tr style=\"text-align: right;\">\n",
       "      <th></th>\n",
       "      <th></th>\n",
       "      <th>nutri-score</th>\n",
       "    </tr>\n",
       "    <tr>\n",
       "      <th>Category</th>\n",
       "      <th>nutri-score_letter</th>\n",
       "      <th></th>\n",
       "    </tr>\n",
       "  </thead>\n",
       "  <tbody>\n",
       "    <tr>\n",
       "      <th rowspan=\"5\" valign=\"top\">Beverages</th>\n",
       "      <th>A</th>\n",
       "      <td>0.0</td>\n",
       "    </tr>\n",
       "    <tr>\n",
       "      <th>B</th>\n",
       "      <td>16.0</td>\n",
       "    </tr>\n",
       "    <tr>\n",
       "      <th>C</th>\n",
       "      <td>131.0</td>\n",
       "    </tr>\n",
       "    <tr>\n",
       "      <th>D</th>\n",
       "      <td>86.0</td>\n",
       "    </tr>\n",
       "    <tr>\n",
       "      <th>E</th>\n",
       "      <td>485.0</td>\n",
       "    </tr>\n",
       "    <tr>\n",
       "      <th rowspan=\"5\" valign=\"top\">Composite</th>\n",
       "      <th>A</th>\n",
       "      <td>150.0</td>\n",
       "    </tr>\n",
       "    <tr>\n",
       "      <th>B</th>\n",
       "      <td>113.0</td>\n",
       "    </tr>\n",
       "    <tr>\n",
       "      <th>C</th>\n",
       "      <td>113.0</td>\n",
       "    </tr>\n",
       "    <tr>\n",
       "      <th>D</th>\n",
       "      <td>33.0</td>\n",
       "    </tr>\n",
       "    <tr>\n",
       "      <th>E</th>\n",
       "      <td>0.0</td>\n",
       "    </tr>\n",
       "    <tr>\n",
       "      <th rowspan=\"5\" valign=\"top\">Dairies</th>\n",
       "      <th>A</th>\n",
       "      <td>26.0</td>\n",
       "    </tr>\n",
       "    <tr>\n",
       "      <th>B</th>\n",
       "      <td>36.0</td>\n",
       "    </tr>\n",
       "    <tr>\n",
       "      <th>C</th>\n",
       "      <td>135.0</td>\n",
       "    </tr>\n",
       "    <tr>\n",
       "      <th>D</th>\n",
       "      <td>43.0</td>\n",
       "    </tr>\n",
       "    <tr>\n",
       "      <th>E</th>\n",
       "      <td>2.0</td>\n",
       "    </tr>\n",
       "    <tr>\n",
       "      <th rowspan=\"5\" valign=\"top\">Fat Sauces</th>\n",
       "      <th>A</th>\n",
       "      <td>9.0</td>\n",
       "    </tr>\n",
       "    <tr>\n",
       "      <th>B</th>\n",
       "      <td>7.0</td>\n",
       "    </tr>\n",
       "    <tr>\n",
       "      <th>C</th>\n",
       "      <td>11.0</td>\n",
       "    </tr>\n",
       "    <tr>\n",
       "      <th>D</th>\n",
       "      <td>21.0</td>\n",
       "    </tr>\n",
       "    <tr>\n",
       "      <th>E</th>\n",
       "      <td>15.0</td>\n",
       "    </tr>\n",
       "    <tr>\n",
       "      <th rowspan=\"5\" valign=\"top\">Fish Meat Eggs</th>\n",
       "      <th>A</th>\n",
       "      <td>13.0</td>\n",
       "    </tr>\n",
       "    <tr>\n",
       "      <th>B</th>\n",
       "      <td>3.0</td>\n",
       "    </tr>\n",
       "    <tr>\n",
       "      <th>C</th>\n",
       "      <td>3.0</td>\n",
       "    </tr>\n",
       "    <tr>\n",
       "      <th>D</th>\n",
       "      <td>25.0</td>\n",
       "    </tr>\n",
       "    <tr>\n",
       "      <th>E</th>\n",
       "      <td>0.0</td>\n",
       "    </tr>\n",
       "    <tr>\n",
       "      <th rowspan=\"5\" valign=\"top\">Fruits Vegetables</th>\n",
       "      <th>A</th>\n",
       "      <td>292.0</td>\n",
       "    </tr>\n",
       "    <tr>\n",
       "      <th>B</th>\n",
       "      <td>104.0</td>\n",
       "    </tr>\n",
       "    <tr>\n",
       "      <th>C</th>\n",
       "      <td>49.0</td>\n",
       "    </tr>\n",
       "    <tr>\n",
       "      <th>D</th>\n",
       "      <td>17.0</td>\n",
       "    </tr>\n",
       "    <tr>\n",
       "      <th>E</th>\n",
       "      <td>1.0</td>\n",
       "    </tr>\n",
       "    <tr>\n",
       "      <th rowspan=\"5\" valign=\"top\">Snacks</th>\n",
       "      <th>A</th>\n",
       "      <td>4.0</td>\n",
       "    </tr>\n",
       "    <tr>\n",
       "      <th>B</th>\n",
       "      <td>8.0</td>\n",
       "    </tr>\n",
       "    <tr>\n",
       "      <th>C</th>\n",
       "      <td>170.0</td>\n",
       "    </tr>\n",
       "    <tr>\n",
       "      <th>D</th>\n",
       "      <td>253.0</td>\n",
       "    </tr>\n",
       "    <tr>\n",
       "      <th>E</th>\n",
       "      <td>104.0</td>\n",
       "    </tr>\n",
       "    <tr>\n",
       "      <th rowspan=\"5\" valign=\"top\">Starchy</th>\n",
       "      <th>A</th>\n",
       "      <td>22.0</td>\n",
       "    </tr>\n",
       "    <tr>\n",
       "      <th>B</th>\n",
       "      <td>13.0</td>\n",
       "    </tr>\n",
       "    <tr>\n",
       "      <th>C</th>\n",
       "      <td>26.0</td>\n",
       "    </tr>\n",
       "    <tr>\n",
       "      <th>D</th>\n",
       "      <td>22.0</td>\n",
       "    </tr>\n",
       "    <tr>\n",
       "      <th>E</th>\n",
       "      <td>1.0</td>\n",
       "    </tr>\n",
       "    <tr>\n",
       "      <th rowspan=\"5\" valign=\"top\">Unknown</th>\n",
       "      <th>A</th>\n",
       "      <td>182.0</td>\n",
       "    </tr>\n",
       "    <tr>\n",
       "      <th>B</th>\n",
       "      <td>153.0</td>\n",
       "    </tr>\n",
       "    <tr>\n",
       "      <th>C</th>\n",
       "      <td>129.0</td>\n",
       "    </tr>\n",
       "    <tr>\n",
       "      <th>D</th>\n",
       "      <td>197.0</td>\n",
       "    </tr>\n",
       "    <tr>\n",
       "      <th>E</th>\n",
       "      <td>91.0</td>\n",
       "    </tr>\n",
       "  </tbody>\n",
       "</table>\n",
       "</div>"
      ],
      "text/plain": [
       "                                      nutri-score\n",
       "Category          nutri-score_letter             \n",
       "Beverages         A                           0.0\n",
       "                  B                          16.0\n",
       "                  C                         131.0\n",
       "                  D                          86.0\n",
       "                  E                         485.0\n",
       "Composite         A                         150.0\n",
       "                  B                         113.0\n",
       "                  C                         113.0\n",
       "                  D                          33.0\n",
       "                  E                           0.0\n",
       "Dairies           A                          26.0\n",
       "                  B                          36.0\n",
       "                  C                         135.0\n",
       "                  D                          43.0\n",
       "                  E                           2.0\n",
       "Fat Sauces        A                           9.0\n",
       "                  B                           7.0\n",
       "                  C                          11.0\n",
       "                  D                          21.0\n",
       "                  E                          15.0\n",
       "Fish Meat Eggs    A                          13.0\n",
       "                  B                           3.0\n",
       "                  C                           3.0\n",
       "                  D                          25.0\n",
       "                  E                           0.0\n",
       "Fruits Vegetables A                         292.0\n",
       "                  B                         104.0\n",
       "                  C                          49.0\n",
       "                  D                          17.0\n",
       "                  E                           1.0\n",
       "Snacks            A                           4.0\n",
       "                  B                           8.0\n",
       "                  C                         170.0\n",
       "                  D                         253.0\n",
       "                  E                         104.0\n",
       "Starchy           A                          22.0\n",
       "                  B                          13.0\n",
       "                  C                          26.0\n",
       "                  D                          22.0\n",
       "                  E                           1.0\n",
       "Unknown           A                         182.0\n",
       "                  B                         153.0\n",
       "                  C                         129.0\n",
       "                  D                         197.0\n",
       "                  E                          91.0"
      ]
     },
     "execution_count": 45,
     "metadata": {},
     "output_type": "execute_result"
    }
   ],
   "source": [
    "letter_counts_per_cat"
   ]
  },
  {
   "cell_type": "code",
   "execution_count": 32,
   "metadata": {},
   "outputs": [
    {
     "data": {
      "text/plain": [
       "<matplotlib.axes._subplots.AxesSubplot at 0x7f8d8d8967b8>"
      ]
     },
     "execution_count": 32,
     "metadata": {},
     "output_type": "execute_result"
    },
    {
     "data": {
      "image/png": "[encoded data removed]",
      "text/plain": [
       "<Figure size 936x1872 with 8 Axes>"
      ]
     },
     "metadata": {},
     "output_type": "display_data"
    }
   ],
   "source": [
    "plt.figure(figsize=(13, 26))\n",
    "letter_counts_per_cat.loc['Beverages'].plot.pie('nutri-score', ax=plt.subplot(421), title='Beverages', colors=nutri_score_colors)\n",
    "letter_counts_per_cat.loc['Composite'].plot.pie('nutri-score', ax=plt.subplot(422), title='Composite', colors=nutri_score_colors)\n",
    "letter_counts_per_cat.loc['Dairies'].plot.pie('nutri-score', ax=plt.subplot(423), title='Dairies', colors=nutri_score_colors)\n",
    "letter_counts_per_cat.loc['Fat Sauces'].plot.pie('nutri-score', ax=plt.subplot(424), title='Fat sauces', colors=nutri_score_colors)\n",
    "letter_counts_per_cat.loc['Fish Meat Eggs'].plot.pie('nutri-score', ax=plt.subplot(425), title='Fish, Meat, Eggs, Dairy', colors=nutri_score_colors)\n",
    "letter_counts_per_cat.loc['Fruits Vegetables'].plot.pie('nutri-score', ax=plt.subplot(426), title='Fruits and Vegetables', colors=nutri_score_colors)\n",
    "letter_counts_per_cat.loc['Snacks'].plot.pie('nutri-score', ax=plt.subplot(427), title='Snacks', colors=nutri_score_colors)\n",
    "letter_counts_per_cat.loc['Starchy'].plot.pie('nutri-score', ax=plt.subplot(428), title='Starchy', colors=nutri_score_colors)"
   ]
  },
  {
   "cell_type": "code",
   "execution_count": 33,
   "metadata": {},
   "outputs": [
    {
     "data": {
      "text/html": [
       "<div>\n",
       "<style scoped>\n",
       "    .dataframe tbody tr th:only-of-type {\n",
       "        vertical-align: middle;\n",
       "    }\n",
       "\n",
       "    .dataframe tbody tr th {\n",
       "        vertical-align: top;\n",
       "    }\n",
       "\n",
       "    .dataframe thead th {\n",
       "        text-align: right;\n",
       "    }\n",
       "</style>\n",
       "<table border=\"1\" class=\"dataframe\">\n",
       "  <thead>\n",
       "    <tr style=\"text-align: right;\">\n",
       "      <th></th>\n",
       "      <th>nutri-score</th>\n",
       "    </tr>\n",
       "    <tr>\n",
       "      <th>Category</th>\n",
       "      <th></th>\n",
       "    </tr>\n",
       "  </thead>\n",
       "  <tbody>\n",
       "    <tr>\n",
       "      <th>Beverages</th>\n",
       "      <td>11.002786</td>\n",
       "    </tr>\n",
       "    <tr>\n",
       "      <th>Composite</th>\n",
       "      <td>1.511002</td>\n",
       "    </tr>\n",
       "    <tr>\n",
       "      <th>Dairies</th>\n",
       "      <td>5.136364</td>\n",
       "    </tr>\n",
       "    <tr>\n",
       "      <th>Fat Sauces</th>\n",
       "      <td>10.000000</td>\n",
       "    </tr>\n",
       "    <tr>\n",
       "      <th>Fish Meat Eggs</th>\n",
       "      <td>7.045455</td>\n",
       "    </tr>\n",
       "    <tr>\n",
       "      <th>Fruits Vegetables</th>\n",
       "      <td>-1.166307</td>\n",
       "    </tr>\n",
       "    <tr>\n",
       "      <th>Snacks</th>\n",
       "      <td>12.706865</td>\n",
       "    </tr>\n",
       "    <tr>\n",
       "      <th>Starchy</th>\n",
       "      <td>4.869048</td>\n",
       "    </tr>\n",
       "    <tr>\n",
       "      <th>Unknown</th>\n",
       "      <td>6.894947</td>\n",
       "    </tr>\n",
       "  </tbody>\n",
       "</table>\n",
       "</div>"
      ],
      "text/plain": [
       "                   nutri-score\n",
       "Category                      \n",
       "Beverages            11.002786\n",
       "Composite             1.511002\n",
       "Dairies               5.136364\n",
       "Fat Sauces           10.000000\n",
       "Fish Meat Eggs        7.045455\n",
       "Fruits Vegetables    -1.166307\n",
       "Snacks               12.706865\n",
       "Starchy               4.869048\n",
       "Unknown               6.894947"
      ]
     },
     "execution_count": 33,
     "metadata": {},
     "output_type": "execute_result"
    }
   ],
   "source": [
    "score_mean_by_category = data[['Category', 'nutri-score']].groupby('Category').mean()\n",
    "score_mean_by_category"
   ]
  },
  {
   "cell_type": "code",
   "execution_count": 34,
   "metadata": {},
   "outputs": [
    {
     "data": {
      "text/plain": [
       "<matplotlib.axes._subplots.AxesSubplot at 0x7f8d8da63eb8>"
      ]
     },
     "execution_count": 34,
     "metadata": {},
     "output_type": "execute_result"
    },
    {
     "data": {
      "image/png": "[encoded data removed]",
      "text/plain": [
       "<Figure size 720x576 with 1 Axes>"
      ]
     },
     "metadata": {},
     "output_type": "display_data"
    }
   ],
   "source": [
    "plt.figure(figsize=(10,8))\n",
    "sns.barplot(score_mean_by_category['nutri-score'], score_mean_by_category.index,orient='h')"
   ]
  },
  {
   "cell_type": "code",
   "execution_count": 35,
   "metadata": {},
   "outputs": [],
   "source": [
    "carbon_mean_by_category = data[['Category', 'carbon-footprint_100g']].groupby('Category').mean()"
   ]
  },
  {
   "cell_type": "code",
   "execution_count": 36,
   "metadata": {},
   "outputs": [
    {
     "data": {
      "text/html": [
       "<div>\n",
       "<style scoped>\n",
       "    .dataframe tbody tr th:only-of-type {\n",
       "        vertical-align: middle;\n",
       "    }\n",
       "\n",
       "    .dataframe tbody tr th {\n",
       "        vertical-align: top;\n",
       "    }\n",
       "\n",
       "    .dataframe thead th {\n",
       "        text-align: right;\n",
       "    }\n",
       "</style>\n",
       "<table border=\"1\" class=\"dataframe\">\n",
       "  <thead>\n",
       "    <tr style=\"text-align: right;\">\n",
       "      <th></th>\n",
       "      <th>carbon-footprint_100g</th>\n",
       "      <th>nutri-score</th>\n",
       "    </tr>\n",
       "  </thead>\n",
       "  <tbody>\n",
       "    <tr>\n",
       "      <th>carbon-footprint_100g</th>\n",
       "      <td>1.000000</td>\n",
       "      <td>0.128578</td>\n",
       "    </tr>\n",
       "    <tr>\n",
       "      <th>nutri-score</th>\n",
       "      <td>0.128578</td>\n",
       "      <td>1.000000</td>\n",
       "    </tr>\n",
       "  </tbody>\n",
       "</table>\n",
       "</div>"
      ],
      "text/plain": [
       "                       carbon-footprint_100g  nutri-score\n",
       "carbon-footprint_100g               1.000000     0.128578\n",
       "nutri-score                         0.128578     1.000000"
      ]
     },
     "execution_count": 36,
     "metadata": {},
     "output_type": "execute_result"
    }
   ],
   "source": [
    "pd.concat((carbon_mean_by_category, score_mean_by_category), axis=1).corr()"
   ]
  },
  {
   "cell_type": "code",
   "execution_count": 37,
   "metadata": {},
   "outputs": [
    {
     "data": {
      "text/plain": [
       "array([<matplotlib.axes._subplots.AxesSubplot object at 0x7f8d8cf31588>,\n",
       "       <matplotlib.axes._subplots.AxesSubplot object at 0x7f8d8cf54d68>],\n",
       "      dtype=object)"
      ]
     },
     "execution_count": 37,
     "metadata": {},
     "output_type": "execute_result"
    },
    {
     "data": {
      "image/png": "[encoded data removed]",
      "text/plain": [
       "<Figure size 576x864 with 2 Axes>"
      ]
     },
     "metadata": {},
     "output_type": "display_data"
    }
   ],
   "source": [
    "pd.concat((carbon_mean_by_category, 20*score_mean_by_category), axis=1).drop('Unknown').sort_values('nutri-score').plot.bar(subplots=True, figsize=(8, 12))"
   ]
  },
  {
   "cell_type": "code",
   "execution_count": 38,
   "metadata": {},
   "outputs": [],
   "source": [
    "countries_en_scores = {}"
   ]
  },
  {
   "cell_type": "code",
   "execution_count": 39,
   "metadata": {},
   "outputs": [],
   "source": [
    "def random_stuff(row):\n",
    "    letter = row['nutri-score_letter']\n",
    "    if letter == letter:\n",
    "        for exportator in row['countries_en'].split(','):\n",
    "            if exportator in countries_en_scores:\n",
    "                countries_en_scores[exportator] += [row['nutri-score_letter']]\n",
    "            else:\n",
    "                countries_en_scores[exportator] = [row['nutri-score_letter']]"
   ]
  },
  {
   "cell_type": "code",
   "execution_count": 40,
   "metadata": {
    "scrolled": true
   },
   "outputs": [],
   "source": [
    "data[data['countries_en'].notna()].apply(random_stuff, axis=1);"
   ]
  },
  {
   "cell_type": "code",
   "execution_count": 41,
   "metadata": {},
   "outputs": [],
   "source": [
    "threshold = 1"
   ]
  },
  {
   "cell_type": "code",
   "execution_count": 42,
   "metadata": {
    "scrolled": true
   },
   "outputs": [
    {
     "data": {
      "text/plain": [
       "{'France': Counter({'E': 680, 'B': 438, 'A': 679, 'C': 731, 'D': 681}),\n",
       " 'United Kingdom': Counter({'A': 11, 'C': 29, 'B': 14, 'D': 7, 'E': 2}),\n",
       " 'United States': Counter({'E': 6, 'C': 2, 'A': 3, 'D': 3}),\n",
       " 'Canada': Counter({'B': 1, 'D': 1}),\n",
       " 'Belgium': Counter({'D': 19, 'C': 21, 'E': 12, 'B': 15, 'A': 19}),\n",
       " 'French Polynesia': Counter({'B': 1, 'C': 2, 'A': 3, 'E': 1}),\n",
       " 'Switzerland': Counter({'E': 21, 'C': 24, 'D': 22, 'A': 11, 'B': 7}),\n",
       " 'Germany': Counter({'E': 7, 'C': 10, 'D': 11, 'A': 6, 'B': 4}),\n",
       " 'Italy': Counter({'E': 9, 'C': 1, 'D': 2, 'A': 3, 'B': 1}),\n",
       " 'Netherlands': Counter({'C': 7, 'E': 2, 'D': 3, 'A': 1}),\n",
       " 'Spain': Counter({'C': 6, 'A': 6, 'D': 5, 'B': 3, 'E': 2}),\n",
       " 'Sweden': Counter({'A': 3, 'B': 1}),\n",
       " 'Portugal': Counter({'C': 3, 'D': 2, 'E': 1}),\n",
       " 'Réunion': Counter({'E': 8, 'C': 3, 'D': 2, 'B': 3}),\n",
       " 'Guadeloupe': Counter({'C': 1, 'E': 4}),\n",
       " 'En': Counter({'B': 1, 'A': 2, 'D': 2, 'E': 1}),\n",
       " 'Martinique': Counter({'E': 3}),\n",
       " 'Algeria': Counter({'C': 1, 'E': 1}),\n",
       " 'New Zealand': Counter({'A': 3}),\n",
       " 'Austria': Counter({'C': 1, 'B': 1}),\n",
       " 'Serbia': Counter({'E': 1, 'D': 1})}"
      ]
     },
     "execution_count": 42,
     "metadata": {},
     "output_type": "execute_result"
    }
   ],
   "source": [
    "{country: Counter(countries_en_scores[country]) for country in countries_en_scores if len(countries_en_scores[country]) > threshold}"
   ]
  },
  {
   "cell_type": "code",
   "execution_count": 44,
   "metadata": {},
   "outputs": [],
   "source": [
    "origins_countries_pairs = []\n",
    "\n",
    "for idx, row in data[['origins_tags', 'countries_en']].dropna().iterrows():\n",
    "    origin_split = row['origins_tags'].split(',')\n",
    "    countries_split = row['countries_en'].split(',')\n",
    "    for orig in origin_split:\n",
    "        for country in countries_split:\n",
    "            origins_countries_pairs += [[idx, orig, country]]\n",
    "\n",
    "origins_countries_pairs_np = np.array(origins_countries_pairs)\n",
    "\n",
    "travel_data = pd.DataFrame(origins_countries_pairs_np[:,1:], index=origins_countries_pairs_np[:,0], columns=['origin', 'destination'])"
   ]
  },
  {
   "cell_type": "code",
   "execution_count": 52,
   "metadata": {},
   "outputs": [
    {
     "data": {
      "text/plain": [
       "france                   16408\n",
       "union-europeenne          2934\n",
       "mexico                    1582\n",
       "italie                    1472\n",
       "espagne                   1266\n",
       "espana                    1201\n",
       "suisse                     721\n",
       "deutschland                604\n",
       "australia                  599\n",
       "belgique                   533\n",
       "perou                      419\n",
       "neprecizata                404\n",
       "allemagne                  383\n",
       "canada                     381\n",
       "thailande                  358\n",
       "italia                     358\n",
       "bretagne                   354\n",
       "agricultura-ue             352\n",
       "royaume-uni                333\n",
       "norvege                    322\n",
       "chine                      317\n",
       "united-kingdom             312\n",
       "agricultura-no-ue          307\n",
       "hors-union-europeenne      299\n",
       "agriculture-ue-non-ue      295\n",
       "usa                        294\n",
       "china                      290\n",
       "hors-france                286\n",
       "portugal                   274\n",
       "europe                     256\n",
       "turquie                    253\n",
       "pays-bas                   253\n",
       "madagascar                 244\n",
       "estados-unidos             242\n",
       "normandie                  241\n",
       "ecosse                     236\n",
       "equateur                   227\n",
       "maroc                      214\n",
       "inde                       207\n",
       "vietnam                    201\n",
       "sud-ouest                  198\n",
       "italy                      198\n",
       "imported-unknown           190\n",
       "etats-unis                 181\n",
       "germany                    181\n",
       "switzerland                179\n",
       "ocean-pacifique            179\n",
       "ue                         177\n",
       "agriculture-ue             177\n",
       "grece                      174\n",
       "Name: origin, dtype: int64"
      ]
     },
     "execution_count": 52,
     "metadata": {},
     "output_type": "execute_result"
    }
   ],
   "source": [
    "travel_data['origin'].value_counts()[:50]"
   ]
  }
 ],
 "metadata": {
  "kernelspec": {
   "display_name": "Python 3",
   "language": "python",
   "name": "python3"
  },
  "language_info": {
   "codemirror_mode": {
    "name": "ipython",
    "version": 3
   },
   "file_extension": ".py",
   "mimetype": "text/x-python",
   "name": "python",
   "nbconvert_exporter": "python",
   "pygments_lexer": "ipython3",
   "version": "3.6.5"
  }
 },
 "nbformat": 4,
 "nbformat_minor": 2
}
