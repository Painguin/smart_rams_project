{
 "cells": [
  {
   "cell_type": "markdown",
   "metadata": {},
   "source": [
    "# Open Food Facts Data Exploration"
   ]
  },
  {
   "cell_type": "code",
   "execution_count": 1,
   "metadata": {},
   "outputs": [],
   "source": [
    "import pandas as pd\n",
    "import numpy as np"
   ]
  },
  {
   "cell_type": "markdown",
   "metadata": {},
   "source": [
    "#### Data Loading"
   ]
  },
  {
   "cell_type": "code",
   "execution_count": 2,
   "metadata": {},
   "outputs": [
    {
     "name": "stderr",
     "output_type": "stream",
     "text": [
      "/home/david/anaconda3/lib/python3.7/site-packages/IPython/core/interactiveshell.py:2785: DtypeWarning: Columns (0,3,5,24,25,26,28,36,41,49) have mixed types. Specify dtype option on import or set low_memory=False.\n",
      "  interactivity=interactivity, compiler=compiler, result=result)\n"
     ]
    }
   ],
   "source": [
    "data_folder = 'data/'\n",
    "data = pd.read_csv(data_folder + 'en.openfoodfacts.org.products.csv', sep='\\t')"
   ]
  },
  {
   "cell_type": "markdown",
   "metadata": {},
   "source": [
    "We can see the size of the data is not a problem; we can load it easily using pandas."
   ]
  },
  {
   "cell_type": "markdown",
   "metadata": {},
   "source": [
    "### Data Preprocessing"
   ]
  },
  {
   "cell_type": "markdown",
   "metadata": {},
   "source": [
    "#### Choosing The Fields\n",
    "There are 174 different fields in this OpenFoodFacts dataset. After explorating each field and their value counts, here are the 33 fields we decided to keep (for now). The reasons we dropped the other fields are the following: either\n",
    "- they were too poorly represented (less than 50 occurrences)\n",
    "- they were too specific (micronutrients)\n",
    "- some other field conveyed the same information in a clearer format\n",
    "- they are of no interest for this study (barcodes, image urls)"
   ]
  },
  {
   "cell_type": "code",
   "execution_count": 292,
   "metadata": {},
   "outputs": [],
   "source": [
    "chosen_fields = ['product_name', 'packaging_tags', 'brands_tags',\n",
    "                 'origins_tags', 'manufacturing_places_tags', 'labels_en', 'stores', 'countries_en',\n",
    "                 'additives_n', 'ingredients_from_palm_oil_n', 'ingredients_that_may_be_from_palm_oil_n', \n",
    "                 'nutrition_grade_fr', 'pnns_groups_1', 'fruits-vegetables-nuts_100g',\n",
    "                 'main_category_en', 'energy_100g', 'energy-from-fat_100g', 'fat_100g', \n",
    "                 'saturated-fat_100g', 'monounsaturated-fat_100g', 'polyunsaturated-fat_100g', \n",
    "                 'omega-3-fat_100g', 'omega-6-fat_100g', 'omega-9-fat_100g', 'trans-fat_100g', \n",
    "                 'cholesterol_100g', 'carbohydrates_100g', 'sugars_100g', 'proteins_100g', 'sodium_100g', \n",
    "                 'nutrition-score-fr_100g', 'nutrition-score-uk_100g']"
   ]
  },
  {
   "cell_type": "code",
   "execution_count": 196,
   "metadata": {},
   "outputs": [],
   "source": [
    "chosen_data = data[chosen_fields]"
   ]
  },
  {
   "cell_type": "markdown",
   "metadata": {},
   "source": [
    "#### Data Cleaning"
   ]
  },
  {
   "cell_type": "markdown",
   "metadata": {},
   "source": [
    "We want to clean (i.e. agglomerate similar values together) the packaging_tags, brands_tags, origins_tags, manufacturing_places_tags, labels_en, stores, countries_en, pnns_groups_1 fields. The fields ending with \"\\_100g\" and \"\\_n\" are floats, hence clean. "
   ]
  },
  {
   "cell_type": "markdown",
   "metadata": {},
   "source": [
    "### Plan for Analysis and Communication"
   ]
  },
  {
   "cell_type": "code",
   "execution_count": 333,
   "metadata": {},
   "outputs": [],
   "source": [
    "data_size = data.shape[0]\n",
    "def calculate_apparition_pct(field):\n",
    "    print('The apparition percentage is %.3f%%' % (100*data[field].dropna().shape[0]/data_size))"
   ]
  },
  {
   "cell_type": "markdown",
   "metadata": {},
   "source": [
    "Now that we have a cleaned dataset, we can start working on the analysis and communication. \n",
    "The first step will be to calculate the [NutriScore](http://fr.openfoodfacts.org/score-nutritionnel-experimental-france) where it is missing."
   ]
  },
  {
   "cell_type": "code",
   "execution_count": 334,
   "metadata": {},
   "outputs": [
    {
     "name": "stdout",
     "output_type": "stream",
     "text": [
      "The apparition percentage is 20.263%\n"
     ]
    }
   ],
   "source": [
    "calculate_apparition_pct('nutrition_grade_fr')"
   ]
  },
  {
   "cell_type": "markdown",
   "metadata": {},
   "source": [
    "We have all the parameters needed for the NutriScore formula (energy, saturated fats, sugars, proteins, sodium, fibers and \"fruits, vegetables and nuts percentage\" per 100g). \n",
    "Sadly, we can see below that the percentage of products where we could derive the NutriScore drops from 77.3% to 38.3% when we use the fiber. \n",
    "This might or might not be a problem, depending if the nans occur when a product doesn't have fibers (i.e. NaN corresponds to 0) or if they are simply missing. \n",
    "Thus, we will have to investigate.\n",
    "\n",
    "A bigger problem however is the ridiculously small apparition percentage of the fruits-vegetables-nuts_100g field. Again, perhaps that the NaNs correspond to 0s. In any case, we will need to investigate. "
   ]
  },
  {
   "cell_type": "code",
   "execution_count": 335,
   "metadata": {},
   "outputs": [
    {
     "name": "stdout",
     "output_type": "stream",
     "text": [
      "The apparition percentage is 77.319%\n"
     ]
    }
   ],
   "source": [
    "calculate_apparition_pct(['energy_100g', 'saturated-fat_100g', 'sugars_100g', 'proteins_100g', 'sodium_100g'])"
   ]
  },
  {
   "cell_type": "code",
   "execution_count": 336,
   "metadata": {},
   "outputs": [
    {
     "name": "stdout",
     "output_type": "stream",
     "text": [
      "The apparition percentage is 38.294%\n"
     ]
    }
   ],
   "source": [
    "calculate_apparition_pct(['energy_100g', 'saturated-fat_100g', 'sugars_100g', 'proteins_100g', 'sodium_100g', 'fiber_100g'])"
   ]
  },
  {
   "cell_type": "code",
   "execution_count": 337,
   "metadata": {},
   "outputs": [
    {
     "name": "stdout",
     "output_type": "stream",
     "text": [
      "The apparition percentage is 0.494%\n"
     ]
    }
   ],
   "source": [
    "calculate_apparition_pct('fruits-vegetables-nuts_100g')"
   ]
  },
  {
   "cell_type": "markdown",
   "metadata": {},
   "source": [
    "In the worst case, where we don't find a smart way to tackle these issues, we will simply have overall smaller nutritional scores. Hence we will still be able to proceed with the analysis in any case. "
   ]
  }
 ],
 "metadata": {
  "kernelspec": {
   "display_name": "Python 3",
   "language": "python",
   "name": "python3"
  },
  "language_info": {
   "codemirror_mode": {
    "name": "ipython",
    "version": 3
   },
   "file_extension": ".py",
   "mimetype": "text/x-python",
   "name": "python",
   "nbconvert_exporter": "python",
   "pygments_lexer": "ipython3",
   "version": "3.7.0"
  }
 },
 "nbformat": 4,
 "nbformat_minor": 2
}
