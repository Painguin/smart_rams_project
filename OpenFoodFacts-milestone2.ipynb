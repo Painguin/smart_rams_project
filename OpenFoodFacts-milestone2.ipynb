{
 "cells": [
  {
   "cell_type": "markdown",
   "metadata": {},
   "source": [
    "# Open Food Facts Data Exploration"
   ]
  },
  {
   "cell_type": "code",
   "execution_count": 1,
   "metadata": {},
   "outputs": [],
   "source": [
    "import pandas as pd\n",
    "import numpy as np"
   ]
  },
  {
   "cell_type": "markdown",
   "metadata": {},
   "source": [
    "### Data Loading"
   ]
  },
  {
   "cell_type": "code",
   "execution_count": 2,
   "metadata": {},
   "outputs": [
    {
     "name": "stderr",
     "output_type": "stream",
     "text": [
      "/home/david/anaconda3/lib/python3.7/site-packages/IPython/core/interactiveshell.py:2785: DtypeWarning: Columns (0,3,5,24,25,26,28,36,41,49) have mixed types. Specify dtype option on import or set low_memory=False.\n",
      "  interactivity=interactivity, compiler=compiler, result=result)\n"
     ]
    }
   ],
   "source": [
    "data_folder = 'data/'\n",
    "data = pd.read_csv(data_folder + 'en.openfoodfacts.org.products.csv', sep='\\t')"
   ]
  },
  {
   "cell_type": "markdown",
   "metadata": {},
   "source": [
    "We can see the size of the data is not a problem; we can load it easily using pandas."
   ]
  },
  {
   "cell_type": "markdown",
   "metadata": {},
   "source": [
    "### Data Preprocessing"
   ]
  },
  {
   "cell_type": "markdown",
   "metadata": {},
   "source": [
    "#### Choosing The Fields\n",
    "There are 174 different fields in this OpenFoodFacts dataset. After explorating each field and their value counts, here are the 33 fields we decided to keep (for now). The reasons we dropped the other fields are the following: either\n",
    "- they were too poorly represented (less than 50 occurrences)\n",
    "- they were too specific (micronutrients)\n",
    "- some other field conveyed the same information in a clearer format\n",
    "- they are of no interest for this study (barcodes, image urls)"
   ]
  },
  {
   "cell_type": "code",
   "execution_count": 3,
   "metadata": {},
   "outputs": [],
   "source": [
    "chosen_fields = ['product_name', 'packaging_tags', 'brands_tags',\n",
    "                 'origins_tags', 'manufacturing_places_tags', 'labels_en', 'stores', 'countries_en',\n",
    "                 'additives_n', 'ingredients_from_palm_oil_n', 'ingredients_that_may_be_from_palm_oil_n', \n",
    "                 'nutrition_grade_fr', 'pnns_groups_1', 'fruits-vegetables-nuts_100g',\n",
    "                 'main_category_en', 'energy_100g', 'energy-from-fat_100g', 'fat_100g', \n",
    "                 'saturated-fat_100g', 'monounsaturated-fat_100g', 'polyunsaturated-fat_100g', \n",
    "                 'omega-3-fat_100g', 'omega-6-fat_100g', 'omega-9-fat_100g', 'trans-fat_100g', \n",
    "                 'cholesterol_100g', 'carbohydrates_100g', 'sugars_100g', 'proteins_100g', 'sodium_100g', \n",
    "                 'nutrition-score-fr_100g', 'nutrition-score-uk_100g']"
   ]
  },
  {
   "cell_type": "code",
   "execution_count": 4,
   "metadata": {},
   "outputs": [],
   "source": [
    "chosen_data = data[chosen_fields]"
   ]
  },
  {
   "cell_type": "markdown",
   "metadata": {},
   "source": [
    "#### Data Cleaning"
   ]
  },
  {
   "cell_type": "markdown",
   "metadata": {},
   "source": [
    "##### Non-Numerical Fields"
   ]
  },
  {
   "cell_type": "markdown",
   "metadata": {},
   "source": [
    "We are going to clean the packaging_tags, brands_tags, origins_tags, manufacturing_places_tags, labels_en, stores, countries_en, pnns_groups_1 fields in order to remove repetitions."
   ]
  },
  {
   "cell_type": "markdown",
   "metadata": {},
   "source": [
    "An easy example is pnnns_groups_1:"
   ]
  },
  {
   "cell_type": "code",
   "execution_count": 5,
   "metadata": {},
   "outputs": [
    {
     "data": {
      "text/plain": [
       "unknown                    122802\n",
       "Sugary snacks               29975\n",
       "Milk and dairy products     17932\n",
       "Composite foods             14659\n",
       "Cereals and potatoes        14575\n",
       "Fish Meat Eggs              13970\n",
       "Beverages                   12410\n",
       "Fat and sauces              11400\n",
       "Fruits and vegetables       11086\n",
       "Salty snacks                 5591\n",
       "fruits-and-vegetables        1537\n",
       "sugary-snacks                1450\n",
       "cereals-and-potatoes           25\n",
       "salty-snacks                    3\n",
       "Name: pnns_groups_1, dtype: int64"
      ]
     },
     "execution_count": 5,
     "metadata": {},
     "output_type": "execute_result"
    }
   ],
   "source": [
    "chosen_data['pnns_groups_1'].value_counts()"
   ]
  },
  {
   "cell_type": "markdown",
   "metadata": {},
   "source": [
    "We can see that \"Sugary snacks\" (2nd position) and \"sugary-snacks\"(3rd to last position) should be the same."
   ]
  },
  {
   "cell_type": "markdown",
   "metadata": {},
   "source": [
    "##### Numerical Fields"
   ]
  },
  {
   "cell_type": "markdown",
   "metadata": {},
   "source": [
    "The fields ending with \"\\_100g\" and \"\\_n\" are floats, we are going to investigate the values and eliminate the weird ones."
   ]
  },
  {
   "cell_type": "code",
   "execution_count": 6,
   "metadata": {},
   "outputs": [
    {
     "data": {
      "text/html": [
       "<div>\n",
       "<style scoped>\n",
       "    .dataframe tbody tr th:only-of-type {\n",
       "        vertical-align: middle;\n",
       "    }\n",
       "\n",
       "    .dataframe tbody tr th {\n",
       "        vertical-align: top;\n",
       "    }\n",
       "\n",
       "    .dataframe thead th {\n",
       "        text-align: right;\n",
       "    }\n",
       "</style>\n",
       "<table border=\"1\" class=\"dataframe\">\n",
       "  <thead>\n",
       "    <tr style=\"text-align: right;\">\n",
       "      <th></th>\n",
       "      <th>additives_n</th>\n",
       "      <th>ingredients_from_palm_oil_n</th>\n",
       "      <th>ingredients_that_may_be_from_palm_oil_n</th>\n",
       "      <th>fruits-vegetables-nuts_100g</th>\n",
       "      <th>energy_100g</th>\n",
       "      <th>energy-from-fat_100g</th>\n",
       "      <th>fat_100g</th>\n",
       "      <th>saturated-fat_100g</th>\n",
       "      <th>monounsaturated-fat_100g</th>\n",
       "      <th>polyunsaturated-fat_100g</th>\n",
       "      <th>...</th>\n",
       "      <th>omega-6-fat_100g</th>\n",
       "      <th>omega-9-fat_100g</th>\n",
       "      <th>trans-fat_100g</th>\n",
       "      <th>cholesterol_100g</th>\n",
       "      <th>carbohydrates_100g</th>\n",
       "      <th>sugars_100g</th>\n",
       "      <th>proteins_100g</th>\n",
       "      <th>sodium_100g</th>\n",
       "      <th>nutrition-score-fr_100g</th>\n",
       "      <th>nutrition-score-uk_100g</th>\n",
       "    </tr>\n",
       "  </thead>\n",
       "  <tbody>\n",
       "    <tr>\n",
       "      <th>count</th>\n",
       "      <td>394204.000000</td>\n",
       "      <td>394204.000000</td>\n",
       "      <td>394204.000000</td>\n",
       "      <td>3447.000000</td>\n",
       "      <td>5.950740e+05</td>\n",
       "      <td>912.000000</td>\n",
       "      <td>589691.000000</td>\n",
       "      <td>563782.000000</td>\n",
       "      <td>23748.000000</td>\n",
       "      <td>23788.000000</td>\n",
       "      <td>...</td>\n",
       "      <td>275.000000</td>\n",
       "      <td>32.000000</td>\n",
       "      <td>143944.000000</td>\n",
       "      <td>144627.000000</td>\n",
       "      <td>589436.000000</td>\n",
       "      <td>579046.000000</td>\n",
       "      <td>593642.000000</td>\n",
       "      <td>573874.000000</td>\n",
       "      <td>141399.000000</td>\n",
       "      <td>141399.000000</td>\n",
       "    </tr>\n",
       "    <tr>\n",
       "      <th>mean</th>\n",
       "      <td>1.573604</td>\n",
       "      <td>0.030753</td>\n",
       "      <td>0.070007</td>\n",
       "      <td>38.850017</td>\n",
       "      <td>1.177141e+03</td>\n",
       "      <td>562.548564</td>\n",
       "      <td>13.645716</td>\n",
       "      <td>5.355778</td>\n",
       "      <td>10.799654</td>\n",
       "      <td>6.482887</td>\n",
       "      <td>...</td>\n",
       "      <td>19.976836</td>\n",
       "      <td>35.469547</td>\n",
       "      <td>0.074164</td>\n",
       "      <td>0.023915</td>\n",
       "      <td>30.956099</td>\n",
       "      <td>15.768933</td>\n",
       "      <td>8.180591</td>\n",
       "      <td>1.052354</td>\n",
       "      <td>9.409543</td>\n",
       "      <td>8.825034</td>\n",
       "    </tr>\n",
       "    <tr>\n",
       "      <th>std</th>\n",
       "      <td>2.302502</td>\n",
       "      <td>0.174461</td>\n",
       "      <td>0.307981</td>\n",
       "      <td>34.693390</td>\n",
       "      <td>7.907707e+03</td>\n",
       "      <td>701.411498</td>\n",
       "      <td>111.995750</td>\n",
       "      <td>42.528905</td>\n",
       "      <td>18.916225</td>\n",
       "      <td>11.422893</td>\n",
       "      <td>...</td>\n",
       "      <td>54.628484</td>\n",
       "      <td>26.667426</td>\n",
       "      <td>1.544746</td>\n",
       "      <td>0.635228</td>\n",
       "      <td>272.673928</td>\n",
       "      <td>194.451028</td>\n",
       "      <td>63.648373</td>\n",
       "      <td>87.773859</td>\n",
       "      <td>8.887304</td>\n",
       "      <td>9.376735</td>\n",
       "    </tr>\n",
       "    <tr>\n",
       "      <th>min</th>\n",
       "      <td>0.000000</td>\n",
       "      <td>0.000000</td>\n",
       "      <td>0.000000</td>\n",
       "      <td>0.000000</td>\n",
       "      <td>0.000000e+00</td>\n",
       "      <td>0.000000</td>\n",
       "      <td>0.000000</td>\n",
       "      <td>0.000000</td>\n",
       "      <td>0.000000</td>\n",
       "      <td>0.000000</td>\n",
       "      <td>...</td>\n",
       "      <td>0.000000</td>\n",
       "      <td>0.005500</td>\n",
       "      <td>-3.570000</td>\n",
       "      <td>0.000000</td>\n",
       "      <td>0.000000</td>\n",
       "      <td>-17.860000</td>\n",
       "      <td>-800.000000</td>\n",
       "      <td>0.000000</td>\n",
       "      <td>-15.000000</td>\n",
       "      <td>-15.000000</td>\n",
       "    </tr>\n",
       "    <tr>\n",
       "      <th>25%</th>\n",
       "      <td>0.000000</td>\n",
       "      <td>0.000000</td>\n",
       "      <td>0.000000</td>\n",
       "      <td>2.500000</td>\n",
       "      <td>4.180000e+02</td>\n",
       "      <td>43.800000</td>\n",
       "      <td>0.500000</td>\n",
       "      <td>0.100000</td>\n",
       "      <td>0.210000</td>\n",
       "      <td>0.000000</td>\n",
       "      <td>...</td>\n",
       "      <td>1.635000</td>\n",
       "      <td>7.275000</td>\n",
       "      <td>0.000000</td>\n",
       "      <td>0.000000</td>\n",
       "      <td>3.900000</td>\n",
       "      <td>0.800000</td>\n",
       "      <td>1.000000</td>\n",
       "      <td>0.025988</td>\n",
       "      <td>2.000000</td>\n",
       "      <td>1.000000</td>\n",
       "    </tr>\n",
       "    <tr>\n",
       "      <th>50%</th>\n",
       "      <td>1.000000</td>\n",
       "      <td>0.000000</td>\n",
       "      <td>0.000000</td>\n",
       "      <td>35.000000</td>\n",
       "      <td>1.096000e+03</td>\n",
       "      <td>292.500000</td>\n",
       "      <td>6.300000</td>\n",
       "      <td>1.800000</td>\n",
       "      <td>4.100000</td>\n",
       "      <td>2.330000</td>\n",
       "      <td>...</td>\n",
       "      <td>8.900000</td>\n",
       "      <td>30.000000</td>\n",
       "      <td>0.000000</td>\n",
       "      <td>0.000000</td>\n",
       "      <td>16.670000</td>\n",
       "      <td>4.400000</td>\n",
       "      <td>5.400000</td>\n",
       "      <td>0.214000</td>\n",
       "      <td>10.000000</td>\n",
       "      <td>8.000000</td>\n",
       "    </tr>\n",
       "    <tr>\n",
       "      <th>75%</th>\n",
       "      <td>2.000000</td>\n",
       "      <td>0.000000</td>\n",
       "      <td>0.000000</td>\n",
       "      <td>60.450000</td>\n",
       "      <td>1.674000e+03</td>\n",
       "      <td>883.000000</td>\n",
       "      <td>21.000000</td>\n",
       "      <td>7.300000</td>\n",
       "      <td>10.710000</td>\n",
       "      <td>7.500000</td>\n",
       "      <td>...</td>\n",
       "      <td>24.000000</td>\n",
       "      <td>61.200000</td>\n",
       "      <td>0.000000</td>\n",
       "      <td>0.020000</td>\n",
       "      <td>55.000000</td>\n",
       "      <td>21.820000</td>\n",
       "      <td>11.000000</td>\n",
       "      <td>0.533000</td>\n",
       "      <td>16.000000</td>\n",
       "      <td>17.000000</td>\n",
       "    </tr>\n",
       "    <tr>\n",
       "      <th>max</th>\n",
       "      <td>30.000000</td>\n",
       "      <td>3.000000</td>\n",
       "      <td>6.000000</td>\n",
       "      <td>100.000000</td>\n",
       "      <td>2.845810e+06</td>\n",
       "      <td>3830.000000</td>\n",
       "      <td>66700.000000</td>\n",
       "      <td>18000.000000</td>\n",
       "      <td>1250.000000</td>\n",
       "      <td>417.000000</td>\n",
       "      <td>...</td>\n",
       "      <td>777.000000</td>\n",
       "      <td>75.000000</td>\n",
       "      <td>369.000000</td>\n",
       "      <td>127.000000</td>\n",
       "      <td>86700.000000</td>\n",
       "      <td>86700.000000</td>\n",
       "      <td>31000.000000</td>\n",
       "      <td>40000.000000</td>\n",
       "      <td>40.000000</td>\n",
       "      <td>40.000000</td>\n",
       "    </tr>\n",
       "  </tbody>\n",
       "</table>\n",
       "<p>8 rows × 21 columns</p>\n",
       "</div>"
      ],
      "text/plain": [
       "         additives_n  ingredients_from_palm_oil_n  \\\n",
       "count  394204.000000                394204.000000   \n",
       "mean        1.573604                     0.030753   \n",
       "std         2.302502                     0.174461   \n",
       "min         0.000000                     0.000000   \n",
       "25%         0.000000                     0.000000   \n",
       "50%         1.000000                     0.000000   \n",
       "75%         2.000000                     0.000000   \n",
       "max        30.000000                     3.000000   \n",
       "\n",
       "       ingredients_that_may_be_from_palm_oil_n  fruits-vegetables-nuts_100g  \\\n",
       "count                            394204.000000                  3447.000000   \n",
       "mean                                  0.070007                    38.850017   \n",
       "std                                   0.307981                    34.693390   \n",
       "min                                   0.000000                     0.000000   \n",
       "25%                                   0.000000                     2.500000   \n",
       "50%                                   0.000000                    35.000000   \n",
       "75%                                   0.000000                    60.450000   \n",
       "max                                   6.000000                   100.000000   \n",
       "\n",
       "        energy_100g  energy-from-fat_100g       fat_100g  saturated-fat_100g  \\\n",
       "count  5.950740e+05            912.000000  589691.000000       563782.000000   \n",
       "mean   1.177141e+03            562.548564      13.645716            5.355778   \n",
       "std    7.907707e+03            701.411498     111.995750           42.528905   \n",
       "min    0.000000e+00              0.000000       0.000000            0.000000   \n",
       "25%    4.180000e+02             43.800000       0.500000            0.100000   \n",
       "50%    1.096000e+03            292.500000       6.300000            1.800000   \n",
       "75%    1.674000e+03            883.000000      21.000000            7.300000   \n",
       "max    2.845810e+06           3830.000000   66700.000000        18000.000000   \n",
       "\n",
       "       monounsaturated-fat_100g  polyunsaturated-fat_100g  \\\n",
       "count              23748.000000              23788.000000   \n",
       "mean                  10.799654                  6.482887   \n",
       "std                   18.916225                 11.422893   \n",
       "min                    0.000000                  0.000000   \n",
       "25%                    0.210000                  0.000000   \n",
       "50%                    4.100000                  2.330000   \n",
       "75%                   10.710000                  7.500000   \n",
       "max                 1250.000000                417.000000   \n",
       "\n",
       "                ...             omega-6-fat_100g  omega-9-fat_100g  \\\n",
       "count           ...                   275.000000         32.000000   \n",
       "mean            ...                    19.976836         35.469547   \n",
       "std             ...                    54.628484         26.667426   \n",
       "min             ...                     0.000000          0.005500   \n",
       "25%             ...                     1.635000          7.275000   \n",
       "50%             ...                     8.900000         30.000000   \n",
       "75%             ...                    24.000000         61.200000   \n",
       "max             ...                   777.000000         75.000000   \n",
       "\n",
       "       trans-fat_100g  cholesterol_100g  carbohydrates_100g    sugars_100g  \\\n",
       "count   143944.000000     144627.000000       589436.000000  579046.000000   \n",
       "mean         0.074164          0.023915           30.956099      15.768933   \n",
       "std          1.544746          0.635228          272.673928     194.451028   \n",
       "min         -3.570000          0.000000            0.000000     -17.860000   \n",
       "25%          0.000000          0.000000            3.900000       0.800000   \n",
       "50%          0.000000          0.000000           16.670000       4.400000   \n",
       "75%          0.000000          0.020000           55.000000      21.820000   \n",
       "max        369.000000        127.000000        86700.000000   86700.000000   \n",
       "\n",
       "       proteins_100g    sodium_100g  nutrition-score-fr_100g  \\\n",
       "count  593642.000000  573874.000000            141399.000000   \n",
       "mean        8.180591       1.052354                 9.409543   \n",
       "std        63.648373      87.773859                 8.887304   \n",
       "min      -800.000000       0.000000               -15.000000   \n",
       "25%         1.000000       0.025988                 2.000000   \n",
       "50%         5.400000       0.214000                10.000000   \n",
       "75%        11.000000       0.533000                16.000000   \n",
       "max     31000.000000   40000.000000                40.000000   \n",
       "\n",
       "       nutrition-score-uk_100g  \n",
       "count            141399.000000  \n",
       "mean                  8.825034  \n",
       "std                   9.376735  \n",
       "min                 -15.000000  \n",
       "25%                   1.000000  \n",
       "50%                   8.000000  \n",
       "75%                  17.000000  \n",
       "max                  40.000000  \n",
       "\n",
       "[8 rows x 21 columns]"
      ]
     },
     "execution_count": 6,
     "metadata": {},
     "output_type": "execute_result"
    }
   ],
   "source": [
    "chosen_data.select_dtypes(include='float64').describe()"
   ]
  },
  {
   "cell_type": "markdown",
   "metadata": {},
   "source": [
    "### Plan for Analysis and Communication"
   ]
  },
  {
   "cell_type": "markdown",
   "metadata": {},
   "source": [
    "#### Step 1 - NutriScore"
   ]
  },
  {
   "cell_type": "code",
   "execution_count": 7,
   "metadata": {},
   "outputs": [],
   "source": [
    "data_size = data.shape[0]\n",
    "def calculate_apparition_pct(field):\n",
    "    pct = (100*data[field].dropna().shape[0]/data_size)\n",
    "    print('The apparition percentage is %.3f%%' % pct)\n",
    "    return pct"
   ]
  },
  {
   "cell_type": "markdown",
   "metadata": {},
   "source": [
    "Now that we have a cleaned dataset, we can start working on the analysis. \n",
    "The first step will be to calculate the [NutriScore](http://fr.openfoodfacts.org/score-nutritionnel-experimental-france) (we will keep the numerical value, instead of its corresponding alphabetical grade) where it is missing. \n",
    "We "
   ]
  },
  {
   "cell_type": "code",
   "execution_count": 8,
   "metadata": {},
   "outputs": [
    {
     "name": "stdout",
     "output_type": "stream",
     "text": [
      "The apparition percentage is 20.263%\n"
     ]
    }
   ],
   "source": [
    "calculate_apparition_pct('nutrition_grade_fr');"
   ]
  },
  {
   "cell_type": "markdown",
   "metadata": {},
   "source": [
    "We have all the parameters needed for the NutriScore formula (energy, saturated fats, sugars, proteins, sodium, fibers and \"fruits, vegetables and nuts percentage\" per 100g). \n",
    "Sadly, we can see below that the percentage of products where we could derive the NutriScore drops from 77.3% to 38.3% when we use the fiber. \n",
    "This might or might not be a problem, depending if the nans occur when a product doesn't have fibers (i.e. NaN corresponds to 0) or if they are simply missing. \n",
    "Thus, we will have to investigate.\n",
    "\n",
    "A bigger problem however is the ridiculously small apparition percentage of the fruits-vegetables-nuts_100g field. Again, perhaps that the NaNs correspond to 0s. In any case, we will need to investigate. "
   ]
  },
  {
   "cell_type": "code",
   "execution_count": 9,
   "metadata": {},
   "outputs": [
    {
     "name": "stdout",
     "output_type": "stream",
     "text": [
      "The apparition percentage is 77.319%\n"
     ]
    }
   ],
   "source": [
    "calculate_apparition_pct(['energy_100g', 'saturated-fat_100g', 'sugars_100g', 'proteins_100g', 'sodium_100g']);"
   ]
  },
  {
   "cell_type": "code",
   "execution_count": 10,
   "metadata": {},
   "outputs": [
    {
     "name": "stdout",
     "output_type": "stream",
     "text": [
      "The apparition percentage is 38.294%\n"
     ]
    }
   ],
   "source": [
    "calculate_apparition_pct(['energy_100g', 'saturated-fat_100g', 'sugars_100g', 'proteins_100g', 'sodium_100g', 'fiber_100g']);"
   ]
  },
  {
   "cell_type": "code",
   "execution_count": 11,
   "metadata": {},
   "outputs": [
    {
     "name": "stdout",
     "output_type": "stream",
     "text": [
      "The apparition percentage is 0.494%\n"
     ]
    }
   ],
   "source": [
    "calculate_apparition_pct('fruits-vegetables-nuts_100g');"
   ]
  },
  {
   "cell_type": "markdown",
   "metadata": {},
   "source": [
    "One approach we consider is to use machine learning to calculate the NutriScore without the fruits-vegetables-nuts_100g.\n",
    "In the worst case, where we don't find a smart way to tackle these issues, we will simply have overall smaller nutritional scores. \n",
    "Hence we will still be able to proceed with the analysis in any case. "
   ]
  },
  {
   "cell_type": "markdown",
   "metadata": {},
   "source": [
    "#### Step 2 - NutriScore Classification"
   ]
  },
  {
   "cell_type": "markdown",
   "metadata": {},
   "source": [
    "Now that we have the NutriScore as benchmark, we can classify the different characteristics (brands, origins, manufacturing places, labels, stores and countries) and correlate it with the number of ingredients from palm oil and the number of additives.\n",
    "\n",
    "For each of the aforementioned characteristics, we are going to rank their most represented values based on their respective NutriScore, using the mean (or another statistic like the median if we are not convinced by its usefullness). For instance, the 5 most represented brands are:"
   ]
  },
  {
   "cell_type": "code",
   "execution_count": 12,
   "metadata": {},
   "outputs": [
    {
     "data": {
      "text/plain": [
       "['carrefour', 'auchan', 'u', 'casino', 'leader-price']"
      ]
     },
     "execution_count": 12,
     "metadata": {},
     "output_type": "execute_result"
    }
   ],
   "source": [
    "list(data['brands_tags'].value_counts()[:5].index)"
   ]
  },
  {
   "cell_type": "markdown",
   "metadata": {},
   "source": [
    "we wonder how they rank regarding to the NutriScore mean of their respective products."
   ]
  },
  {
   "cell_type": "markdown",
   "metadata": {},
   "source": [
    "#### Step 3 - Eco-Friendliness"
   ]
  },
  {
   "cell_type": "markdown",
   "metadata": {},
   "source": [
    "Another classification that we consider is the packaging of the products. \n",
    "Indeed, after inspecting the packaging_tags and classifying them based on recyclability, we get another benchmark.\n",
    "We can thus repeat step 2 and classify according to the eco-friendliness."
   ]
  },
  {
   "cell_type": "code",
   "execution_count": 13,
   "metadata": {},
   "outputs": [
    {
     "name": "stdout",
     "output_type": "stream",
     "text": [
      "The apparition percentage is 20.156%\n"
     ]
    },
    {
     "data": {
      "text/plain": [
       "140651.0"
      ]
     },
     "execution_count": 13,
     "metadata": {},
     "output_type": "execute_result"
    }
   ],
   "source": [
    "calculate_apparition_pct('packaging_tags')*data_size/100"
   ]
  },
  {
   "cell_type": "markdown",
   "metadata": {},
   "source": [
    "We can see the packaging_tags field has a considerable number of values (more than 140'000)."
   ]
  },
  {
   "cell_type": "markdown",
   "metadata": {},
   "source": [
    "##### Travel Distance"
   ]
  },
  {
   "cell_type": "markdown",
   "metadata": {},
   "source": [
    "Another evaluator to add to this \"eco-friendliness\" benchmark is the distance between the production and selling sites. "
   ]
  },
  {
   "cell_type": "code",
   "execution_count": 14,
   "metadata": {},
   "outputs": [
    {
     "name": "stdout",
     "output_type": "stream",
     "text": [
      "The apparition percentage is 5.512%\n"
     ]
    },
    {
     "data": {
      "text/plain": [
       "38467.00000000001"
      ]
     },
     "execution_count": 14,
     "metadata": {},
     "output_type": "execute_result"
    }
   ],
   "source": [
    "calculate_apparition_pct(['packaging_tags', 'origins_tags', 'countries_en', 'brands'])*data_size/100"
   ]
  },
  {
   "cell_type": "markdown",
   "metadata": {},
   "source": [
    "For instance the number of occurences for the brands is non-negligible (more than 38'000). Therefore we can benchmark the brands under this new \"label\"."
   ]
  }
 ],
 "metadata": {
  "kernelspec": {
   "display_name": "Python 3",
   "language": "python",
   "name": "python3"
  },
  "language_info": {
   "codemirror_mode": {
    "name": "ipython",
    "version": 3
   },
   "file_extension": ".py",
   "mimetype": "text/x-python",
   "name": "python",
   "nbconvert_exporter": "python",
   "pygments_lexer": "ipython3",
   "version": "3.7.0"
  }
 },
 "nbformat": 4,
 "nbformat_minor": 2
}
