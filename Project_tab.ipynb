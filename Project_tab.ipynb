{
 "cells": [
  {
   "cell_type": "code",
   "execution_count": 1,
   "metadata": {},
   "outputs": [],
   "source": [
    "import pandas as pd\n",
    "import numpy as np\n",
    "import matplotlib.pyplot as plt\n",
    "import seaborn as sns; sns.set()\n",
    "plt.style.use('seaborn')\n",
    "from collections import Counter"
   ]
  },
  {
   "cell_type": "code",
   "execution_count": 2,
   "metadata": {},
   "outputs": [
    {
     "name": "stderr",
     "output_type": "stream",
     "text": [
      "/Users/Crespo/anaconda3/lib/python3.6/site-packages/IPython/core/interactiveshell.py:2785: DtypeWarning: Columns (0,3,5,24,25,26,28,36,41,49) have mixed types. Specify dtype option on import or set low_memory=False.\n",
      "  interactivity=interactivity, compiler=compiler, result=result)\n"
     ]
    }
   ],
   "source": [
    "data_folder = 'data/'\n",
    "data = pd.read_csv('en.openfoodfacts.org.products.csv', sep='\\t')"
   ]
  },
  {
   "cell_type": "markdown",
   "metadata": {},
   "source": [
    "# Data Preprocessing"
   ]
  },
  {
   "cell_type": "markdown",
   "metadata": {},
   "source": [
    "### Chosen Fields"
   ]
  },
  {
   "cell_type": "markdown",
   "metadata": {},
   "source": [
    "(at least some text that explains why we dropped the other fields)"
   ]
  },
  {
   "cell_type": "code",
   "execution_count": 3,
   "metadata": {},
   "outputs": [],
   "source": [
    "chosen_fields = ['product_name', 'packaging_tags', 'brands_tags',\n",
    "                 'origins_tags', 'manufacturing_places_tags', 'labels_en', 'stores', 'countries_en',\n",
    "                 'additives_n', 'ingredients_from_palm_oil_n', 'ingredients_that_may_be_from_palm_oil_n', \n",
    "                 'nutrition_grade_fr', 'pnns_groups_1', 'fruits-vegetables-nuts_100g',\n",
    "                 'main_category_en', 'energy_100g', 'energy-from-fat_100g', 'fat_100g', \n",
    "                 'saturated-fat_100g', 'monounsaturated-fat_100g', 'polyunsaturated-fat_100g', \n",
    "                 'omega-3-fat_100g', 'omega-6-fat_100g', 'omega-9-fat_100g', 'trans-fat_100g', \n",
    "                 'cholesterol_100g', 'carbohydrates_100g', 'sugars_100g', 'fiber_100g', 'proteins_100g', 'sodium_100g', \n",
    "                 'nutrition-score-fr_100g', 'nutrition-score-uk_100g', 'carbon-footprint_100g', 'first_packaging_code_geo']\n",
    "\n",
    "data = data[chosen_fields]"
   ]
  },
  {
   "cell_type": "markdown",
   "metadata": {},
   "source": [
    "## Field Cleaning"
   ]
  },
  {
   "cell_type": "markdown",
   "metadata": {},
   "source": [
    "The 'pnns_groups_1' field is particularly usefull in our study. \n",
    "Indeed, it sorts the different food entries by some clear category, as seen below."
   ]
  },
  {
   "cell_type": "markdown",
   "metadata": {},
   "source": [
    "A simple map allows for better organisation and also cleans the duplicate field entries:"
   ]
  },
  {
   "cell_type": "code",
   "execution_count": 4,
   "metadata": {},
   "outputs": [],
   "source": [
    "my_map = {'unknown' : 'Unknown',\n",
    " 'Sugary snacks' : 'Snacks', \n",
    " 'Milk and dairy products' : 'Dairies',\n",
    " 'Composite foods' : 'Composite', \n",
    " 'Cereals and potatoes' : 'Starchy', \n",
    " 'Fish Meat Eggs' : 'Fish Meat Eggs',\n",
    " 'Beverages' : 'Beverages',\n",
    " 'Fat and sauces' : 'Fat Sauces',\n",
    " 'Fruits and vegetables' : 'Fruits Vegetables',\n",
    " 'Salty snacks' : 'Snacks',\n",
    " 'fruits-and-vegetables' : 'Fruits Vegetables',\n",
    " 'sugary-snacks' : 'Snacks',\n",
    " 'cereals-and-potatoes' : 'Starchy',\n",
    " 'salty-snacks' : 'Snacks'\n",
    "}\n",
    "\n",
    "data['Category'] = data['pnns_groups_1'].replace(my_map)"
   ]
  },
  {
   "cell_type": "markdown",
   "metadata": {},
   "source": [
    "Now the categories are clear:"
   ]
  },
  {
   "cell_type": "code",
   "execution_count": 5,
   "metadata": {},
   "outputs": [
    {
     "data": {
      "text/plain": [
       "Unknown              122802\n",
       "Snacks                37019\n",
       "Dairies               17932\n",
       "Composite             14659\n",
       "Starchy               14600\n",
       "Fish Meat Eggs        13970\n",
       "Fruits Vegetables     12623\n",
       "Beverages             12410\n",
       "Fat Sauces            11400\n",
       "Name: Category, dtype: int64"
      ]
     },
     "execution_count": 5,
     "metadata": {},
     "output_type": "execute_result"
    }
   ],
   "source": [
    "data['Category'].value_counts()"
   ]
  },
  {
   "cell_type": "markdown",
   "metadata": {},
   "source": [
    "From the 'main_category_en' field, we can recover more entries for the previous categories, as well as a new meaningfull category 'Plant-based foods and beverages', that we will rename 'Veggie' and add it as a new binary field in the data set."
   ]
  },
  {
   "cell_type": "code",
   "execution_count": 6,
   "metadata": {},
   "outputs": [
    {
     "data": {
      "text/plain": [
       "Plant-based foods and beverages    38490\n",
       "Beverages                          26082\n",
       "Sugary snacks                      25179\n",
       "Dairies                            16129\n",
       "Meats                               9783\n",
       "Groceries                           9674\n",
       "Meals                               8338\n",
       "Spreads                             4624\n",
       "Frozen foods                        3152\n",
       "Fruit juices                        3108\n",
       "Desserts                            3076\n",
       "Salty snacks                        3005\n",
       "Seafood                             2919\n",
       "Canned foods                        2766\n",
       "Fats                                1878\n",
       "Baby foods                          1036\n",
       "Sweeteners                           944\n",
       "Sandwiches                           905\n",
       "Farming products                     796\n",
       "Fish and meat and eggs               740\n",
       "Name: main_category_en, dtype: int64"
      ]
     },
     "execution_count": 6,
     "metadata": {},
     "output_type": "execute_result"
    }
   ],
   "source": [
    "data['main_category_en'].value_counts().head(20)"
   ]
  },
  {
   "cell_type": "markdown",
   "metadata": {},
   "source": [
    "First the usefull categories of `pnns_groups_1` and `main_category_en` are merged.\n",
    "This merged categorical field is called `category`."
   ]
  },
  {
   "cell_type": "code",
   "execution_count": 7,
   "metadata": {},
   "outputs": [],
   "source": [
    "my_map_2 = {\n",
    "    'Beverages' : 'Beverages',\n",
    "    'Sugary snacks' : 'Snacks',\n",
    "    'Dairies' : 'Dairies',\n",
    "    'Meats' : 'Fish Meat Eggs',\n",
    "    'Meals' : 'Composite',\n",
    "    'Fruit juices' : 'Beverages',\n",
    "    'Salty snacks' : 'Snacks',\n",
    "    'Fats' : 'Fat Sauces',\n",
    "    'Fish and meat and eggs' : 'Fish Meat Eggs'\n",
    "}"
   ]
  },
  {
   "cell_type": "code",
   "execution_count": 8,
   "metadata": {},
   "outputs": [
    {
     "data": {
      "text/plain": [
       "Beverages                 5842\n",
       "Meats                       68\n",
       "Meals                       16\n",
       "Fish and meat and eggs      12\n",
       "Name: main_category_en, dtype: int64"
      ]
     },
     "execution_count": 8,
     "metadata": {},
     "output_type": "execute_result"
    }
   ],
   "source": [
    "not_in_category = data[data['Category'].isna()]\n",
    "keys = my_map_2.keys()\n",
    "not_in_category.query('main_category_en in @keys')['main_category_en'].value_counts()"
   ]
  },
  {
   "cell_type": "markdown",
   "metadata": {},
   "source": [
    "We see that the number of usefull entries that are not already present in `pnns_group_1` are mainly from the `Beverages` category. Nonetheless, we build the new `Category` field as previously exposed, and add these categories, as well as the `pnns_group_1` fields."
   ]
  },
  {
   "cell_type": "code",
   "execution_count": 9,
   "metadata": {},
   "outputs": [],
   "source": [
    "# Adds the values in 'main_category_en' that are not in 'pnns_groups_1' after applying the map\n",
    "new_vals = not_in_category.query('main_category_en in @keys')['main_category_en'].replace(my_map_2)\n",
    "data.loc[new_vals.index, 'Category'] = new_vals"
   ]
  },
  {
   "cell_type": "markdown",
   "metadata": {},
   "source": [
    "Here is the new 'Category' field."
   ]
  },
  {
   "cell_type": "code",
   "execution_count": 10,
   "metadata": {},
   "outputs": [
    {
     "data": {
      "text/plain": [
       "Unknown              122802\n",
       "Snacks                37019\n",
       "Beverages             18252\n",
       "Dairies               17932\n",
       "Composite             14675\n",
       "Starchy               14600\n",
       "Fish Meat Eggs        14050\n",
       "Fruits Vegetables     12623\n",
       "Fat Sauces            11400\n",
       "Name: Category, dtype: int64"
      ]
     },
     "execution_count": 10,
     "metadata": {},
     "output_type": "execute_result"
    }
   ],
   "source": [
    "data['Category'].value_counts()"
   ]
  },
  {
   "cell_type": "markdown",
   "metadata": {},
   "source": [
    "Now the `Plant based food and beverages category` is used to create a new field called `Veggie`."
   ]
  },
  {
   "cell_type": "code",
   "execution_count": 11,
   "metadata": {},
   "outputs": [],
   "source": [
    "data['Veggie'] = data['main_category_en'] == 'Plant-based foods and beverages'"
   ]
  },
  {
   "cell_type": "markdown",
   "metadata": {},
   "source": [
    "The veggie fields from `Category` are also added:"
   ]
  },
  {
   "cell_type": "code",
   "execution_count": 12,
   "metadata": {},
   "outputs": [],
   "source": [
    "data['Veggie'] = data['Veggie'] | (data['Category'] == 'Fruits Vegetables')\n",
    "data['Veggie'] = data['Veggie'] | (data['Category'] == 'Starchy')"
   ]
  },
  {
   "cell_type": "code",
   "execution_count": 13,
   "metadata": {},
   "outputs": [
    {
     "data": {
      "text/plain": [
       "False    657933\n",
       "True      39891\n",
       "Name: Veggie, dtype: int64"
      ]
     },
     "execution_count": 13,
     "metadata": {},
     "output_type": "execute_result"
    }
   ],
   "source": [
    "data['Veggie'].value_counts()"
   ]
  },
  {
   "cell_type": "markdown",
   "metadata": {},
   "source": [
    "Notice that the `False` value doesn't mean that an entry is not veggie."
   ]
  },
  {
   "cell_type": "markdown",
   "metadata": {},
   "source": [
    "# Nutri-Score"
   ]
  },
  {
   "cell_type": "markdown",
   "metadata": {},
   "source": [
    "The Nutri-Score system was developped after Article 14 of the Modernisation Law for the health system, dated 26 January 2016, required the french authorities to recommend a front-of-pack system of labelling that would be simple and accessible for all. \n",
    "The new system includes a colour coded scheme, ranging from green to orange, associated with letters from A to E. Productes designated with an 'A' have the best nutritional quality, while products designated with an E have poorer nutritional quality."
   ]
  },
  {
   "cell_type": "markdown",
   "metadata": {},
   "source": [
    "## Points A"
   ]
  },
  {
   "cell_type": "markdown",
   "metadata": {},
   "source": [
    "| Points | Energy (kJ) | Fat (g) | Sugar (g) | Sodium (mg) |\n",
    "|:------:|:-----------:|:-------:|:---------:|:-----------:|\n",
    "|    0   |    <=335    |   <=1   |   <=4.5   |     <=90    |\n",
    "|    1   |     >335    |    >1   |    >4.5   |     >90     |\n",
    "|    2   |     >670    |    >2   |     >9    |     >180    |\n",
    "|    3   |    >1005    |    >3   |   >13.5   |     >270    |\n",
    "|    4   |    >1340    |    >4   |    >18    |     >360    |\n",
    "|    5   |    >1675    |    >5   |   >22.5   |     >450    |\n",
    "|    6   |    >2010    |    >6   |    >27    |     >540    |\n",
    "|    7   |    >2345    |    >7   |    >31    |     >630    |\n",
    "|    8   |    >2680    |    >8   |    >36    |     >720    |\n",
    "|    9   |    >3015    |    >9   |    >40    |     >810    |\n",
    "|   10   |    >3350    |   >10   |    >45    |     >900    |"
   ]
  },
  {
   "cell_type": "markdown",
   "metadata": {},
   "source": [
    "## Points C"
   ]
  },
  {
   "cell_type": "markdown",
   "metadata": {},
   "source": [
    "| Points | Fruits Vegetables Nuts (%) | Fiber (g) | Proteins (g) |\n",
    "|:------:|:--------------------------:|:---------:|:------------:|\n",
    "|    0   |            <=40            |   <=0.9   |     <=1.6    |\n",
    "|    1   |             >40            |    >0.9   |     >1.6     |\n",
    "|    2   |             >60            |    >1.9   |     >3.2     |\n",
    "|    3   |              -             |    >2.8   |     >4.8     |\n",
    "|    4   |              -             |    >3.7   |     >6.4     |\n",
    "|    5   |             >80            |    >4.7   |     >8.0     |"
   ]
  },
  {
   "cell_type": "markdown",
   "metadata": {},
   "source": [
    "## Nutri-Score Computation\n",
    "  * If `points A` < 11, then `score` = `points A` - `points C`\n",
    "  * If `points A` >= 11:\n",
    "      * If `points(Fruits/Vegetables/Nuts)` = 5, then `score` = `points(A)` - `points(C)`\n",
    "      * If `points(Fruits/Vegetables/Nuts)` < 5, then `score` = `points(A)` - (`points(Fiber)` + `points(Fruits/Vegetables/Nuts)`)"
   ]
  },
  {
   "cell_type": "markdown",
   "metadata": {},
   "source": [
    "## Letters Thresholds\n",
    "### Solid Food\n",
    "  * A: until -1\n",
    "  * B: from 0 to 2\n",
    "  * C: from 3 to 10\n",
    "  * D: from 11 to 18\n",
    "  * E: 19 and more\n",
    "  \n",
    "### Beverages \n",
    "  * A: mineral and spring water\n",
    "  * B: until 1\n",
    "  * C: from 2 to 5\n",
    "  * D: from 6 to 9\n",
    "  * E: 10 and more"
   ]
  },
  {
   "cell_type": "markdown",
   "metadata": {},
   "source": [
    "## Warning\n",
    "When fiber content is not present, its eventual positive contribution is not taken into account.\n",
    "\n",
    "Percentages corresponding to Fruits/Vegetables/Nuts are mainly missing from the packaging. \n",
    "It will be derived from other products as follows:\n",
    "  * 100% : Fruit Juices\n",
    "  * 90% : Fruit Compote\n",
    "  * 85% : Vegetables\n",
    "  * 50% : Jams\n",
    "  \n",
    "Tubers are not considered as vegetables for the nutri-score."
   ]
  },
  {
   "cell_type": "code",
   "execution_count": 14,
   "metadata": {
    "scrolled": true
   },
   "outputs": [
    {
     "name": "stderr",
     "output_type": "stream",
     "text": [
      "/Users/Crespo/anaconda3/lib/python3.6/site-packages/pandas/core/generic.py:5430: SettingWithCopyWarning: \n",
      "A value is trying to be set on a copy of a slice from a DataFrame\n",
      "\n",
      "See the caveats in the documentation: http://pandas.pydata.org/pandas-docs/stable/indexing.html#indexing-view-versus-copy\n",
      "  self._update_inplace(new_data)\n"
     ]
    }
   ],
   "source": [
    "data[(data['main_category_en'] == 'Fruit juices')]['fruits-vegetables-nuts_100g'].fillna(100, inplace=True)"
   ]
  },
  {
   "cell_type": "code",
   "execution_count": 15,
   "metadata": {},
   "outputs": [],
   "source": [
    "beverages = data.query('Category == \"Beverages\"')"
   ]
  },
  {
   "cell_type": "markdown",
   "metadata": {},
   "source": [
    "#### Compute points A"
   ]
  },
  {
   "cell_type": "code",
   "execution_count": 16,
   "metadata": {},
   "outputs": [],
   "source": [
    "# energy\n",
    "energy_bins = [data['energy_100g'].min() - 1, 335, 670, 1005, 1340, 1675, 2010, 2345, 2680, 3015, 3350, data['energy_100g'].max()]\n",
    "data['energy_points'] = pd.cut(data['energy_100g'], energy_bins, labels=range(11)).astype(float)\n",
    "\n",
    "# energy for beverages\n",
    "#bev_energy_bins = [beverages['energy_100g'].min() - 1, 0, 30, 60, 90, 120, 150, 180, 210, 240, 270, beverages['energy_100g'].max()]\n",
    "#bev_energy_points = pd.cut(beverages['energy_100g'], bev_energy_bins, labels=range(11), include_lowest=True)\n",
    "#data['energy_points'][bev_energy_points.index] = bev_energy_points\n",
    "\n",
    "# fat\n",
    "fat_bins = [data['fat_100g'].min() - 1, 1, 2, 3, 4, 5, 6, 7, 8, 9, 10, data['fat_100g'].max()]\n",
    "data['fat_points'] = pd.cut(data['fat_100g'], fat_bins, labels=range(11)).astype(float)\n",
    "\n",
    "# sugar\n",
    "sugar_bins = [data['sugars_100g'].min() - 1, 4.5, 9, 13.5, 18, 22.5, 27, 31, 36, 40, 45, data['sugars_100g'].max()]\n",
    "data['sugar_points'] = pd.cut(data['sugars_100g'], sugar_bins, labels=range(11)).astype(float)\n",
    "\n",
    "# sugar for beverages\n",
    "#bev_sugar_bins = [beverages['sugars_100g'].min() - 1, 0, 1.5, 3, 4.5, 6, 7.5, 9, 10.5, 12, 13.5, beverages['sugars_100g'].max()]\n",
    "#bev_sugar_points = pd.cut(beverages['sugars_100g'], bev_sugar_bins, labels=range(11))\n",
    "#data['sugar_points'][bev_sugar_points.index] = bev_sugar_points\n",
    "\n",
    "# sodium\n",
    "sodium_bins = [data['sodium_100g'].min() - 1, 90, 180, 270, 360, 450, 540, 630, 720, 810, 900, data['sodium_100g'].max()]\n",
    "data['sodium_points'] = pd.cut(data['sodium_100g'], sodium_bins, labels=range(11)).astype(float)\n",
    "\n",
    "data['points_A'] = data['energy_points'] + data['fat_points'] + data['sugar_points'] + data['sodium_points']"
   ]
  },
  {
   "cell_type": "markdown",
   "metadata": {},
   "source": [
    "#### Compute points C"
   ]
  },
  {
   "cell_type": "code",
   "execution_count": 17,
   "metadata": {},
   "outputs": [],
   "source": [
    "# fruits-vegetables-nuts\n",
    "fvn_bins = [data['fruits-vegetables-nuts_100g'].min() - 1, 40, 60, 80, data['fruits-vegetables-nuts_100g'].max()]\n",
    "data['fvn_points'] = pd.cut(data['fruits-vegetables-nuts_100g'], fvn_bins, labels=[0,1,2,5]).astype(float)\n",
    "\n",
    "# fruits-vegetables-nuts for beverages\n",
    "#bev_fvn_bins = [beverages['fruits-vegetables-nuts_100g'].min() - 1, 40, 60, 80, beverages['fruits-vegetables-nuts_100g'].max()]\n",
    "#bev_fvn_points = pd.cut(beverages['fruits-vegetables-nuts_100g'], bev_fvn_bins, labels=[0,2,4,10])\n",
    "#data['fvn_points'][bev_fvn_points.index] = bev_fvn_points\n",
    "data['fvn_points'].fillna(0, inplace=True)\n",
    "\n",
    "# fiber\n",
    "fiber_bins = [data['fiber_100g'].min() - 1, 0.9, 1.9, 2.8, 3.7, 4.7, data['fiber_100g'].max()]\n",
    "data['fiber_points'] = pd.cut(data['fiber_100g'], fiber_bins, labels=range(6)).astype(float)\n",
    "data['fiber_points'].fillna(0, inplace=True)\n",
    "\n",
    "# proteins\n",
    "proteins_bins = [data['proteins_100g'].min() - 1, 1.6, 3.2, 4.8, 6.4, 8.0, data['proteins_100g'].max()]\n",
    "data['proteins_points'] = pd.cut(data['proteins_100g'], proteins_bins, labels=range(6)).astype(float)\n",
    "\n",
    "data['points_C'] = (data['fvn_points'] + data['fiber_points'] + data['proteins_points'])\n",
    "data['points_C'].fillna(0, inplace=True)"
   ]
  },
  {
   "cell_type": "markdown",
   "metadata": {},
   "source": [
    "#### Compute nutri-score"
   ]
  },
  {
   "cell_type": "markdown",
   "metadata": {},
   "source": [
    "We first compute the nutri-score based on the rules formula mentioned ahead."
   ]
  },
  {
   "cell_type": "code",
   "execution_count": 18,
   "metadata": {},
   "outputs": [],
   "source": [
    "def compute_score(row):\n",
    "    A = row['points_A']\n",
    "    C = row['points_C']\n",
    "    fvn = row['fvn_points']\n",
    "    fiber = row['fiber_points']\n",
    "    if A < 11 or fvn == 5:\n",
    "        return A - C\n",
    "    else:\n",
    "        return A - (fiber + fvn)"
   ]
  },
  {
   "cell_type": "code",
   "execution_count": 19,
   "metadata": {},
   "outputs": [],
   "source": [
    "data['nutri-score'] = data.apply(compute_score, axis=1)"
   ]
  },
  {
   "cell_type": "code",
   "execution_count": 20,
   "metadata": {
    "scrolled": false
   },
   "outputs": [
    {
     "data": {
      "text/plain": [
       "<matplotlib.axes._subplots.AxesSubplot at 0x1a2fd5b4e0>"
      ]
     },
     "execution_count": 20,
     "metadata": {},
     "output_type": "execute_result"
    },
    {
     "data": {
      "image/png": "[encoded data removed]",
      "text/plain": [
       "<Figure size 432x288 with 1 Axes>"
      ]
     },
     "metadata": {},
     "output_type": "display_data"
    }
   ],
   "source": [
    "data['nutri-score'].hist(bins=int(data['nutri-score'].max() - data['nutri-score'].min() + 1))"
   ]
  },
  {
   "cell_type": "code",
   "execution_count": 21,
   "metadata": {},
   "outputs": [
    {
     "data": {
      "text/plain": [
       "<matplotlib.axes._subplots.AxesSubplot at 0x1a20e1feb8>"
      ]
     },
     "execution_count": 21,
     "metadata": {},
     "output_type": "execute_result"
    },
    {
     "data": {
      "image/png": "[encoded data removed]",
      "text/plain": [
       "<Figure size 432x288 with 1 Axes>"
      ]
     },
     "metadata": {},
     "output_type": "display_data"
    }
   ],
   "source": [
    "data.plot.scatter('nutrition-score-uk_100g', 'nutri-score')"
   ]
  },
  {
   "cell_type": "markdown",
   "metadata": {},
   "source": [
    "Now we assign the letter corresponding to the nutri-score."
   ]
  },
  {
   "cell_type": "code",
   "execution_count": 22,
   "metadata": {},
   "outputs": [],
   "source": [
    "def nutri_score_letter(row):\n",
    "    nutri_score = row['nutri-score']\n",
    "    product_name = row['product_name']\n",
    "    \n",
    "    # check if nutri_score is nan\n",
    "    if nutri_score != nutri_score:\n",
    "        return np.nan\n",
    "    \n",
    "    if row['Category'] == 'Beverages':\n",
    "        if nutri_score <= 1:\n",
    "            return 'B'\n",
    "        elif nutri_score <= 5:\n",
    "            return 'C'\n",
    "        elif nutri_score <= 9:\n",
    "            return 'D'\n",
    "        else:\n",
    "            return 'E'\n",
    "    else:\n",
    "        if nutri_score <= -1:\n",
    "            return 'A'\n",
    "        elif nutri_score <= 2:\n",
    "            return 'B'\n",
    "        elif nutri_score <= 10:\n",
    "            return 'C'\n",
    "        elif nutri_score <= 18:\n",
    "            return 'D'\n",
    "        else:\n",
    "            return 'E'"
   ]
  },
  {
   "cell_type": "code",
   "execution_count": 23,
   "metadata": {},
   "outputs": [],
   "source": [
    "data['nutri-score_letter'] = data.apply(nutri_score_letter, axis=1)"
   ]
  },
  {
   "cell_type": "markdown",
   "metadata": {},
   "source": [
    "### Analyse the nutri-score across the categories"
   ]
  },
  {
   "cell_type": "code",
   "execution_count": 24,
   "metadata": {
    "scrolled": true
   },
   "outputs": [
    {
     "data": {
      "text/html": [
       "<div>\n",
       "<style scoped>\n",
       "    .dataframe tbody tr th:only-of-type {\n",
       "        vertical-align: middle;\n",
       "    }\n",
       "\n",
       "    .dataframe tbody tr th {\n",
       "        vertical-align: top;\n",
       "    }\n",
       "\n",
       "    .dataframe thead th {\n",
       "        text-align: right;\n",
       "    }\n",
       "</style>\n",
       "<table border=\"1\" class=\"dataframe\">\n",
       "  <thead>\n",
       "    <tr style=\"text-align: right;\">\n",
       "      <th></th>\n",
       "      <th></th>\n",
       "      <th>nutri-score</th>\n",
       "    </tr>\n",
       "    <tr>\n",
       "      <th>Category</th>\n",
       "      <th>nutri-score_letter</th>\n",
       "      <th></th>\n",
       "    </tr>\n",
       "  </thead>\n",
       "  <tbody>\n",
       "    <tr>\n",
       "      <th rowspan=\"4\" valign=\"top\">Beverages</th>\n",
       "      <th>B</th>\n",
       "      <td>5316</td>\n",
       "    </tr>\n",
       "    <tr>\n",
       "      <th>C</th>\n",
       "      <td>4425</td>\n",
       "    </tr>\n",
       "    <tr>\n",
       "      <th>D</th>\n",
       "      <td>84</td>\n",
       "    </tr>\n",
       "    <tr>\n",
       "      <th>E</th>\n",
       "      <td>1759</td>\n",
       "    </tr>\n",
       "    <tr>\n",
       "      <th rowspan=\"5\" valign=\"top\">Composite</th>\n",
       "      <th>A</th>\n",
       "      <td>2250</td>\n",
       "    </tr>\n",
       "    <tr>\n",
       "      <th>B</th>\n",
       "      <td>3341</td>\n",
       "    </tr>\n",
       "    <tr>\n",
       "      <th>C</th>\n",
       "      <td>4267</td>\n",
       "    </tr>\n",
       "    <tr>\n",
       "      <th>D</th>\n",
       "      <td>3701</td>\n",
       "    </tr>\n",
       "    <tr>\n",
       "      <th>E</th>\n",
       "      <td>12</td>\n",
       "    </tr>\n",
       "    <tr>\n",
       "      <th rowspan=\"5\" valign=\"top\">Dairies</th>\n",
       "      <th>A</th>\n",
       "      <td>1051</td>\n",
       "    </tr>\n",
       "    <tr>\n",
       "      <th>B</th>\n",
       "      <td>2739</td>\n",
       "    </tr>\n",
       "    <tr>\n",
       "      <th>C</th>\n",
       "      <td>4299</td>\n",
       "    </tr>\n",
       "    <tr>\n",
       "      <th>D</th>\n",
       "      <td>7542</td>\n",
       "    </tr>\n",
       "    <tr>\n",
       "      <th>E</th>\n",
       "      <td>346</td>\n",
       "    </tr>\n",
       "    <tr>\n",
       "      <th rowspan=\"5\" valign=\"top\">Fat Sauces</th>\n",
       "      <th>A</th>\n",
       "      <td>367</td>\n",
       "    </tr>\n",
       "    <tr>\n",
       "      <th>B</th>\n",
       "      <td>969</td>\n",
       "    </tr>\n",
       "    <tr>\n",
       "      <th>C</th>\n",
       "      <td>1962</td>\n",
       "    </tr>\n",
       "    <tr>\n",
       "      <th>D</th>\n",
       "      <td>3316</td>\n",
       "    </tr>\n",
       "    <tr>\n",
       "      <th>E</th>\n",
       "      <td>3282</td>\n",
       "    </tr>\n",
       "    <tr>\n",
       "      <th rowspan=\"5\" valign=\"top\">Fish Meat Eggs</th>\n",
       "      <th>A</th>\n",
       "      <td>2800</td>\n",
       "    </tr>\n",
       "    <tr>\n",
       "      <th>B</th>\n",
       "      <td>871</td>\n",
       "    </tr>\n",
       "    <tr>\n",
       "      <th>C</th>\n",
       "      <td>981</td>\n",
       "    </tr>\n",
       "    <tr>\n",
       "      <th>D</th>\n",
       "      <td>6896</td>\n",
       "    </tr>\n",
       "    <tr>\n",
       "      <th>E</th>\n",
       "      <td>33</td>\n",
       "    </tr>\n",
       "    <tr>\n",
       "      <th rowspan=\"5\" valign=\"top\">Fruits Vegetables</th>\n",
       "      <th>A</th>\n",
       "      <td>3473</td>\n",
       "    </tr>\n",
       "    <tr>\n",
       "      <th>B</th>\n",
       "      <td>3272</td>\n",
       "    </tr>\n",
       "    <tr>\n",
       "      <th>C</th>\n",
       "      <td>1540</td>\n",
       "    </tr>\n",
       "    <tr>\n",
       "      <th>D</th>\n",
       "      <td>793</td>\n",
       "    </tr>\n",
       "    <tr>\n",
       "      <th>E</th>\n",
       "      <td>144</td>\n",
       "    </tr>\n",
       "    <tr>\n",
       "      <th rowspan=\"5\" valign=\"top\">Snacks</th>\n",
       "      <th>A</th>\n",
       "      <td>196</td>\n",
       "    </tr>\n",
       "    <tr>\n",
       "      <th>B</th>\n",
       "      <td>642</td>\n",
       "    </tr>\n",
       "    <tr>\n",
       "      <th>C</th>\n",
       "      <td>1823</td>\n",
       "    </tr>\n",
       "    <tr>\n",
       "      <th>D</th>\n",
       "      <td>14980</td>\n",
       "    </tr>\n",
       "    <tr>\n",
       "      <th>E</th>\n",
       "      <td>14876</td>\n",
       "    </tr>\n",
       "    <tr>\n",
       "      <th rowspan=\"5\" valign=\"top\">Starchy</th>\n",
       "      <th>A</th>\n",
       "      <td>5008</td>\n",
       "    </tr>\n",
       "    <tr>\n",
       "      <th>B</th>\n",
       "      <td>2917</td>\n",
       "    </tr>\n",
       "    <tr>\n",
       "      <th>C</th>\n",
       "      <td>2204</td>\n",
       "    </tr>\n",
       "    <tr>\n",
       "      <th>D</th>\n",
       "      <td>2437</td>\n",
       "    </tr>\n",
       "    <tr>\n",
       "      <th>E</th>\n",
       "      <td>168</td>\n",
       "    </tr>\n",
       "    <tr>\n",
       "      <th rowspan=\"5\" valign=\"top\">Unknown</th>\n",
       "      <th>A</th>\n",
       "      <td>14183</td>\n",
       "    </tr>\n",
       "    <tr>\n",
       "      <th>B</th>\n",
       "      <td>22663</td>\n",
       "    </tr>\n",
       "    <tr>\n",
       "      <th>C</th>\n",
       "      <td>17232</td>\n",
       "    </tr>\n",
       "    <tr>\n",
       "      <th>D</th>\n",
       "      <td>38810</td>\n",
       "    </tr>\n",
       "    <tr>\n",
       "      <th>E</th>\n",
       "      <td>12481</td>\n",
       "    </tr>\n",
       "  </tbody>\n",
       "</table>\n",
       "</div>"
      ],
      "text/plain": [
       "                                      nutri-score\n",
       "Category          nutri-score_letter             \n",
       "Beverages         B                          5316\n",
       "                  C                          4425\n",
       "                  D                            84\n",
       "                  E                          1759\n",
       "Composite         A                          2250\n",
       "                  B                          3341\n",
       "                  C                          4267\n",
       "                  D                          3701\n",
       "                  E                            12\n",
       "Dairies           A                          1051\n",
       "                  B                          2739\n",
       "                  C                          4299\n",
       "                  D                          7542\n",
       "                  E                           346\n",
       "Fat Sauces        A                           367\n",
       "                  B                           969\n",
       "                  C                          1962\n",
       "                  D                          3316\n",
       "                  E                          3282\n",
       "Fish Meat Eggs    A                          2800\n",
       "                  B                           871\n",
       "                  C                           981\n",
       "                  D                          6896\n",
       "                  E                            33\n",
       "Fruits Vegetables A                          3473\n",
       "                  B                          3272\n",
       "                  C                          1540\n",
       "                  D                           793\n",
       "                  E                           144\n",
       "Snacks            A                           196\n",
       "                  B                           642\n",
       "                  C                          1823\n",
       "                  D                         14980\n",
       "                  E                         14876\n",
       "Starchy           A                          5008\n",
       "                  B                          2917\n",
       "                  C                          2204\n",
       "                  D                          2437\n",
       "                  E                           168\n",
       "Unknown           A                         14183\n",
       "                  B                         22663\n",
       "                  C                         17232\n",
       "                  D                         38810\n",
       "                  E                         12481"
      ]
     },
     "execution_count": 24,
     "metadata": {},
     "output_type": "execute_result"
    }
   ],
   "source": [
    "# Count the letter occurences for each category\n",
    "letter_counts_per_cat = data.groupby(['Category', 'nutri-score_letter']).count()[['nutri-score']]\n",
    "letter_counts_per_cat"
   ]
  },
  {
   "cell_type": "code",
   "execution_count": 25,
   "metadata": {},
   "outputs": [],
   "source": [
    "# For some categories, some letters are not represented. We add the missing rows with 0 as value.\n",
    "for cat in letter_counts_per_cat.index.levels[0]:\n",
    "    for letter in letter_counts_per_cat.index.levels[1]:\n",
    "        if (cat, letter) not in letter_counts_per_cat.index:\n",
    "            letter_counts_per_cat.loc[(cat, letter), :] = 0\n",
    "            \n",
    "letter_counts_per_cat.sort_index(inplace=True)"
   ]
  },
  {
   "cell_type": "code",
   "execution_count": 26,
   "metadata": {},
   "outputs": [],
   "source": [
    "# normalize the counts\n",
    "totals = letter_counts_per_cat.reset_index()[['Category', 'nutri-score']].groupby('Category').sum()\n",
    "score_distr_per_cat = letter_counts_per_cat / totals"
   ]
  },
  {
   "cell_type": "code",
   "execution_count": 27,
   "metadata": {},
   "outputs": [],
   "source": [
    "# colors similar to the original nutri-score ones\n",
    "nutri_score_colors = ['green', 'limegreen', 'gold', 'darkorange', 'orangered']"
   ]
  },
  {
   "cell_type": "code",
   "execution_count": 28,
   "metadata": {},
   "outputs": [
    {
     "name": "stderr",
     "output_type": "stream",
     "text": [
      "/Users/Crespo/anaconda3/lib/python3.6/site-packages/pandas/plotting/_core.py:194: UserWarning: 'colors' is being deprecated. Please use 'color'instead of 'colors'\n",
      "  warnings.warn((\"'colors' is being deprecated. Please use 'color'\"\n"
     ]
    },
    {
     "data": {
      "image/png": "[encoded data removed]",
      "text/plain": [
       "<Figure size 576x432 with 1 Axes>"
      ]
     },
     "metadata": {},
     "output_type": "display_data"
    }
   ],
   "source": [
    "score_distr_per_cat.drop('Unknown').reset_index().pivot(index='Category', columns='nutri-score_letter', values='nutri-score').plot.bar(stacked=True, figsize=(8,6), colors=nutri_score_colors)\n",
    "plt.legend(bbox_to_anchor=(1, 1.0))\n",
    "plt.title('Nutrition score distribution for each food category', fontsize=18);"
   ]
  },
  {
   "cell_type": "code",
   "execution_count": 29,
   "metadata": {},
   "outputs": [
    {
     "data": {
      "text/html": [
       "<div>\n",
       "<style scoped>\n",
       "    .dataframe tbody tr th:only-of-type {\n",
       "        vertical-align: middle;\n",
       "    }\n",
       "\n",
       "    .dataframe tbody tr th {\n",
       "        vertical-align: top;\n",
       "    }\n",
       "\n",
       "    .dataframe thead th {\n",
       "        text-align: right;\n",
       "    }\n",
       "</style>\n",
       "<table border=\"1\" class=\"dataframe\">\n",
       "  <thead>\n",
       "    <tr style=\"text-align: right;\">\n",
       "      <th></th>\n",
       "      <th></th>\n",
       "      <th>nutri-score</th>\n",
       "    </tr>\n",
       "    <tr>\n",
       "      <th>Category</th>\n",
       "      <th>nutri-score_letter</th>\n",
       "      <th></th>\n",
       "    </tr>\n",
       "  </thead>\n",
       "  <tbody>\n",
       "    <tr>\n",
       "      <th rowspan=\"5\" valign=\"top\">Beverages</th>\n",
       "      <th>A</th>\n",
       "      <td>0.0</td>\n",
       "    </tr>\n",
       "    <tr>\n",
       "      <th>B</th>\n",
       "      <td>5316.0</td>\n",
       "    </tr>\n",
       "    <tr>\n",
       "      <th>C</th>\n",
       "      <td>4425.0</td>\n",
       "    </tr>\n",
       "    <tr>\n",
       "      <th>D</th>\n",
       "      <td>84.0</td>\n",
       "    </tr>\n",
       "    <tr>\n",
       "      <th>E</th>\n",
       "      <td>1759.0</td>\n",
       "    </tr>\n",
       "    <tr>\n",
       "      <th rowspan=\"5\" valign=\"top\">Composite</th>\n",
       "      <th>A</th>\n",
       "      <td>2250.0</td>\n",
       "    </tr>\n",
       "    <tr>\n",
       "      <th>B</th>\n",
       "      <td>3341.0</td>\n",
       "    </tr>\n",
       "    <tr>\n",
       "      <th>C</th>\n",
       "      <td>4267.0</td>\n",
       "    </tr>\n",
       "    <tr>\n",
       "      <th>D</th>\n",
       "      <td>3701.0</td>\n",
       "    </tr>\n",
       "    <tr>\n",
       "      <th>E</th>\n",
       "      <td>12.0</td>\n",
       "    </tr>\n",
       "    <tr>\n",
       "      <th rowspan=\"5\" valign=\"top\">Dairies</th>\n",
       "      <th>A</th>\n",
       "      <td>1051.0</td>\n",
       "    </tr>\n",
       "    <tr>\n",
       "      <th>B</th>\n",
       "      <td>2739.0</td>\n",
       "    </tr>\n",
       "    <tr>\n",
       "      <th>C</th>\n",
       "      <td>4299.0</td>\n",
       "    </tr>\n",
       "    <tr>\n",
       "      <th>D</th>\n",
       "      <td>7542.0</td>\n",
       "    </tr>\n",
       "    <tr>\n",
       "      <th>E</th>\n",
       "      <td>346.0</td>\n",
       "    </tr>\n",
       "    <tr>\n",
       "      <th rowspan=\"5\" valign=\"top\">Fat Sauces</th>\n",
       "      <th>A</th>\n",
       "      <td>367.0</td>\n",
       "    </tr>\n",
       "    <tr>\n",
       "      <th>B</th>\n",
       "      <td>969.0</td>\n",
       "    </tr>\n",
       "    <tr>\n",
       "      <th>C</th>\n",
       "      <td>1962.0</td>\n",
       "    </tr>\n",
       "    <tr>\n",
       "      <th>D</th>\n",
       "      <td>3316.0</td>\n",
       "    </tr>\n",
       "    <tr>\n",
       "      <th>E</th>\n",
       "      <td>3282.0</td>\n",
       "    </tr>\n",
       "    <tr>\n",
       "      <th rowspan=\"5\" valign=\"top\">Fish Meat Eggs</th>\n",
       "      <th>A</th>\n",
       "      <td>2800.0</td>\n",
       "    </tr>\n",
       "    <tr>\n",
       "      <th>B</th>\n",
       "      <td>871.0</td>\n",
       "    </tr>\n",
       "    <tr>\n",
       "      <th>C</th>\n",
       "      <td>981.0</td>\n",
       "    </tr>\n",
       "    <tr>\n",
       "      <th>D</th>\n",
       "      <td>6896.0</td>\n",
       "    </tr>\n",
       "    <tr>\n",
       "      <th>E</th>\n",
       "      <td>33.0</td>\n",
       "    </tr>\n",
       "    <tr>\n",
       "      <th rowspan=\"5\" valign=\"top\">Fruits Vegetables</th>\n",
       "      <th>A</th>\n",
       "      <td>3473.0</td>\n",
       "    </tr>\n",
       "    <tr>\n",
       "      <th>B</th>\n",
       "      <td>3272.0</td>\n",
       "    </tr>\n",
       "    <tr>\n",
       "      <th>C</th>\n",
       "      <td>1540.0</td>\n",
       "    </tr>\n",
       "    <tr>\n",
       "      <th>D</th>\n",
       "      <td>793.0</td>\n",
       "    </tr>\n",
       "    <tr>\n",
       "      <th>E</th>\n",
       "      <td>144.0</td>\n",
       "    </tr>\n",
       "    <tr>\n",
       "      <th rowspan=\"5\" valign=\"top\">Snacks</th>\n",
       "      <th>A</th>\n",
       "      <td>196.0</td>\n",
       "    </tr>\n",
       "    <tr>\n",
       "      <th>B</th>\n",
       "      <td>642.0</td>\n",
       "    </tr>\n",
       "    <tr>\n",
       "      <th>C</th>\n",
       "      <td>1823.0</td>\n",
       "    </tr>\n",
       "    <tr>\n",
       "      <th>D</th>\n",
       "      <td>14980.0</td>\n",
       "    </tr>\n",
       "    <tr>\n",
       "      <th>E</th>\n",
       "      <td>14876.0</td>\n",
       "    </tr>\n",
       "    <tr>\n",
       "      <th rowspan=\"5\" valign=\"top\">Starchy</th>\n",
       "      <th>A</th>\n",
       "      <td>5008.0</td>\n",
       "    </tr>\n",
       "    <tr>\n",
       "      <th>B</th>\n",
       "      <td>2917.0</td>\n",
       "    </tr>\n",
       "    <tr>\n",
       "      <th>C</th>\n",
       "      <td>2204.0</td>\n",
       "    </tr>\n",
       "    <tr>\n",
       "      <th>D</th>\n",
       "      <td>2437.0</td>\n",
       "    </tr>\n",
       "    <tr>\n",
       "      <th>E</th>\n",
       "      <td>168.0</td>\n",
       "    </tr>\n",
       "    <tr>\n",
       "      <th rowspan=\"5\" valign=\"top\">Unknown</th>\n",
       "      <th>A</th>\n",
       "      <td>14183.0</td>\n",
       "    </tr>\n",
       "    <tr>\n",
       "      <th>B</th>\n",
       "      <td>22663.0</td>\n",
       "    </tr>\n",
       "    <tr>\n",
       "      <th>C</th>\n",
       "      <td>17232.0</td>\n",
       "    </tr>\n",
       "    <tr>\n",
       "      <th>D</th>\n",
       "      <td>38810.0</td>\n",
       "    </tr>\n",
       "    <tr>\n",
       "      <th>E</th>\n",
       "      <td>12481.0</td>\n",
       "    </tr>\n",
       "  </tbody>\n",
       "</table>\n",
       "</div>"
      ],
      "text/plain": [
       "                                      nutri-score\n",
       "Category          nutri-score_letter             \n",
       "Beverages         A                           0.0\n",
       "                  B                        5316.0\n",
       "                  C                        4425.0\n",
       "                  D                          84.0\n",
       "                  E                        1759.0\n",
       "Composite         A                        2250.0\n",
       "                  B                        3341.0\n",
       "                  C                        4267.0\n",
       "                  D                        3701.0\n",
       "                  E                          12.0\n",
       "Dairies           A                        1051.0\n",
       "                  B                        2739.0\n",
       "                  C                        4299.0\n",
       "                  D                        7542.0\n",
       "                  E                         346.0\n",
       "Fat Sauces        A                         367.0\n",
       "                  B                         969.0\n",
       "                  C                        1962.0\n",
       "                  D                        3316.0\n",
       "                  E                        3282.0\n",
       "Fish Meat Eggs    A                        2800.0\n",
       "                  B                         871.0\n",
       "                  C                         981.0\n",
       "                  D                        6896.0\n",
       "                  E                          33.0\n",
       "Fruits Vegetables A                        3473.0\n",
       "                  B                        3272.0\n",
       "                  C                        1540.0\n",
       "                  D                         793.0\n",
       "                  E                         144.0\n",
       "Snacks            A                         196.0\n",
       "                  B                         642.0\n",
       "                  C                        1823.0\n",
       "                  D                       14980.0\n",
       "                  E                       14876.0\n",
       "Starchy           A                        5008.0\n",
       "                  B                        2917.0\n",
       "                  C                        2204.0\n",
       "                  D                        2437.0\n",
       "                  E                         168.0\n",
       "Unknown           A                       14183.0\n",
       "                  B                       22663.0\n",
       "                  C                       17232.0\n",
       "                  D                       38810.0\n",
       "                  E                       12481.0"
      ]
     },
     "execution_count": 29,
     "metadata": {},
     "output_type": "execute_result"
    }
   ],
   "source": [
    "letter_counts_per_cat"
   ]
  },
  {
   "cell_type": "code",
   "execution_count": 30,
   "metadata": {},
   "outputs": [
    {
     "data": {
      "text/plain": [
       "<matplotlib.axes._subplots.AxesSubplot at 0x1a284a4e80>"
      ]
     },
     "execution_count": 30,
     "metadata": {},
     "output_type": "execute_result"
    },
    {
     "data": {
      "image/png": "[encoded data removed]",
      "text/plain": [
       "<Figure size 936x1872 with 8 Axes>"
      ]
     },
     "metadata": {},
     "output_type": "display_data"
    }
   ],
   "source": [
    "plt.figure(figsize=(13, 26))\n",
    "letter_counts_per_cat.loc['Beverages'].plot.pie('nutri-score', ax=plt.subplot(421), title='Beverages', colors=nutri_score_colors)\n",
    "letter_counts_per_cat.loc['Composite'].plot.pie('nutri-score', ax=plt.subplot(422), title='Composite', colors=nutri_score_colors)\n",
    "letter_counts_per_cat.loc['Dairies'].plot.pie('nutri-score', ax=plt.subplot(423), title='Dairies', colors=nutri_score_colors)\n",
    "letter_counts_per_cat.loc['Fat Sauces'].plot.pie('nutri-score', ax=plt.subplot(424), title='Fat sauces', colors=nutri_score_colors)\n",
    "letter_counts_per_cat.loc['Fish Meat Eggs'].plot.pie('nutri-score', ax=plt.subplot(425), title='Fish, Meat, Eggs', colors=nutri_score_colors)\n",
    "letter_counts_per_cat.loc['Fruits Vegetables'].plot.pie('nutri-score', ax=plt.subplot(426), title='Fruits and Vegetables', colors=nutri_score_colors)\n",
    "letter_counts_per_cat.loc['Snacks'].plot.pie('nutri-score', ax=plt.subplot(427), title='Snacks', colors=nutri_score_colors)\n",
    "letter_counts_per_cat.loc['Starchy'].plot.pie('nutri-score', ax=plt.subplot(428), title='Starchy', colors=nutri_score_colors)"
   ]
  },
  {
   "cell_type": "code",
   "execution_count": 31,
   "metadata": {},
   "outputs": [
    {
     "data": {
      "text/html": [
       "<div>\n",
       "<style scoped>\n",
       "    .dataframe tbody tr th:only-of-type {\n",
       "        vertical-align: middle;\n",
       "    }\n",
       "\n",
       "    .dataframe tbody tr th {\n",
       "        vertical-align: top;\n",
       "    }\n",
       "\n",
       "    .dataframe thead th {\n",
       "        text-align: right;\n",
       "    }\n",
       "</style>\n",
       "<table border=\"1\" class=\"dataframe\">\n",
       "  <thead>\n",
       "    <tr style=\"text-align: right;\">\n",
       "      <th></th>\n",
       "      <th>nutri-score</th>\n",
       "    </tr>\n",
       "    <tr>\n",
       "      <th>Category</th>\n",
       "      <th></th>\n",
       "    </tr>\n",
       "  </thead>\n",
       "  <tbody>\n",
       "    <tr>\n",
       "      <th>Beverages</th>\n",
       "      <td>3.279696</td>\n",
       "    </tr>\n",
       "    <tr>\n",
       "      <th>Composite</th>\n",
       "      <td>4.929629</td>\n",
       "    </tr>\n",
       "    <tr>\n",
       "      <th>Dairies</th>\n",
       "      <td>8.300682</td>\n",
       "    </tr>\n",
       "    <tr>\n",
       "      <th>Fat Sauces</th>\n",
       "      <td>12.640865</td>\n",
       "    </tr>\n",
       "    <tr>\n",
       "      <th>Fish Meat Eggs</th>\n",
       "      <td>7.545117</td>\n",
       "    </tr>\n",
       "    <tr>\n",
       "      <th>Fruits Vegetables</th>\n",
       "      <td>1.669703</td>\n",
       "    </tr>\n",
       "    <tr>\n",
       "      <th>Snacks</th>\n",
       "      <td>17.428699</td>\n",
       "    </tr>\n",
       "    <tr>\n",
       "      <th>Starchy</th>\n",
       "      <td>2.972515</td>\n",
       "    </tr>\n",
       "    <tr>\n",
       "      <th>Unknown</th>\n",
       "      <td>8.481906</td>\n",
       "    </tr>\n",
       "  </tbody>\n",
       "</table>\n",
       "</div>"
      ],
      "text/plain": [
       "                   nutri-score\n",
       "Category                      \n",
       "Beverages             3.279696\n",
       "Composite             4.929629\n",
       "Dairies               8.300682\n",
       "Fat Sauces           12.640865\n",
       "Fish Meat Eggs        7.545117\n",
       "Fruits Vegetables     1.669703\n",
       "Snacks               17.428699\n",
       "Starchy               2.972515\n",
       "Unknown               8.481906"
      ]
     },
     "execution_count": 31,
     "metadata": {},
     "output_type": "execute_result"
    }
   ],
   "source": [
    "score_mean_by_category = data[['Category', 'nutri-score']].groupby('Category').mean()\n",
    "score_mean_by_category"
   ]
  },
  {
   "cell_type": "code",
   "execution_count": 32,
   "metadata": {},
   "outputs": [
    {
     "data": {
      "text/plain": [
       "<matplotlib.axes._subplots.AxesSubplot at 0x1a218f55c0>"
      ]
     },
     "execution_count": 32,
     "metadata": {},
     "output_type": "execute_result"
    },
    {
     "data": {
      "image/png": "[encoded data removed]",
      "text/plain": [
       "<Figure size 720x576 with 1 Axes>"
      ]
     },
     "metadata": {},
     "output_type": "display_data"
    }
   ],
   "source": [
    "plt.figure(figsize=(10,8))\n",
    "sns.barplot(score_mean_by_category['nutri-score'], score_mean_by_category.index,orient='h')"
   ]
  },
  {
   "cell_type": "code",
   "execution_count": 33,
   "metadata": {},
   "outputs": [],
   "source": [
    "carbon_mean_by_category = data[['Category', 'carbon-footprint_100g']].groupby('Category').mean()"
   ]
  },
  {
   "cell_type": "code",
   "execution_count": 34,
   "metadata": {},
   "outputs": [
    {
     "data": {
      "text/html": [
       "<div>\n",
       "<style scoped>\n",
       "    .dataframe tbody tr th:only-of-type {\n",
       "        vertical-align: middle;\n",
       "    }\n",
       "\n",
       "    .dataframe tbody tr th {\n",
       "        vertical-align: top;\n",
       "    }\n",
       "\n",
       "    .dataframe thead th {\n",
       "        text-align: right;\n",
       "    }\n",
       "</style>\n",
       "<table border=\"1\" class=\"dataframe\">\n",
       "  <thead>\n",
       "    <tr style=\"text-align: right;\">\n",
       "      <th></th>\n",
       "      <th>carbon-footprint_100g</th>\n",
       "      <th>nutri-score</th>\n",
       "    </tr>\n",
       "  </thead>\n",
       "  <tbody>\n",
       "    <tr>\n",
       "      <th>carbon-footprint_100g</th>\n",
       "      <td>1.000000</td>\n",
       "      <td>0.209623</td>\n",
       "    </tr>\n",
       "    <tr>\n",
       "      <th>nutri-score</th>\n",
       "      <td>0.209623</td>\n",
       "      <td>1.000000</td>\n",
       "    </tr>\n",
       "  </tbody>\n",
       "</table>\n",
       "</div>"
      ],
      "text/plain": [
       "                       carbon-footprint_100g  nutri-score\n",
       "carbon-footprint_100g               1.000000     0.209623\n",
       "nutri-score                         0.209623     1.000000"
      ]
     },
     "execution_count": 34,
     "metadata": {},
     "output_type": "execute_result"
    }
   ],
   "source": [
    "pd.concat((carbon_mean_by_category, score_mean_by_category), axis=1).corr()"
   ]
  },
  {
   "cell_type": "code",
   "execution_count": 35,
   "metadata": {},
   "outputs": [
    {
     "data": {
      "text/plain": [
       "array([<matplotlib.axes._subplots.AxesSubplot object at 0x1a173d1c18>,\n",
       "       <matplotlib.axes._subplots.AxesSubplot object at 0x1a1537b3c8>],\n",
       "      dtype=object)"
      ]
     },
     "execution_count": 35,
     "metadata": {},
     "output_type": "execute_result"
    },
    {
     "data": {
      "image/png": "[encoded data removed]",
      "text/plain": [
       "<Figure size 576x864 with 2 Axes>"
      ]
     },
     "metadata": {},
     "output_type": "display_data"
    }
   ],
   "source": [
    "pd.concat((carbon_mean_by_category, 20*score_mean_by_category), axis=1).drop('Unknown').sort_values('nutri-score').plot.bar(subplots=True, figsize=(8, 12))"
   ]
  },
  {
   "cell_type": "code",
   "execution_count": 36,
   "metadata": {},
   "outputs": [],
   "source": [
    "countries_en_scores = {}"
   ]
  },
  {
   "cell_type": "code",
   "execution_count": 37,
   "metadata": {},
   "outputs": [],
   "source": [
    "def random_stuff(row):\n",
    "    letter = row['nutri-score_letter']\n",
    "    if letter == letter:\n",
    "        for exportator in row['countries_en'].split(','):\n",
    "            if exportator in countries_en_scores:\n",
    "                countries_en_scores[exportator] += [row['nutri-score_letter']]\n",
    "            else:\n",
    "                countries_en_scores[exportator] = [row['nutri-score_letter']]"
   ]
  },
  {
   "cell_type": "code",
   "execution_count": 38,
   "metadata": {
    "scrolled": true
   },
   "outputs": [],
   "source": [
    "data[data['countries_en'].notna()].apply(random_stuff, axis=1);"
   ]
  },
  {
   "cell_type": "code",
   "execution_count": 39,
   "metadata": {},
   "outputs": [],
   "source": [
    "threshold = 1"
   ]
  },
  {
   "cell_type": "code",
   "execution_count": 40,
   "metadata": {
    "scrolled": true
   },
   "outputs": [
    {
     "data": {
      "text/plain": [
       "{'France': Counter({'D': 140843,\n",
       "          'B': 73279,\n",
       "          'C': 56283,\n",
       "          'A': 38094,\n",
       "          'E': 57039}),\n",
       " 'United States': Counter({'D': 60226,\n",
       "          'A': 26679,\n",
       "          'C': 23913,\n",
       "          'E': 18113,\n",
       "          'B': 31413}),\n",
       " 'Canada': Counter({'D': 352, 'A': 189, 'C': 240, 'E': 136, 'B': 240}),\n",
       " 'Oman': Counter({'D': 1, 'A': 2, 'C': 2, 'B': 2, 'E': 1}),\n",
       " 'Germany': Counter({'E': 1851, 'C': 1896, 'D': 3760, 'B': 2455, 'A': 1385}),\n",
       " 'United Kingdom': Counter({'D': 1349,\n",
       "          'A': 577,\n",
       "          'E': 631,\n",
       "          'B': 719,\n",
       "          'C': 641}),\n",
       " 'Mexico': Counter({'B': 647, 'D': 661, 'A': 368, 'C': 459, 'E': 314}),\n",
       " 'Belgium': Counter({'E': 817, 'C': 894, 'A': 587, 'B': 1136, 'D': 1794}),\n",
       " 'Netherlands': Counter({'E': 143, 'C': 125, 'B': 178, 'D': 297, 'A': 128}),\n",
       " 'Australia': Counter({'E': 112, 'C': 171, 'D': 278, 'A': 122, 'B': 211}),\n",
       " 'Switzerland': Counter({'E': 2170,\n",
       "          'C': 2249,\n",
       "          'A': 1885,\n",
       "          'D': 3868,\n",
       "          'B': 2630}),\n",
       " 'Egypt': Counter({'D': 10, 'E': 1, 'C': 4}),\n",
       " 'Haiti': Counter({'C': 2}),\n",
       " 'Italy': Counter({'A': 197, 'E': 251, 'C': 278, 'D': 576, 'B': 319}),\n",
       " 'Spain': Counter({'B': 1132, 'C': 853, 'A': 914, 'E': 652, 'D': 1363}),\n",
       " 'New Zealand': Counter({'D': 40, 'C': 20, 'B': 28, 'A': 18, 'E': 14}),\n",
       " 'Saudi Arabia': Counter({'B': 7, 'D': 6, 'E': 9, 'C': 11, 'A': 2}),\n",
       " 'Iraq': Counter({'A': 1, 'B': 2, 'C': 3}),\n",
       " 'Costa Rica': Counter({'D': 4, 'B': 3, 'C': 1}),\n",
       " 'New Caledonia': Counter({'D': 32, 'E': 23, 'A': 13, 'C': 19, 'B': 31}),\n",
       " 'Sweden': Counter({'D': 392, 'B': 240, 'C': 236, 'E': 114, 'A': 149}),\n",
       " 'French Polynesia': Counter({'E': 47, 'D': 59, 'C': 64, 'B': 61, 'A': 16}),\n",
       " 'Vietnam': Counter({'B': 4, 'C': 4, 'D': 6, 'E': 2}),\n",
       " 'Singapore': Counter({'C': 7, 'E': 7, 'A': 3, 'D': 6, 'B': 6}),\n",
       " 'Thailand': Counter({'C': 14, 'B': 16, 'D': 16, 'E': 3, 'A': 2}),\n",
       " 'Greece': Counter({'C': 12, 'B': 20, 'E': 20, 'D': 26, 'A': 11}),\n",
       " 'Panama': Counter({'C': 1, 'D': 1}),\n",
       " 'Hong Kong': Counter({'B': 41, 'D': 42, 'E': 17, 'A': 19, 'C': 21}),\n",
       " 'Luxembourg': Counter({'A': 29, 'B': 39, 'D': 87, 'C': 50, 'E': 42}),\n",
       " 'Lebanon': Counter({'A': 2, 'D': 12, 'C': 3, 'B': 5, 'E': 3}),\n",
       " 'Denmark': Counter({'B': 66, 'C': 48, 'D': 115, 'A': 55, 'E': 78}),\n",
       " 'Malaysia': Counter({'B': 3, 'A': 2, 'C': 1, 'D': 4}),\n",
       " 'European Union': Counter({'E': 3, 'B': 12, 'A': 7, 'C': 5, 'D': 8}),\n",
       " 'Serbia': Counter({'E': 83, 'D': 194, 'C': 79, 'B': 94, 'A': 38}),\n",
       " 'Martinique': Counter({'C': 41, 'B': 43, 'D': 35, 'E': 16, 'A': 7}),\n",
       " 'Ireland': Counter({'E': 73, 'B': 65, 'C': 72, 'D': 128, 'A': 47}),\n",
       " 'Aruba': Counter({'C': 1, 'D': 2}),\n",
       " 'Saint Kitts and Nevis': Counter({'D': 2, 'C': 1}),\n",
       " 'El Salvador': Counter({'D': 1, 'A': 1}),\n",
       " 'Bahrain': Counter({'C': 1, 'A': 1, 'D': 2}),\n",
       " 'Colombia': Counter({'D': 11, 'C': 8, 'E': 6, 'A': 2, 'B': 1}),\n",
       " 'Taiwan': Counter({'C': 8, 'B': 21, 'A': 5, 'D': 12, 'E': 6}),\n",
       " 'United Arab Emirates': Counter({'E': 7, 'A': 5, 'B': 3, 'C': 7, 'D': 13}),\n",
       " 'Cuba': Counter({'D': 1, 'B': 4}),\n",
       " 'Portugal': Counter({'D': 215, 'B': 176, 'E': 133, 'A': 108, 'C': 97}),\n",
       " 'Kuwait': Counter({'E': 4, 'C': 1, 'B': 2}),\n",
       " 'Austria': Counter({'D': 129, 'B': 98, 'A': 55, 'C': 61, 'E': 77}),\n",
       " 'Japan': Counter({'C': 18, 'B': 18, 'D': 19, 'A': 15, 'E': 10}),\n",
       " 'Israel': Counter({'C': 5, 'D': 10, 'E': 6, 'B': 5, 'A': 1}),\n",
       " 'En': Counter({'B': 36, 'A': 45, 'D': 94, 'C': 31, 'E': 19}),\n",
       " 'Argentina': Counter({'D': 9, 'C': 5, 'E': 9, 'B': 2, 'A': 1}),\n",
       " 'Brazil': Counter({'D': 28, 'B': 9, 'C': 16, 'A': 11, 'E': 7}),\n",
       " 'Morocco': Counter({'E': 42, 'D': 41, 'B': 47, 'A': 15, 'C': 22}),\n",
       " 'Guinea': Counter({'D': 1, 'B': 1}),\n",
       " 'China': Counter({'D': 9, 'B': 5, 'C': 11, 'E': 8, 'A': 2}),\n",
       " 'Saint Pierre and Miquelon': Counter({'B': 7,\n",
       "          'C': 7,\n",
       "          'D': 12,\n",
       "          'A': 3,\n",
       "          'E': 3}),\n",
       " 'fr:quebec': Counter({'C': 7, 'B': 5, 'E': 1, 'D': 5, 'A': 2}),\n",
       " 'Czech Republic': Counter({'A': 8, 'B': 30, 'C': 15, 'D': 55, 'E': 51}),\n",
       " 'Algeria': Counter({'D': 34, 'C': 13, 'B': 40, 'E': 47, 'A': 3}),\n",
       " 'Indonesia': Counter({'B': 2, 'D': 5, 'E': 1, 'C': 3}),\n",
       " 'Turkey': Counter({'E': 9, 'D': 8, 'B': 7, 'C': 3, 'A': 2}),\n",
       " 'Chile': Counter({'D': 13, 'B': 15, 'E': 7, 'C': 10, 'A': 9}),\n",
       " 'Jordan': Counter({'D': 1, 'E': 2, 'A': 1, 'B': 3}),\n",
       " 'Réunion': Counter({'C': 67, 'E': 34, 'A': 32, 'D': 83, 'B': 88}),\n",
       " 'Norway': Counter({'D': 48, 'E': 20, 'B': 30, 'C': 14, 'A': 16}),\n",
       " 'French Guiana': Counter({'A': 23, 'B': 19, 'D': 22, 'C': 25, 'E': 6}),\n",
       " 'Peru': Counter({'C': 2, 'E': 4, 'D': 2, 'A': 1}),\n",
       " 'Russia': Counter({'D': 44, 'C': 13, 'B': 22, 'E': 48, 'A': 15}),\n",
       " 'Cyprus': Counter({'C': 4, 'E': 3, 'D': 4, 'B': 1}),\n",
       " 'India': Counter({'D': 32, 'E': 16, 'B': 6, 'C': 9, 'A': 3}),\n",
       " 'Philippines': Counter({'D': 4, 'C': 1, 'E': 2, 'B': 1}),\n",
       " 'South Korea': Counter({'B': 4, 'D': 5, 'E': 2, 'A': 1, 'C': 2}),\n",
       " 'South Africa': Counter({'D': 25, 'A': 3, 'E': 17, 'B': 16, 'C': 11}),\n",
       " \"Côte d'Ivoire\": Counter({'C': 3, 'D': 5, 'B': 10, 'E': 2, 'A': 1}),\n",
       " 'Ecuador': Counter({'C': 2}),\n",
       " 'Mauritius': Counter({'D': 22, 'E': 3, 'B': 9, 'C': 3, 'A': 3}),\n",
       " 'Senegal': Counter({'B': 8, 'E': 6, 'A': 6, 'D': 12, 'C': 4}),\n",
       " 'Bangladesh': Counter({'D': 2, 'E': 1}),\n",
       " 'Guadeloupe': Counter({'D': 63, 'B': 61, 'C': 56, 'A': 29, 'E': 28}),\n",
       " 'Cameroon': Counter({'B': 4, 'E': 3, 'D': 1, 'C': 1, 'A': 1}),\n",
       " 'Romania': Counter({'E': 103, 'D': 185, 'A': 67, 'B': 105, 'C': 81}),\n",
       " 'Finland': Counter({'B': 29, 'C': 7, 'A': 17, 'E': 10, 'D': 30}),\n",
       " 'Slovakia': Counter({'E': 18, 'B': 9, 'D': 8, 'A': 3, 'C': 2}),\n",
       " 'Lithuania': Counter({'D': 9, 'E': 7, 'B': 5, 'A': 2, 'C': 2}),\n",
       " 'Hungary': Counter({'D': 132, 'E': 69, 'B': 90, 'C': 57, 'A': 36}),\n",
       " 'Iceland': Counter({'C': 4, 'B': 4, 'D': 2, 'A': 4, 'E': 5}),\n",
       " 'World': Counter({'B': 4}),\n",
       " 'fr:deutschland': Counter({'D': 75, 'B': 58, 'E': 41, 'A': 28, 'C': 36}),\n",
       " 'fr:frankreich': Counter({'D': 12, 'A': 5, 'B': 9, 'C': 2, 'E': 8}),\n",
       " 'fr:schweiz': Counter({'B': 14, 'A': 10, 'D': 9, 'E': 10, 'C': 5}),\n",
       " 'Bulgaria': Counter({'E': 23, 'C': 3, 'D': 7, 'B': 12, 'A': 6}),\n",
       " 'Estonia': Counter({'E': 5, 'D': 2, 'A': 1, 'C': 1, 'B': 2}),\n",
       " 'Latvia': Counter({'E': 7, 'D': 5, 'C': 1}),\n",
       " 'de:allemagne': Counter({'B': 23, 'D': 35, 'A': 10, 'C': 10, 'E': 7}),\n",
       " 'Poland': Counter({'C': 37, 'A': 29, 'E': 26, 'B': 43, 'D': 56}),\n",
       " 'Slovenia': Counter({'E': 10, 'A': 4, 'D': 17, 'C': 3, 'B': 13}),\n",
       " 'Ukraine': Counter({'B': 4, 'D': 2, 'E': 4}),\n",
       " 'fr:en': Counter({'A': 5, 'D': 5, 'C': 4, 'B': 5, 'E': 2}),\n",
       " 'Malta': Counter({'A': 3, 'E': 3, 'D': 2, 'C': 2, 'B': 7}),\n",
       " 'Croatia': Counter({'E': 11, 'D': 14, 'B': 10, 'C': 1, 'A': 2}),\n",
       " 'Iran': Counter({'E': 1, 'C': 2, 'D': 1}),\n",
       " 'ch:suisse': Counter({'D': 37, 'A': 29, 'B': 15, 'E': 8, 'C': 18}),\n",
       " 'Mali': Counter({'E': 1, 'B': 2, 'A': 2, 'C': 1}),\n",
       " 'Monaco': Counter({'E': 7, 'D': 3, 'B': 3, 'C': 2, 'A': 2}),\n",
       " 'Gabon': Counter({'A': 3, 'C': 5, 'D': 3, 'B': 3}),\n",
       " 'Sint Maarten': Counter({'D': 1, 'B': 1}),\n",
       " 'Kazakhstan': Counter({'D': 5, 'A': 3, 'C': 2}),\n",
       " 'Republic of the Congo': Counter({'E': 2, 'B': 1, 'D': 1}),\n",
       " 'Burkina Faso': Counter({'B': 5, 'A': 1, 'C': 3, 'D': 1, 'E': 1}),\n",
       " 'Mayotte': Counter({'E': 1, 'D': 1, 'B': 3}),\n",
       " 'Tunisia': Counter({'E': 24, 'C': 10, 'D': 24, 'B': 10, 'A': 5}),\n",
       " 'fr:dom-tom': Counter({'D': 20, 'C': 3}),\n",
       " 'Mauritania': Counter({'E': 1, 'B': 1, 'C': 1}),\n",
       " 'Seychelles': Counter({'D': 2, 'A': 1}),\n",
       " 'Djibouti': Counter({'B': 2}),\n",
       " 'Libya': Counter({'D': 1, 'B': 1}),\n",
       " 'Vanuatu': Counter({'C': 2}),\n",
       " 'Albania': Counter({'A': 5, 'E': 4, 'B': 6, 'D': 5, 'C': 1}),\n",
       " 'Mongolia': Counter({'B': 1, 'C': 1, 'D': 1}),\n",
       " 'Democratic Republic of the Congo': Counter({'C': 3, 'D': 2, 'E': 1}),\n",
       " 'Madagascar': Counter({'E': 4, 'C': 2, 'D': 4, 'A': 2, 'B': 1}),\n",
       " 'Cambodia': Counter({'C': 3, 'E': 1, 'B': 3, 'D': 2}),\n",
       " 'Qatar': Counter({'D': 3, 'E': 1, 'C': 2, 'B': 2}),\n",
       " 'Saint Martin': Counter({'D': 1, 'E': 1}),\n",
       " 'Andorra': Counter({'C': 4, 'D': 3, 'B': 3, 'E': 3, 'A': 2}),\n",
       " 'Republic of Macedonia': Counter({'D': 11, 'B': 2, 'E': 6}),\n",
       " 'Kosovo': Counter({'D': 1, 'C': 1}),\n",
       " 'Bosnia and Herzegovina': Counter({'B': 4, 'E': 7, 'D': 10, 'C': 1}),\n",
       " 'it:deutschland': Counter({'E': 1, 'D': 1}),\n",
       " 'Moldova': Counter({'E': 5, 'D': 1, 'B': 1}),\n",
       " 'Montenegro': Counter({'E': 9, 'D': 13, 'B': 5, 'A': 2, 'C': 2}),\n",
       " 'Allemagne': Counter({'E': 1, 'D': 1}),\n",
       " 'Georgia': Counter({'D': 2, 'A': 36, 'B': 5, 'C': 11}),\n",
       " 'de:belgique': Counter({'B': 1, 'A': 1}),\n",
       " 'Swaziland': Counter({'B': 2}),\n",
       " 'Pakistan': Counter({'C': 1, 'E': 2}),\n",
       " 'Kenya': Counter({'C': 1, 'A': 1}),\n",
       " 'Azerbaijan': Counter({'B': 10, 'A': 2}),\n",
       " 'Yemen': Counter({'C': 1, 'E': 1}),\n",
       " 'Namibia': Counter({'C': 1, 'D': 1}),\n",
       " 'Guatemala': Counter({'C': 1, 'B': 1}),\n",
       " 'Bolivia': Counter({'C': 1, 'A': 1}),\n",
       " 'Venezuela': Counter({'B': 2}),\n",
       " 'Uruguay': Counter({'D': 1, 'C': 1, 'A': 1}),\n",
       " 'de:espagne': Counter({'A': 2}),\n",
       " 'ch:allemagne': Counter({'A': 1, 'C': 1}),\n",
       " 'Fiji': Counter({'D': 2})}"
      ]
     },
     "execution_count": 40,
     "metadata": {},
     "output_type": "execute_result"
    }
   ],
   "source": [
    "{country: Counter(countries_en_scores[country]) for country in countries_en_scores if len(countries_en_scores[country]) > threshold}"
   ]
  },
  {
   "cell_type": "code",
   "execution_count": 41,
   "metadata": {},
   "outputs": [],
   "source": [
    "origins_countries_pairs = []\n",
    "\n",
    "for idx, row in data[['origins_tags', 'countries_en']].dropna().iterrows():\n",
    "    origin_split = row['origins_tags'].split(',')\n",
    "    countries_split = row['countries_en'].split(',')\n",
    "    for orig in origin_split:\n",
    "        for country in countries_split:\n",
    "            origins_countries_pairs += [[idx, orig, country]]\n",
    "\n",
    "origins_countries_pairs_np = np.array(origins_countries_pairs)\n",
    "\n",
    "travel_data = pd.DataFrame(origins_countries_pairs_np[:,1:], index=origins_countries_pairs_np[:,0], columns=['origin', 'destination'])"
   ]
  },
  {
   "cell_type": "code",
   "execution_count": 42,
   "metadata": {},
   "outputs": [
    {
     "data": {
      "text/html": [
       "<div>\n",
       "<style scoped>\n",
       "    .dataframe tbody tr th:only-of-type {\n",
       "        vertical-align: middle;\n",
       "    }\n",
       "\n",
       "    .dataframe tbody tr th {\n",
       "        vertical-align: top;\n",
       "    }\n",
       "\n",
       "    .dataframe thead th {\n",
       "        text-align: right;\n",
       "    }\n",
       "</style>\n",
       "<table border=\"1\" class=\"dataframe\">\n",
       "  <thead>\n",
       "    <tr style=\"text-align: right;\">\n",
       "      <th></th>\n",
       "      <th>product_name</th>\n",
       "      <th>nutri-score_letter</th>\n",
       "    </tr>\n",
       "  </thead>\n",
       "  <tbody>\n",
       "    <tr>\n",
       "      <th>0</th>\n",
       "      <td>Vitória crackers</td>\n",
       "      <td>D</td>\n",
       "    </tr>\n",
       "    <tr>\n",
       "      <th>1</th>\n",
       "      <td>Cacao</td>\n",
       "      <td>NaN</td>\n",
       "    </tr>\n",
       "    <tr>\n",
       "      <th>2</th>\n",
       "      <td>Sauce Sweety chili 0%</td>\n",
       "      <td>B</td>\n",
       "    </tr>\n",
       "    <tr>\n",
       "      <th>3</th>\n",
       "      <td>Mini coco</td>\n",
       "      <td>B</td>\n",
       "    </tr>\n",
       "    <tr>\n",
       "      <th>4</th>\n",
       "      <td>Mendiants</td>\n",
       "      <td>NaN</td>\n",
       "    </tr>\n",
       "    <tr>\n",
       "      <th>5</th>\n",
       "      <td>Salade de carottes râpées</td>\n",
       "      <td>B</td>\n",
       "    </tr>\n",
       "    <tr>\n",
       "      <th>6</th>\n",
       "      <td>Fromage blanc aux myrtilles</td>\n",
       "      <td>C</td>\n",
       "    </tr>\n",
       "    <tr>\n",
       "      <th>7</th>\n",
       "      <td>NaN</td>\n",
       "      <td>NaN</td>\n",
       "    </tr>\n",
       "    <tr>\n",
       "      <th>8</th>\n",
       "      <td>Vainilla</td>\n",
       "      <td>NaN</td>\n",
       "    </tr>\n",
       "    <tr>\n",
       "      <th>9</th>\n",
       "      <td>Baguette parisien</td>\n",
       "      <td>B</td>\n",
       "    </tr>\n",
       "    <tr>\n",
       "      <th>10</th>\n",
       "      <td>&amp;quot;Baguette Lyonnais&amp;quot;</td>\n",
       "      <td>D</td>\n",
       "    </tr>\n",
       "    <tr>\n",
       "      <th>11</th>\n",
       "      <td>Solène céréales poulet</td>\n",
       "      <td>B</td>\n",
       "    </tr>\n",
       "    <tr>\n",
       "      <th>12</th>\n",
       "      <td>Tarte noix de coco</td>\n",
       "      <td>D</td>\n",
       "    </tr>\n",
       "    <tr>\n",
       "      <th>13</th>\n",
       "      <td>Salade de fruits exotiques</td>\n",
       "      <td>C</td>\n",
       "    </tr>\n",
       "    <tr>\n",
       "      <th>14</th>\n",
       "      <td>Chouquettes x 30</td>\n",
       "      <td>D</td>\n",
       "    </tr>\n",
       "    <tr>\n",
       "      <th>15</th>\n",
       "      <td>Fromage blanc pêche</td>\n",
       "      <td>C</td>\n",
       "    </tr>\n",
       "    <tr>\n",
       "      <th>16</th>\n",
       "      <td>Crème dessert chocolat</td>\n",
       "      <td>B</td>\n",
       "    </tr>\n",
       "    <tr>\n",
       "      <th>17</th>\n",
       "      <td>Bouillie de sarrasin</td>\n",
       "      <td>NaN</td>\n",
       "    </tr>\n",
       "    <tr>\n",
       "      <th>18</th>\n",
       "      <td>Compote de poire</td>\n",
       "      <td>C</td>\n",
       "    </tr>\n",
       "    <tr>\n",
       "      <th>19</th>\n",
       "      <td>Paëlla de poulet</td>\n",
       "      <td>C</td>\n",
       "    </tr>\n",
       "    <tr>\n",
       "      <th>20</th>\n",
       "      <td>Aiguillettes de poulet</td>\n",
       "      <td>NaN</td>\n",
       "    </tr>\n",
       "    <tr>\n",
       "      <th>21</th>\n",
       "      <td>Salade shaker chef</td>\n",
       "      <td>A</td>\n",
       "    </tr>\n",
       "    <tr>\n",
       "      <th>22</th>\n",
       "      <td>Salade de macedoine de légumes</td>\n",
       "      <td>D</td>\n",
       "    </tr>\n",
       "    <tr>\n",
       "      <th>23</th>\n",
       "      <td>Baguette Poitevin</td>\n",
       "      <td>B</td>\n",
       "    </tr>\n",
       "    <tr>\n",
       "      <th>24</th>\n",
       "      <td>Suedois thon</td>\n",
       "      <td>B</td>\n",
       "    </tr>\n",
       "    <tr>\n",
       "      <th>25</th>\n",
       "      <td>Ciabatta Bombay</td>\n",
       "      <td>A</td>\n",
       "    </tr>\n",
       "    <tr>\n",
       "      <th>26</th>\n",
       "      <td>Ciabatta Roma</td>\n",
       "      <td>B</td>\n",
       "    </tr>\n",
       "    <tr>\n",
       "      <th>27</th>\n",
       "      <td>Salade tomate</td>\n",
       "      <td>B</td>\n",
       "    </tr>\n",
       "    <tr>\n",
       "      <th>28</th>\n",
       "      <td>Farine de blé noir</td>\n",
       "      <td>NaN</td>\n",
       "    </tr>\n",
       "    <tr>\n",
       "      <th>29</th>\n",
       "      <td>Mousse chocolat douceur</td>\n",
       "      <td>D</td>\n",
       "    </tr>\n",
       "    <tr>\n",
       "      <th>...</th>\n",
       "      <td>...</td>\n",
       "      <td>...</td>\n",
       "    </tr>\n",
       "    <tr>\n",
       "      <th>697794</th>\n",
       "      <td>Alwani Sagai Dates</td>\n",
       "      <td>NaN</td>\n",
       "    </tr>\n",
       "    <tr>\n",
       "      <th>697795</th>\n",
       "      <td>Pate feuilletée sans gluten</td>\n",
       "      <td>D</td>\n",
       "    </tr>\n",
       "    <tr>\n",
       "      <th>697796</th>\n",
       "      <td>Barquettes Fraise</td>\n",
       "      <td>D</td>\n",
       "    </tr>\n",
       "    <tr>\n",
       "      <th>697797</th>\n",
       "      <td>Pâte à tartiner aux noisettes et au cacao maigre</td>\n",
       "      <td>E</td>\n",
       "    </tr>\n",
       "    <tr>\n",
       "      <th>697798</th>\n",
       "      <td>Pur cacao biologique</td>\n",
       "      <td>NaN</td>\n",
       "    </tr>\n",
       "    <tr>\n",
       "      <th>697799</th>\n",
       "      <td>Rooïbos aromatise</td>\n",
       "      <td>NaN</td>\n",
       "    </tr>\n",
       "    <tr>\n",
       "      <th>697800</th>\n",
       "      <td>Jus multifruits</td>\n",
       "      <td>B</td>\n",
       "    </tr>\n",
       "    <tr>\n",
       "      <th>697801</th>\n",
       "      <td>Compote à Boire Pomme Poire</td>\n",
       "      <td>B</td>\n",
       "    </tr>\n",
       "    <tr>\n",
       "      <th>697802</th>\n",
       "      <td>Nectar d'abricot</td>\n",
       "      <td>NaN</td>\n",
       "    </tr>\n",
       "    <tr>\n",
       "      <th>697803</th>\n",
       "      <td>Puree de pomme framboise</td>\n",
       "      <td>B</td>\n",
       "    </tr>\n",
       "    <tr>\n",
       "      <th>697804</th>\n",
       "      <td>Quick milk magic slipper</td>\n",
       "      <td>D</td>\n",
       "    </tr>\n",
       "    <tr>\n",
       "      <th>697805</th>\n",
       "      <td>cup noodles</td>\n",
       "      <td>C</td>\n",
       "    </tr>\n",
       "    <tr>\n",
       "      <th>697806</th>\n",
       "      <td>Miel de fleurs</td>\n",
       "      <td>NaN</td>\n",
       "    </tr>\n",
       "    <tr>\n",
       "      <th>697807</th>\n",
       "      <td>Formula1</td>\n",
       "      <td>D</td>\n",
       "    </tr>\n",
       "    <tr>\n",
       "      <th>697808</th>\n",
       "      <td>Paprikás Kukorica csemege</td>\n",
       "      <td>E</td>\n",
       "    </tr>\n",
       "    <tr>\n",
       "      <th>697809</th>\n",
       "      <td>Trio de lentilles &amp; saumon fumé</td>\n",
       "      <td>D</td>\n",
       "    </tr>\n",
       "    <tr>\n",
       "      <th>697810</th>\n",
       "      <td>Choco pearls</td>\n",
       "      <td>E</td>\n",
       "    </tr>\n",
       "    <tr>\n",
       "      <th>697811</th>\n",
       "      <td>Pizza thon cuite sur pierre</td>\n",
       "      <td>D</td>\n",
       "    </tr>\n",
       "    <tr>\n",
       "      <th>697812</th>\n",
       "      <td>Class A'peel Dot Sparkler Stickers-black</td>\n",
       "      <td>E</td>\n",
       "    </tr>\n",
       "    <tr>\n",
       "      <th>697813</th>\n",
       "      <td>Comte vieux</td>\n",
       "      <td>NaN</td>\n",
       "    </tr>\n",
       "    <tr>\n",
       "      <th>697814</th>\n",
       "      <td>Chocolat de Couverture Noir</td>\n",
       "      <td>E</td>\n",
       "    </tr>\n",
       "    <tr>\n",
       "      <th>697815</th>\n",
       "      <td>Sugar Free Drink Mix, Peach Tea</td>\n",
       "      <td>C</td>\n",
       "    </tr>\n",
       "    <tr>\n",
       "      <th>697816</th>\n",
       "      <td>Kabanos</td>\n",
       "      <td>D</td>\n",
       "    </tr>\n",
       "    <tr>\n",
       "      <th>697817</th>\n",
       "      <td>Vinaigre seve de bouleau</td>\n",
       "      <td>NaN</td>\n",
       "    </tr>\n",
       "    <tr>\n",
       "      <th>697818</th>\n",
       "      <td>Cailloux aux amandes</td>\n",
       "      <td>E</td>\n",
       "    </tr>\n",
       "    <tr>\n",
       "      <th>697819</th>\n",
       "      <td>Yaourt vanille</td>\n",
       "      <td>C</td>\n",
       "    </tr>\n",
       "    <tr>\n",
       "      <th>697820</th>\n",
       "      <td>Yaourt mûre myrtille</td>\n",
       "      <td>C</td>\n",
       "    </tr>\n",
       "    <tr>\n",
       "      <th>697821</th>\n",
       "      <td>Mousse au chocolat noir</td>\n",
       "      <td>D</td>\n",
       "    </tr>\n",
       "    <tr>\n",
       "      <th>697822</th>\n",
       "      <td>Riz parfumé</td>\n",
       "      <td>B</td>\n",
       "    </tr>\n",
       "    <tr>\n",
       "      <th>697823</th>\n",
       "      <td>Steak haché pur boeuf</td>\n",
       "      <td>B</td>\n",
       "    </tr>\n",
       "  </tbody>\n",
       "</table>\n",
       "<p>697824 rows × 2 columns</p>\n",
       "</div>"
      ],
      "text/plain": [
       "                                            product_name nutri-score_letter\n",
       "0                                       Vitória crackers                  D\n",
       "1                                                  Cacao                NaN\n",
       "2                                  Sauce Sweety chili 0%                  B\n",
       "3                                              Mini coco                  B\n",
       "4                                              Mendiants                NaN\n",
       "5                              Salade de carottes râpées                  B\n",
       "6                            Fromage blanc aux myrtilles                  C\n",
       "7                                                    NaN                NaN\n",
       "8                                               Vainilla                NaN\n",
       "9                                      Baguette parisien                  B\n",
       "10                         &quot;Baguette Lyonnais&quot;                  D\n",
       "11                                Solène céréales poulet                  B\n",
       "12                                    Tarte noix de coco                  D\n",
       "13                            Salade de fruits exotiques                  C\n",
       "14                                      Chouquettes x 30                  D\n",
       "15                                   Fromage blanc pêche                  C\n",
       "16                                Crème dessert chocolat                  B\n",
       "17                                  Bouillie de sarrasin                NaN\n",
       "18                                      Compote de poire                  C\n",
       "19                                      Paëlla de poulet                  C\n",
       "20                                Aiguillettes de poulet                NaN\n",
       "21                                    Salade shaker chef                  A\n",
       "22                        Salade de macedoine de légumes                  D\n",
       "23                                     Baguette Poitevin                  B\n",
       "24                                          Suedois thon                  B\n",
       "25                                       Ciabatta Bombay                  A\n",
       "26                                         Ciabatta Roma                  B\n",
       "27                                         Salade tomate                  B\n",
       "28                                    Farine de blé noir                NaN\n",
       "29                               Mousse chocolat douceur                  D\n",
       "...                                                  ...                ...\n",
       "697794                                Alwani Sagai Dates                NaN\n",
       "697795                       Pate feuilletée sans gluten                  D\n",
       "697796                                 Barquettes Fraise                  D\n",
       "697797  Pâte à tartiner aux noisettes et au cacao maigre                  E\n",
       "697798                              Pur cacao biologique                NaN\n",
       "697799                                 Rooïbos aromatise                NaN\n",
       "697800                                   Jus multifruits                  B\n",
       "697801                       Compote à Boire Pomme Poire                  B\n",
       "697802                                  Nectar d'abricot                NaN\n",
       "697803                          Puree de pomme framboise                  B\n",
       "697804                          Quick milk magic slipper                  D\n",
       "697805                                       cup noodles                  C\n",
       "697806                                    Miel de fleurs                NaN\n",
       "697807                                          Formula1                  D\n",
       "697808                         Paprikás Kukorica csemege                  E\n",
       "697809                   Trio de lentilles & saumon fumé                  D\n",
       "697810                                      Choco pearls                  E\n",
       "697811                       Pizza thon cuite sur pierre                  D\n",
       "697812          Class A'peel Dot Sparkler Stickers-black                  E\n",
       "697813                                       Comte vieux                NaN\n",
       "697814                       Chocolat de Couverture Noir                  E\n",
       "697815                   Sugar Free Drink Mix, Peach Tea                  C\n",
       "697816                                           Kabanos                  D\n",
       "697817                          Vinaigre seve de bouleau                NaN\n",
       "697818                              Cailloux aux amandes                  E\n",
       "697819                                    Yaourt vanille                  C\n",
       "697820                              Yaourt mûre myrtille                  C\n",
       "697821                           Mousse au chocolat noir                  D\n",
       "697822                                       Riz parfumé                  B\n",
       "697823                             Steak haché pur boeuf                  B\n",
       "\n",
       "[697824 rows x 2 columns]"
      ]
     },
     "execution_count": 42,
     "metadata": {},
     "output_type": "execute_result"
    }
   ],
   "source": [
    "data[['product_name', 'nutri-score_letter']]"
   ]
  },
  {
   "cell_type": "code",
   "execution_count": 43,
   "metadata": {
    "scrolled": true
   },
   "outputs": [
    {
     "data": {
      "text/html": [
       "<div>\n",
       "<style scoped>\n",
       "    .dataframe tbody tr th:only-of-type {\n",
       "        vertical-align: middle;\n",
       "    }\n",
       "\n",
       "    .dataframe tbody tr th {\n",
       "        vertical-align: top;\n",
       "    }\n",
       "\n",
       "    .dataframe thead th {\n",
       "        text-align: right;\n",
       "    }\n",
       "</style>\n",
       "<table border=\"1\" class=\"dataframe\">\n",
       "  <thead>\n",
       "    <tr style=\"text-align: right;\">\n",
       "      <th></th>\n",
       "      <th>origin</th>\n",
       "      <th>destination</th>\n",
       "    </tr>\n",
       "  </thead>\n",
       "  <tbody>\n",
       "    <tr>\n",
       "      <th>254</th>\n",
       "      <td>france</td>\n",
       "      <td>France</td>\n",
       "    </tr>\n",
       "    <tr>\n",
       "      <th>257</th>\n",
       "      <td>quebec</td>\n",
       "      <td>Canada</td>\n",
       "    </tr>\n",
       "    <tr>\n",
       "      <th>267</th>\n",
       "      <td>quebec</td>\n",
       "      <td>Canada</td>\n",
       "    </tr>\n",
       "    <tr>\n",
       "      <th>272</th>\n",
       "      <td>france</td>\n",
       "      <td>United Kingdom</td>\n",
       "    </tr>\n",
       "    <tr>\n",
       "      <th>277</th>\n",
       "      <td>quebec</td>\n",
       "      <td>Canada</td>\n",
       "    </tr>\n",
       "    <tr>\n",
       "      <th>288</th>\n",
       "      <td>quebec</td>\n",
       "      <td>Canada</td>\n",
       "    </tr>\n",
       "    <tr>\n",
       "      <th>300</th>\n",
       "      <td>quebec</td>\n",
       "      <td>Canada</td>\n",
       "    </tr>\n",
       "    <tr>\n",
       "      <th>301</th>\n",
       "      <td>quebec</td>\n",
       "      <td>Canada</td>\n",
       "    </tr>\n",
       "    <tr>\n",
       "      <th>313</th>\n",
       "      <td>france</td>\n",
       "      <td>France</td>\n",
       "    </tr>\n",
       "    <tr>\n",
       "      <th>353</th>\n",
       "      <td>quebec</td>\n",
       "      <td>Canada</td>\n",
       "    </tr>\n",
       "    <tr>\n",
       "      <th>353</th>\n",
       "      <td>canada</td>\n",
       "      <td>Canada</td>\n",
       "    </tr>\n",
       "    <tr>\n",
       "      <th>362</th>\n",
       "      <td>france</td>\n",
       "      <td>France</td>\n",
       "    </tr>\n",
       "    <tr>\n",
       "      <th>416</th>\n",
       "      <td>france</td>\n",
       "      <td>France</td>\n",
       "    </tr>\n",
       "    <tr>\n",
       "      <th>518</th>\n",
       "      <td>united-kingdom</td>\n",
       "      <td>United Kingdom</td>\n",
       "    </tr>\n",
       "    <tr>\n",
       "      <th>555</th>\n",
       "      <td>germany</td>\n",
       "      <td>United Kingdom</td>\n",
       "    </tr>\n",
       "    <tr>\n",
       "      <th>574</th>\n",
       "      <td>germany</td>\n",
       "      <td>Germany</td>\n",
       "    </tr>\n",
       "    <tr>\n",
       "      <th>575</th>\n",
       "      <td>germany</td>\n",
       "      <td>Germany</td>\n",
       "    </tr>\n",
       "    <tr>\n",
       "      <th>586</th>\n",
       "      <td>germany</td>\n",
       "      <td>Germany</td>\n",
       "    </tr>\n",
       "    <tr>\n",
       "      <th>597</th>\n",
       "      <td>france</td>\n",
       "      <td>France</td>\n",
       "    </tr>\n",
       "    <tr>\n",
       "      <th>605</th>\n",
       "      <td>ue</td>\n",
       "      <td>France</td>\n",
       "    </tr>\n",
       "    <tr>\n",
       "      <th>619</th>\n",
       "      <td>germany</td>\n",
       "      <td>Germany</td>\n",
       "    </tr>\n",
       "    <tr>\n",
       "      <th>622</th>\n",
       "      <td>germany</td>\n",
       "      <td>Germany</td>\n",
       "    </tr>\n",
       "    <tr>\n",
       "      <th>629</th>\n",
       "      <td>germany</td>\n",
       "      <td>Germany</td>\n",
       "    </tr>\n",
       "    <tr>\n",
       "      <th>711</th>\n",
       "      <td>canada</td>\n",
       "      <td>United States</td>\n",
       "    </tr>\n",
       "    <tr>\n",
       "      <th>790</th>\n",
       "      <td>mexico</td>\n",
       "      <td>Mexico</td>\n",
       "    </tr>\n",
       "    <tr>\n",
       "      <th>799</th>\n",
       "      <td>france</td>\n",
       "      <td>France</td>\n",
       "    </tr>\n",
       "    <tr>\n",
       "      <th>877</th>\n",
       "      <td>grande-bretagne</td>\n",
       "      <td>France</td>\n",
       "    </tr>\n",
       "    <tr>\n",
       "      <th>988</th>\n",
       "      <td>germany</td>\n",
       "      <td>Germany</td>\n",
       "    </tr>\n",
       "    <tr>\n",
       "      <th>1009</th>\n",
       "      <td>france</td>\n",
       "      <td>France</td>\n",
       "    </tr>\n",
       "    <tr>\n",
       "      <th>1041</th>\n",
       "      <td>estados-unidos-americanos</td>\n",
       "      <td>Mexico</td>\n",
       "    </tr>\n",
       "    <tr>\n",
       "      <th>...</th>\n",
       "      <td>...</td>\n",
       "      <td>...</td>\n",
       "    </tr>\n",
       "    <tr>\n",
       "      <th>697228</th>\n",
       "      <td>malaisie</td>\n",
       "      <td>Japan</td>\n",
       "    </tr>\n",
       "    <tr>\n",
       "      <th>697228</th>\n",
       "      <td>malaisie</td>\n",
       "      <td>New Zealand</td>\n",
       "    </tr>\n",
       "    <tr>\n",
       "      <th>697228</th>\n",
       "      <td>malaisie</td>\n",
       "      <td>United Kingdom</td>\n",
       "    </tr>\n",
       "    <tr>\n",
       "      <th>697228</th>\n",
       "      <td>malaisie</td>\n",
       "      <td>United States</td>\n",
       "    </tr>\n",
       "    <tr>\n",
       "      <th>697256</th>\n",
       "      <td>malaysia</td>\n",
       "      <td>Australia</td>\n",
       "    </tr>\n",
       "    <tr>\n",
       "      <th>697300</th>\n",
       "      <td>australia</td>\n",
       "      <td>China</td>\n",
       "    </tr>\n",
       "    <tr>\n",
       "      <th>697300</th>\n",
       "      <td>australia</td>\n",
       "      <td>Hong Kong</td>\n",
       "    </tr>\n",
       "    <tr>\n",
       "      <th>697364</th>\n",
       "      <td>malaisie</td>\n",
       "      <td>France</td>\n",
       "    </tr>\n",
       "    <tr>\n",
       "      <th>697453</th>\n",
       "      <td>comunidad-valenciana</td>\n",
       "      <td>Spain</td>\n",
       "    </tr>\n",
       "    <tr>\n",
       "      <th>697453</th>\n",
       "      <td>benifaio</td>\n",
       "      <td>Spain</td>\n",
       "    </tr>\n",
       "    <tr>\n",
       "      <th>697453</th>\n",
       "      <td>valencia</td>\n",
       "      <td>Spain</td>\n",
       "    </tr>\n",
       "    <tr>\n",
       "      <th>697453</th>\n",
       "      <td>espana</td>\n",
       "      <td>Spain</td>\n",
       "    </tr>\n",
       "    <tr>\n",
       "      <th>697570</th>\n",
       "      <td>canada</td>\n",
       "      <td>Canada</td>\n",
       "    </tr>\n",
       "    <tr>\n",
       "      <th>697591</th>\n",
       "      <td>norway</td>\n",
       "      <td>France</td>\n",
       "    </tr>\n",
       "    <tr>\n",
       "      <th>697639</th>\n",
       "      <td>cote-d-ivoire</td>\n",
       "      <td>France</td>\n",
       "    </tr>\n",
       "    <tr>\n",
       "      <th>697643</th>\n",
       "      <td>france</td>\n",
       "      <td>France</td>\n",
       "    </tr>\n",
       "    <tr>\n",
       "      <th>697660</th>\n",
       "      <td>madagascar</td>\n",
       "      <td>Madagascar</td>\n",
       "    </tr>\n",
       "    <tr>\n",
       "      <th>697672</th>\n",
       "      <td>sri-lanka</td>\n",
       "      <td>France</td>\n",
       "    </tr>\n",
       "    <tr>\n",
       "      <th>697684</th>\n",
       "      <td>france</td>\n",
       "      <td>France</td>\n",
       "    </tr>\n",
       "    <tr>\n",
       "      <th>697727</th>\n",
       "      <td>france</td>\n",
       "      <td>France</td>\n",
       "    </tr>\n",
       "    <tr>\n",
       "      <th>697727</th>\n",
       "      <td>camargue</td>\n",
       "      <td>France</td>\n",
       "    </tr>\n",
       "    <tr>\n",
       "      <th>697740</th>\n",
       "      <td>lait-cru</td>\n",
       "      <td>France</td>\n",
       "    </tr>\n",
       "    <tr>\n",
       "      <th>697749</th>\n",
       "      <td>flaxieu</td>\n",
       "      <td>France</td>\n",
       "    </tr>\n",
       "    <tr>\n",
       "      <th>697749</th>\n",
       "      <td>bugey</td>\n",
       "      <td>France</td>\n",
       "    </tr>\n",
       "    <tr>\n",
       "      <th>697749</th>\n",
       "      <td>ain</td>\n",
       "      <td>France</td>\n",
       "    </tr>\n",
       "    <tr>\n",
       "      <th>697752</th>\n",
       "      <td>polska</td>\n",
       "      <td>Poland</td>\n",
       "    </tr>\n",
       "    <tr>\n",
       "      <th>697753</th>\n",
       "      <td>saint-jans-cappel</td>\n",
       "      <td>France</td>\n",
       "    </tr>\n",
       "    <tr>\n",
       "      <th>697753</th>\n",
       "      <td>nord</td>\n",
       "      <td>France</td>\n",
       "    </tr>\n",
       "    <tr>\n",
       "      <th>697753</th>\n",
       "      <td>france</td>\n",
       "      <td>France</td>\n",
       "    </tr>\n",
       "    <tr>\n",
       "      <th>697805</th>\n",
       "      <td>inconnue</td>\n",
       "      <td>France</td>\n",
       "    </tr>\n",
       "  </tbody>\n",
       "</table>\n",
       "<p>62655 rows × 2 columns</p>\n",
       "</div>"
      ],
      "text/plain": [
       "                           origin     destination\n",
       "254                        france          France\n",
       "257                        quebec          Canada\n",
       "267                        quebec          Canada\n",
       "272                        france  United Kingdom\n",
       "277                        quebec          Canada\n",
       "288                        quebec          Canada\n",
       "300                        quebec          Canada\n",
       "301                        quebec          Canada\n",
       "313                        france          France\n",
       "353                        quebec          Canada\n",
       "353                        canada          Canada\n",
       "362                        france          France\n",
       "416                        france          France\n",
       "518                united-kingdom  United Kingdom\n",
       "555                       germany  United Kingdom\n",
       "574                       germany         Germany\n",
       "575                       germany         Germany\n",
       "586                       germany         Germany\n",
       "597                        france          France\n",
       "605                            ue          France\n",
       "619                       germany         Germany\n",
       "622                       germany         Germany\n",
       "629                       germany         Germany\n",
       "711                        canada   United States\n",
       "790                        mexico          Mexico\n",
       "799                        france          France\n",
       "877               grande-bretagne          France\n",
       "988                       germany         Germany\n",
       "1009                       france          France\n",
       "1041    estados-unidos-americanos          Mexico\n",
       "...                           ...             ...\n",
       "697228                   malaisie           Japan\n",
       "697228                   malaisie     New Zealand\n",
       "697228                   malaisie  United Kingdom\n",
       "697228                   malaisie   United States\n",
       "697256                   malaysia       Australia\n",
       "697300                  australia           China\n",
       "697300                  australia       Hong Kong\n",
       "697364                   malaisie          France\n",
       "697453       comunidad-valenciana           Spain\n",
       "697453                   benifaio           Spain\n",
       "697453                   valencia           Spain\n",
       "697453                     espana           Spain\n",
       "697570                     canada          Canada\n",
       "697591                     norway          France\n",
       "697639              cote-d-ivoire          France\n",
       "697643                     france          France\n",
       "697660                 madagascar      Madagascar\n",
       "697672                  sri-lanka          France\n",
       "697684                     france          France\n",
       "697727                     france          France\n",
       "697727                   camargue          France\n",
       "697740                   lait-cru          France\n",
       "697749                    flaxieu          France\n",
       "697749                      bugey          France\n",
       "697749                        ain          France\n",
       "697752                     polska          Poland\n",
       "697753          saint-jans-cappel          France\n",
       "697753                       nord          France\n",
       "697753                     france          France\n",
       "697805                   inconnue          France\n",
       "\n",
       "[62655 rows x 2 columns]"
      ]
     },
     "execution_count": 43,
     "metadata": {},
     "output_type": "execute_result"
    }
   ],
   "source": [
    "travel_data"
   ]
  },
  {
   "cell_type": "code",
   "execution_count": 44,
   "metadata": {},
   "outputs": [
    {
     "data": {
      "text/html": [
       "<div>\n",
       "<style scoped>\n",
       "    .dataframe tbody tr th:only-of-type {\n",
       "        vertical-align: middle;\n",
       "    }\n",
       "\n",
       "    .dataframe tbody tr th {\n",
       "        vertical-align: top;\n",
       "    }\n",
       "\n",
       "    .dataframe thead th {\n",
       "        text-align: right;\n",
       "    }\n",
       "</style>\n",
       "<table border=\"1\" class=\"dataframe\">\n",
       "  <thead>\n",
       "    <tr style=\"text-align: right;\">\n",
       "      <th></th>\n",
       "      <th>product_name</th>\n",
       "      <th>nutri-score_letter</th>\n",
       "      <th>origin</th>\n",
       "      <th>destination</th>\n",
       "    </tr>\n",
       "  </thead>\n",
       "  <tbody>\n",
       "  </tbody>\n",
       "</table>\n",
       "</div>"
      ],
      "text/plain": [
       "Empty DataFrame\n",
       "Columns: [product_name, nutri-score_letter, origin, destination]\n",
       "Index: []"
      ]
     },
     "execution_count": 44,
     "metadata": {},
     "output_type": "execute_result"
    }
   ],
   "source": [
    "data[['product_name', 'nutri-score_letter']].merge(travel_data, left_index=True, right_index=True)"
   ]
  },
  {
   "cell_type": "code",
   "execution_count": 45,
   "metadata": {},
   "outputs": [
    {
     "data": {
      "text/plain": [
       "areia-branca-rn,rn,brasil                                                                                                                  1\n",
       "jamaika                                                                                                                                    1\n",
       "chocolat-suisse                                                                                                                            1\n",
       "france,drome,romans-sur-isere                                                                                                              1\n",
       "lait-de-france,france,hors-france                                                                                                          1\n",
       "leognan                                                                                                                                    1\n",
       "miel-cee-et-hors-cee                                                                                                                       1\n",
       "fao67,fao61                                                                                                                                1\n",
       "biesheim,france                                                                                                                            1\n",
       "fao-n-77,fao-n-71,fao-n-81,fao-n-87                                                                                                        1\n",
       "perou,mexique,russie,ecosse,france,iles-feroe,ile-de-man,royaume-uni,etats-unis,argentine,uruguay                                          1\n",
       "soja-sud-ouest                                                                                                                             1\n",
       "russie,argentine,islande                                                                                                                   1\n",
       "veracruz,mexique                                                                                                                           1\n",
       "sud-ouest-de-la-france,agriculture-ue,france                                                                                               1\n",
       "hawai,etats-unis                                                                                                                           1\n",
       "italie,portugal,espagne                                                                                                                    1\n",
       "indes,ethiopie,afrique                                                                                                                     1\n",
       "lyon,france                                                                                                                                1\n",
       "cacao,ghana                                                                                                                                1\n",
       "easter-grangemuir-farm,pittenweem,fife,ky10-2rb,scotland,united-kingdom                                                                    1\n",
       "lait-de-france,pistaches-de-californie                                                                                                     1\n",
       "st-meen-le-grand,france                                                                                                                    1\n",
       "france,denice                                                                                                                              1\n",
       "york-uk                                                                                                                                    1\n",
       "extados-unidos                                                                                                                             1\n",
       "alcobaca,portugal                                                                                                                          1\n",
       "bayonne                                                                                                                                    1\n",
       "fr-farine-ble-de-france,fr-sucre-de-france                                                                                                 1\n",
       "massif-des-bauges-savoie-france                                                                                                            1\n",
       "                                                                                                                                          ..\n",
       "mozzarella,emmental,france                                                                                                                 1\n",
       "cereales-francaises,france                                                                                                                 1\n",
       "78950,gambas,france                                                                                                                        1\n",
       "fr-oranges-de-corse,fr-clementines-de-corse                                                                                                1\n",
       "sucre-de-canne-d-amerique-du-sud                                                                                                           1\n",
       "potato,edible-vegitables-oil,palmolein-oil,rice-bran-oil,suger,salt,milk-solids,cheese-powder,onion-powder,parsley-powder,edible-starch    1\n",
       "canada,atlantique-nord-ouest,fao-21,ile-du-prince-edouard                                                                                  1\n",
       "atlantique-centre-est,union-europeenne                                                                                                     1\n",
       "beaujolais,rhone-alpes,france                                                                                                              1\n",
       "european-union,non-eu                                                                                                                      1\n",
       "france,pays-bas,allemagne                                                                                                                  1\n",
       "val-d-eurre                                                                                                                                1\n",
       "serbie,suisse,pologne,turquie,amerique-du-sud,burkina-faso,amerique-latine                                                                 1\n",
       "ue-italie                                                                                                                                  1\n",
       "france,gigondas                                                                                                                            1\n",
       "bolivia,germany                                                                                                                            1\n",
       "tarragona                                                                                                                                  1\n",
       "fr-lentilles-de-canada                                                                                                                     1\n",
       "pays-bas,ocean-indien,ocean-pacifique                                                                                                      1\n",
       "argetine,chili,perou,vietnam,iles-feroe                                                                                                    1\n",
       "agrigente,sicile,italie                                                                                                                    1\n",
       "indre,france                                                                                                                               1\n",
       "atlantique-du-nord-est,fao-27-iv,fao-n-27-iv                                                                                               1\n",
       "manche,mer-celtique,golfe-de-gascogne,atlantique-nord-est                                                                                  1\n",
       "lait-de-chevre,france                                                                                                                      1\n",
       "italie,43014-medesano                                                                                                                      1\n",
       "manche,france                                                                                                                              1\n",
       "poulet-origine-ue,viande-bovine-origine-france,viande-ovine-origine-ue-et-non-ue,union-europeenne,france,hors-union-europeenne             1\n",
       "ingrediente-y-envasador-los-portales-s-a,ciego-montero,palmira,cienfuegos,cuba                                                             1\n",
       "espagne,bulgarie                                                                                                                           1\n",
       "Name: origins_tags, Length: 100, dtype: int64"
      ]
     },
     "execution_count": 45,
     "metadata": {},
     "output_type": "execute_result"
    }
   ],
   "source": [
    "data['origins_tags'].value_counts().tail(100)"
   ]
  },
  {
   "cell_type": "code",
   "execution_count": 46,
   "metadata": {
    "scrolled": true
   },
   "outputs": [
    {
     "data": {
      "text/plain": [
       "France                   42420\n",
       "Spain                     3172\n",
       "Germany                   2472\n",
       "Mexico                    2177\n",
       "Switzerland               2089\n",
       "Australia                 1358\n",
       "United Kingdom            1186\n",
       "Belgium                   1139\n",
       "Italy                      604\n",
       "United States              510\n",
       "Canada                     441\n",
       "Romania                    422\n",
       "Sweden                     415\n",
       "Portugal                   320\n",
       "Brazil                     201\n",
       "Réunion                    165\n",
       "Netherlands                156\n",
       "Austria                    151\n",
       "Madagascar                 124\n",
       "Guadeloupe                 112\n",
       "Russia                     106\n",
       "India                       98\n",
       "Hungary                     89\n",
       "French Polynesia            83\n",
       "French Guiana               80\n",
       "Denmark                     80\n",
       "Ireland                     73\n",
       "Tunisia                     70\n",
       "Georgia                     66\n",
       "New Zealand                 61\n",
       "                         ...  \n",
       "Republika Srpska             1\n",
       "Rwanda                       1\n",
       "Benin                        1\n",
       "Dominica                     1\n",
       "it:espagne                   1\n",
       "Togo                         1\n",
       "Nepal                        1\n",
       "Tanzania                     1\n",
       "fr:sverige                   1\n",
       "Asia                         1\n",
       "Montserrat                   1\n",
       "Puerto Rico                  1\n",
       "Saint Martin                 1\n",
       "ch:mexique                   1\n",
       "fr:republica-moldova         1\n",
       "Sint Maarten                 1\n",
       "Photos to be uploaded        1\n",
       "fr:ungaria                   1\n",
       "it:allemagne                 1\n",
       "Dominican Republic           1\n",
       "Mauritania                   1\n",
       "Guinea                       1\n",
       "ch:allemagne                 1\n",
       "Guatemala                    1\n",
       "La-reunion                   1\n",
       "Vanuatu                      1\n",
       "es:mexic                     1\n",
       "El Salvador                  1\n",
       "Namibia                      1\n",
       "sq:kosovo                    1\n",
       "Name: destination, Length: 172, dtype: int64"
      ]
     },
     "execution_count": 46,
     "metadata": {},
     "output_type": "execute_result"
    }
   ],
   "source": [
    "travel_data['destination'].value_counts()"
   ]
  },
  {
   "cell_type": "code",
   "execution_count": 47,
   "metadata": {
    "scrolled": true
   },
   "outputs": [
    {
     "data": {
      "text/plain": [
       "france                                                                                                                                                                                                                                                                                                                          16406\n",
       "union-europeenne                                                                                                                                                                                                                                                                                                                 2934\n",
       "mexico                                                                                                                                                                                                                                                                                                                           1509\n",
       "italie                                                                                                                                                                                                                                                                                                                           1472\n",
       "espagne                                                                                                                                                                                                                                                                                                                          1266\n",
       "espana                                                                                                                                                                                                                                                                                                                           1201\n",
       "suisse                                                                                                                                                                                                                                                                                                                            720\n",
       "deutschland                                                                                                                                                                                                                                                                                                                       604\n",
       "australia                                                                                                                                                                                                                                                                                                                         599\n",
       "belgique                                                                                                                                                                                                                                                                                                                          533\n",
       "perou                                                                                                                                                                                                                                                                                                                             419\n",
       "neprecizata                                                                                                                                                                                                                                                                                                                       397\n",
       "allemagne                                                                                                                                                                                                                                                                                                                         383\n",
       "canada                                                                                                                                                                                                                                                                                                                            381\n",
       "thailande                                                                                                                                                                                                                                                                                                                         358\n",
       "italia                                                                                                                                                                                                                                                                                                                            357\n",
       "bretagne                                                                                                                                                                                                                                                                                                                          354\n",
       "agricultura-ue                                                                                                                                                                                                                                                                                                                    352\n",
       "royaume-uni                                                                                                                                                                                                                                                                                                                       333\n",
       "norvege                                                                                                                                                                                                                                                                                                                           322\n",
       "chine                                                                                                                                                                                                                                                                                                                             316\n",
       "united-kingdom                                                                                                                                                                                                                                                                                                                    312\n",
       "agricultura-no-ue                                                                                                                                                                                                                                                                                                                 309\n",
       "hors-union-europeenne                                                                                                                                                                                                                                                                                                             299\n",
       "agriculture-ue-non-ue                                                                                                                                                                                                                                                                                                             295\n",
       "usa                                                                                                                                                                                                                                                                                                                               294\n",
       "china                                                                                                                                                                                                                                                                                                                             290\n",
       "hors-france                                                                                                                                                                                                                                                                                                                       286\n",
       "portugal                                                                                                                                                                                                                                                                                                                          274\n",
       "europe                                                                                                                                                                                                                                                                                                                            256\n",
       "                                                                                                                                                                                                                                                                                                                                ...  \n",
       "importe-de-singapour-par-emb-91228g                                                                                                                                                                                                                                                                                                 1\n",
       "skandinavien                                                                                                                                                                                                                                                                                                                        1\n",
       "it-latte-d-italia                                                                                                                                                                                                                                                                                                                   1\n",
       "schurwald-quelle                                                                                                                                                                                                                                                                                                                    1\n",
       "es-eco-020-cv                                                                                                                                                                                                                                                                                                                       1\n",
       "sete-lagoas-mg                                                                                                                                                                                                                                                                                                                      1\n",
       "boeuf-origne-france                                                                                                                                                                                                                                                                                                                 1\n",
       "distillerie-a-blachere                                                                                                                                                                                                                                                                                                              1\n",
       "tirol                                                                                                                                                                                                                                                                                                                               1\n",
       "melange-ail-et-fines-herbes-origine-ue                                                                                                                                                                                                                                                                                              1\n",
       "farine-de-soja-levain-de-seigle-deshydrate-et-desactive-sirop-de-glucose-enzyme-alpha-amylase-hemicellulase-cellulose-lipase-exo-alpha-amylase-maltogene-graines-de-tournesol-20-graines-flocons-d-avoine-40-graines-de-lin-20-graines-de-sesame-20-graines-de-tournesol-20-levure-ameliorant-emulsifiant-e-471-palme-enzyme        1\n",
       "sotrapal                                                                                                                                                                                                                                                                                                                            1\n",
       "coisy                                                                                                                                                                                                                                                                                                                               1\n",
       "domestique-et-etranger                                                                                                                                                                                                                                                                                                              1\n",
       "loningen                                                                                                                                                                                                                                                                                                                            1\n",
       "lait-cru                                                                                                                                                                                                                                                                                                                            1\n",
       "divers-pays-producteurs                                                                                                                                                                                                                                                                                                             1\n",
       "тунис                                                                                                                                                                                                                                                                                                                               1\n",
       "british-flour                                                                                                                                                                                                                                                                                                                       1\n",
       "coeurs-de-palmier                                                                                                                                                                                                                                                                                                                   1\n",
       "thes-verts                                                                                                                                                                                                                                                                                                                          1\n",
       "crevette-parapenaeus-spp                                                                                                                                                                                                                                                                                                            1\n",
       "wattwiller                                                                                                                                                                                                                                                                                                                          1\n",
       "fidji                                                                                                                                                                                                                                                                                                                               1\n",
       "canadiens-et-importes                                                                                                                                                                                                                                                                                                               1\n",
       "mittlerer-westpazifik                                                                                                                                                                                                                                                                                                               1\n",
       "nuremberg                                                                                                                                                                                                                                                                                                                           1\n",
       "chocolat-st-domingue                                                                                                                                                                                                                                                                                                                1\n",
       "tomates-sechees-au-soleil-origine-italie                                                                                                                                                                                                                                                                                            1\n",
       "malts-mouts-de-raisin-muscat                                                                                                                                                                                                                                                                                                        1\n",
       "Name: origin, Length: 5280, dtype: int64"
      ]
     },
     "execution_count": 47,
     "metadata": {},
     "output_type": "execute_result"
    }
   ],
   "source": [
    "travel_data['origin'].value_counts()"
   ]
  },
  {
   "cell_type": "code",
   "execution_count": 48,
   "metadata": {
    "scrolled": true
   },
   "outputs": [
    {
     "data": {
      "text/plain": [
       "France                       42420\n",
       "Spain                         3172\n",
       "Germany                       2472\n",
       "Mexico                        2177\n",
       "Switzerland                   2089\n",
       "Australia                     1358\n",
       "United Kingdom                1186\n",
       "Belgium                       1139\n",
       "Italy                          604\n",
       "United States                  510\n",
       "Canada                         441\n",
       "Romania                        422\n",
       "Sweden                         415\n",
       "Portugal                       320\n",
       "Brazil                         201\n",
       "Réunion                        165\n",
       "Netherlands                    156\n",
       "Austria                        151\n",
       "Madagascar                     124\n",
       "Guadeloupe                     112\n",
       "Russia                         106\n",
       "India                           98\n",
       "Hungary                         89\n",
       "French Polynesia                83\n",
       "French Guiana                   80\n",
       "Denmark                         80\n",
       "Ireland                         73\n",
       "Tunisia                         70\n",
       "Georgia                         66\n",
       "New Zealand                     61\n",
       "Nutrition facts completed       57\n",
       "Quantity completed              57\n",
       "Packaging completed             57\n",
       "Characteristics completed       57\n",
       "Categories completed            57\n",
       "Ingredients completed           57\n",
       "Product name completed          57\n",
       "Brands completed                57\n",
       "Photos uploaded                 56\n",
       "Poland                          56\n",
       "Photos validated                54\n",
       "Complete                        54\n",
       "To be checked                   54\n",
       "Luxembourg                      47\n",
       "ch:suisse                       46\n",
       "Czech Republic                  44\n",
       "Serbia                          44\n",
       "fr:deutschland                  43\n",
       "En                              42\n",
       "Martinique                      41\n",
       "Name: destination, dtype: int64"
      ]
     },
     "execution_count": 48,
     "metadata": {},
     "output_type": "execute_result"
    }
   ],
   "source": [
    "travel_data['destination'].value_counts()[:50]"
   ]
  },
  {
   "cell_type": "code",
   "execution_count": 49,
   "metadata": {
    "scrolled": true
   },
   "outputs": [
    {
     "data": {
      "text/html": [
       "<div>\n",
       "<style scoped>\n",
       "    .dataframe tbody tr th:only-of-type {\n",
       "        vertical-align: middle;\n",
       "    }\n",
       "\n",
       "    .dataframe tbody tr th {\n",
       "        vertical-align: top;\n",
       "    }\n",
       "\n",
       "    .dataframe thead th {\n",
       "        text-align: right;\n",
       "    }\n",
       "</style>\n",
       "<table border=\"1\" class=\"dataframe\">\n",
       "  <thead>\n",
       "    <tr style=\"text-align: right;\">\n",
       "      <th></th>\n",
       "      <th>ingredients_from_palm_oil_n</th>\n",
       "    </tr>\n",
       "    <tr>\n",
       "      <th>nutri-score_letter</th>\n",
       "      <th></th>\n",
       "    </tr>\n",
       "  </thead>\n",
       "  <tbody>\n",
       "    <tr>\n",
       "      <th>A</th>\n",
       "      <td>0.004423</td>\n",
       "    </tr>\n",
       "    <tr>\n",
       "      <th>B</th>\n",
       "      <td>0.010093</td>\n",
       "    </tr>\n",
       "    <tr>\n",
       "      <th>C</th>\n",
       "      <td>0.018726</td>\n",
       "    </tr>\n",
       "    <tr>\n",
       "      <th>D</th>\n",
       "      <td>0.036063</td>\n",
       "    </tr>\n",
       "    <tr>\n",
       "      <th>E</th>\n",
       "      <td>0.105123</td>\n",
       "    </tr>\n",
       "  </tbody>\n",
       "</table>\n",
       "</div>"
      ],
      "text/plain": [
       "                    ingredients_from_palm_oil_n\n",
       "nutri-score_letter                             \n",
       "A                                      0.004423\n",
       "B                                      0.010093\n",
       "C                                      0.018726\n",
       "D                                      0.036063\n",
       "E                                      0.105123"
      ]
     },
     "execution_count": 49,
     "metadata": {},
     "output_type": "execute_result"
    }
   ],
   "source": [
    "data[['ingredients_from_palm_oil_n', 'nutri-score_letter']].dropna().groupby('nutri-score_letter').mean()"
   ]
  },
  {
   "cell_type": "code",
   "execution_count": 50,
   "metadata": {},
   "outputs": [
    {
     "data": {
      "text/html": [
       "<div>\n",
       "<style scoped>\n",
       "    .dataframe tbody tr th:only-of-type {\n",
       "        vertical-align: middle;\n",
       "    }\n",
       "\n",
       "    .dataframe tbody tr th {\n",
       "        vertical-align: top;\n",
       "    }\n",
       "\n",
       "    .dataframe thead th {\n",
       "        text-align: right;\n",
       "    }\n",
       "</style>\n",
       "<table border=\"1\" class=\"dataframe\">\n",
       "  <thead>\n",
       "    <tr style=\"text-align: right;\">\n",
       "      <th></th>\n",
       "      <th>ingredients_that_may_be_from_palm_oil_n</th>\n",
       "    </tr>\n",
       "    <tr>\n",
       "      <th>nutri-score_letter</th>\n",
       "      <th></th>\n",
       "    </tr>\n",
       "  </thead>\n",
       "  <tbody>\n",
       "    <tr>\n",
       "      <th>A</th>\n",
       "      <td>0.027020</td>\n",
       "    </tr>\n",
       "    <tr>\n",
       "      <th>B</th>\n",
       "      <td>0.041870</td>\n",
       "    </tr>\n",
       "    <tr>\n",
       "      <th>C</th>\n",
       "      <td>0.066666</td>\n",
       "    </tr>\n",
       "    <tr>\n",
       "      <th>D</th>\n",
       "      <td>0.093732</td>\n",
       "    </tr>\n",
       "    <tr>\n",
       "      <th>E</th>\n",
       "      <td>0.113312</td>\n",
       "    </tr>\n",
       "  </tbody>\n",
       "</table>\n",
       "</div>"
      ],
      "text/plain": [
       "                    ingredients_that_may_be_from_palm_oil_n\n",
       "nutri-score_letter                                         \n",
       "A                                                  0.027020\n",
       "B                                                  0.041870\n",
       "C                                                  0.066666\n",
       "D                                                  0.093732\n",
       "E                                                  0.113312"
      ]
     },
     "execution_count": 50,
     "metadata": {},
     "output_type": "execute_result"
    }
   ],
   "source": [
    "data[['ingredients_that_may_be_from_palm_oil_n', 'nutri-score_letter']].dropna().groupby('nutri-score_letter').mean()"
   ]
  },
  {
   "cell_type": "code",
   "execution_count": 51,
   "metadata": {},
   "outputs": [
    {
     "data": {
      "text/html": [
       "<div>\n",
       "<style scoped>\n",
       "    .dataframe tbody tr th:only-of-type {\n",
       "        vertical-align: middle;\n",
       "    }\n",
       "\n",
       "    .dataframe tbody tr th {\n",
       "        vertical-align: top;\n",
       "    }\n",
       "\n",
       "    .dataframe thead th {\n",
       "        text-align: right;\n",
       "    }\n",
       "</style>\n",
       "<table border=\"1\" class=\"dataframe\">\n",
       "  <thead>\n",
       "    <tr style=\"text-align: right;\">\n",
       "      <th></th>\n",
       "      <th>ingredients_that_may_be_from_palm_oil_n</th>\n",
       "    </tr>\n",
       "    <tr>\n",
       "      <th>nutri-score_letter</th>\n",
       "      <th></th>\n",
       "    </tr>\n",
       "  </thead>\n",
       "  <tbody>\n",
       "    <tr>\n",
       "      <th>A</th>\n",
       "      <td>0.027020</td>\n",
       "    </tr>\n",
       "    <tr>\n",
       "      <th>B</th>\n",
       "      <td>0.041870</td>\n",
       "    </tr>\n",
       "    <tr>\n",
       "      <th>C</th>\n",
       "      <td>0.066666</td>\n",
       "    </tr>\n",
       "    <tr>\n",
       "      <th>D</th>\n",
       "      <td>0.093732</td>\n",
       "    </tr>\n",
       "    <tr>\n",
       "      <th>E</th>\n",
       "      <td>0.113312</td>\n",
       "    </tr>\n",
       "  </tbody>\n",
       "</table>\n",
       "</div>"
      ],
      "text/plain": [
       "                    ingredients_that_may_be_from_palm_oil_n\n",
       "nutri-score_letter                                         \n",
       "A                                                  0.027020\n",
       "B                                                  0.041870\n",
       "C                                                  0.066666\n",
       "D                                                  0.093732\n",
       "E                                                  0.113312"
      ]
     },
     "execution_count": 51,
     "metadata": {},
     "output_type": "execute_result"
    }
   ],
   "source": [
    "data[['ingredients_that_may_be_from_palm_oil_n', 'nutri-score_letter']].dropna().groupby('nutri-score_letter').mean()"
   ]
  },
  {
   "cell_type": "code",
   "execution_count": 52,
   "metadata": {},
   "outputs": [],
   "source": [
    "pack_mapping = dict.fromkeys(['plastic', 'plastique,frais','plastique', 'barquette,plastique', 'sachet,plastique',\n",
    "                              'frais,plastique','carton,plastique','carton,plastique,surgele','flacon,plastique'\n",
    "                 'sachet-plastique','carton,boite,plastique', 'boite,plastique', 'plastique,carton','sachet-plastique',\n",
    "                'sachet,plastique,surgele','barquette,plastique,frais','pot,plastique','plastique,sachet',\n",
    "                             'plastico','boite,carton,plastique','frais,plastique,carton','frais,carton,plastique',\n",
    "                              'carton,sachet,plastique','kunststoff','barquette,film,plastique,sous-atmosphere-protectrice',\n",
    "                             'carton,surgele,plastique','plastique,barquette','sachet,plastique,frais',\n",
    "                             'barquette,plastique,sous-atmosphere-protectrice','frais,barquette,plastique,opercule,film-plastique,sous-atmosphere-protectrice',\n",
    "                             'sachet,plastique,carton','film,plastique','carton,plastique,frais','frais,pot,plastique','sachet,plastique,sous-atmosphere-protectrice',\n",
    "                             'bolsa-de-plastico,ultracongelado','barquette-plastique','plastique,sous-vide','plastic,bag',\n",
    "                             'barquette,film,plastique'],'Plastic')\n",
    "\n",
    "pack_mapping.update(dict.fromkeys(['bouteille,verre','carton','boite,carton','carton,surgele','karton','carton,boite','karton,kunststoff',\n",
    "                                  'sachet,papier','papier','bouteille,plastique','conserve','bocal,verre','glas',\n",
    "                                  'bouteille','conserve,metal','bocal,verre,couvercle,metal','bocal,verre,metal',\n",
    "                                  'verre','verre,bouteille','pot,verre','bocal','bolsa-de-plastico','verre,bocal',\n",
    "                                  'flacon,plastique','bouteille-plastique','bottle','canned','pot-en-verre','bolsa,plastico',\n",
    "                                   'bouteille-verre','bocal-en-verre','verre,bocal,metal','plastique,bouteille','bouteille-en-verre','canette','pot,verre,couvercle,metal',\n",
    "                                  'glas,mehrwegpfand','carton,aluminium','boite,metal','botella-de-plastico','boite-carton',\n",
    "                                  'plastic-bottle','sous-vide','plastic,bottle','can','pot-en-plastique'],'Recyclable'))\n",
    "\n",
    "pack_mapping.update(dict.fromkeys(['frais','surgele','surgele,carton,plastique','brique,carton','tetra-pak','tetra-brik',\n",
    "                                  'brique',],'Non-Recyclable'))"
   ]
  },
  {
   "cell_type": "code",
   "execution_count": 53,
   "metadata": {
    "scrolled": true
   },
   "outputs": [],
   "source": [
    "data['packaging_tags'] = data['packaging_tags'].replace(pack_mapping)"
   ]
  },
  {
   "cell_type": "code",
   "execution_count": 54,
   "metadata": {},
   "outputs": [
    {
     "data": {
      "text/html": [
       "<div>\n",
       "<style scoped>\n",
       "    .dataframe tbody tr th:only-of-type {\n",
       "        vertical-align: middle;\n",
       "    }\n",
       "\n",
       "    .dataframe tbody tr th {\n",
       "        vertical-align: top;\n",
       "    }\n",
       "\n",
       "    .dataframe thead th {\n",
       "        text-align: right;\n",
       "    }\n",
       "</style>\n",
       "<table border=\"1\" class=\"dataframe\">\n",
       "  <thead>\n",
       "    <tr style=\"text-align: right;\">\n",
       "      <th></th>\n",
       "      <th>packaging_tags</th>\n",
       "    </tr>\n",
       "    <tr>\n",
       "      <th>nutri-score_letter</th>\n",
       "      <th></th>\n",
       "    </tr>\n",
       "  </thead>\n",
       "  <tbody>\n",
       "    <tr>\n",
       "      <th>A</th>\n",
       "      <td>329</td>\n",
       "    </tr>\n",
       "    <tr>\n",
       "      <th>B</th>\n",
       "      <td>1094</td>\n",
       "    </tr>\n",
       "    <tr>\n",
       "      <th>C</th>\n",
       "      <td>731</td>\n",
       "    </tr>\n",
       "    <tr>\n",
       "      <th>D</th>\n",
       "      <td>587</td>\n",
       "    </tr>\n",
       "    <tr>\n",
       "      <th>E</th>\n",
       "      <td>49</td>\n",
       "    </tr>\n",
       "  </tbody>\n",
       "</table>\n",
       "</div>"
      ],
      "text/plain": [
       "                    packaging_tags\n",
       "nutri-score_letter                \n",
       "A                              329\n",
       "B                             1094\n",
       "C                              731\n",
       "D                              587\n",
       "E                               49"
      ]
     },
     "execution_count": 54,
     "metadata": {},
     "output_type": "execute_result"
    }
   ],
   "source": [
    "data[['packaging_tags', 'nutri-score_letter']].dropna().query('packaging_tags == \"Recyclable\"').groupby('nutri-score_letter').count()\n",
    "\n",
    "data[['packaging_tags', 'nutri-score_letter']].dropna().query('packaging_tags == \"Plastic\"').groupby('nutri-score_letter').count()\n",
    "\n",
    "data[['packaging_tags', 'nutri-score_letter']].dropna().query('packaging_tags == \"Non-Recyclable\"').groupby('nutri-score_letter').count()"
   ]
  },
  {
   "cell_type": "code",
   "execution_count": 55,
   "metadata": {
    "scrolled": true
   },
   "outputs": [],
   "source": [
    "nutri_pack = pd.DataFrame(data[['packaging_tags', 'nutri-score_letter']].dropna().groupby('nutri-score_letter').count())"
   ]
  },
  {
   "cell_type": "code",
   "execution_count": 56,
   "metadata": {},
   "outputs": [],
   "source": [
    "nutri_pack['Plastic'] = data[['packaging_tags', 'nutri-score_letter']].dropna().query('packaging_tags == \"Plastic\"').groupby('nutri-score_letter').count()\n",
    "\n",
    "nutri_pack['Recyclable'] = data[['packaging_tags', 'nutri-score_letter']].dropna().query('packaging_tags == \"Recyclable\"').groupby('nutri-score_letter').count()\n",
    "\n",
    "nutri_pack['Non-Recyclable'] = data[['packaging_tags', 'nutri-score_letter']].dropna().query('packaging_tags == \"Non-Recyclable\"').groupby('nutri-score_letter').count()"
   ]
  },
  {
   "cell_type": "code",
   "execution_count": 57,
   "metadata": {},
   "outputs": [],
   "source": [
    "nutri_pack.drop(columns = ['packaging_tags'], inplace = True)"
   ]
  },
  {
   "cell_type": "code",
   "execution_count": 58,
   "metadata": {
    "scrolled": true
   },
   "outputs": [
    {
     "data": {
      "text/plain": [
       "<matplotlib.axes._subplots.AxesSubplot at 0x1a2ef5c6a0>"
      ]
     },
     "execution_count": 58,
     "metadata": {},
     "output_type": "execute_result"
    },
    {
     "data": {
      "image/png": "[encoded data removed]",
      "text/plain": [
       "<Figure size 1080x720 with 5 Axes>"
      ]
     },
     "metadata": {},
     "output_type": "display_data"
    }
   ],
   "source": [
    "plt.figure(figsize = (15,10))\n",
    "nutri_pack.loc['A'].plot.pie(ax=plt.subplot(231), title='Packaging Score A')\n",
    "nutri_pack.loc['B'].plot.pie(ax=plt.subplot(232), title='Packaging Score B')\n",
    "nutri_pack.loc['C'].plot.pie(ax=plt.subplot(233), title='Packaging Score C')\n",
    "nutri_pack.loc['D'].plot.pie(ax=plt.subplot(234), title='Packaging Score D')\n",
    "nutri_pack.loc['E'].plot.pie(ax=plt.subplot(235), title='Packaging Score E')"
   ]
  },
  {
   "cell_type": "code",
   "execution_count": 59,
   "metadata": {},
   "outputs": [],
   "source": [
    "chosen_fields = ['product_name', 'packaging_tags', 'brands_tags',\n",
    "                 'origins_tags', 'manufacturing_places_tags', 'labels_en',\n",
    "                 'stores', 'countries_en','additives_n',\n",
    "                 'ingredients_from_palm_oil_n', 'ingredients_that_may_be_from_palm_oil_n', \n",
    "                 'nutrition_grade_fr', 'pnns_groups_1', 'fruits-vegetables-nuts_100g',\n",
    "                 'main_category_en', 'energy_100g', 'energy-from-fat_100g', 'fat_100g', \n",
    "                 'saturated-fat_100g', 'monounsaturated-fat_100g', 'polyunsaturated-fat_100g', \n",
    "                 'omega-3-fat_100g', 'omega-6-fat_100g', 'omega-9-fat_100g', 'trans-fat_100g', \n",
    "                 'cholesterol_100g', 'carbohydrates_100g', 'sugars_100g',\n",
    "                 'fiber_100g', 'proteins_100g', 'sodium_100g', \n",
    "                 'nutrition-score-fr_100g', 'nutrition-score-uk_100g',\n",
    "                 'carbon-footprint_100g', 'first_packaging_code_geo']"
   ]
  },
  {
   "cell_type": "markdown",
   "metadata": {},
   "source": [
    "**Number of Ing containing Palm_oil**"
   ]
  },
  {
   "cell_type": "code",
   "execution_count": 60,
   "metadata": {},
   "outputs": [
    {
     "data": {
      "text/plain": [
       "<matplotlib.axes._subplots.AxesSubplot at 0x1a300cce10>"
      ]
     },
     "execution_count": 60,
     "metadata": {},
     "output_type": "execute_result"
    },
    {
     "data": {
      "image/png": "[encoded data removed]",
      "text/plain": [
       "<Figure size 864x432 with 1 Axes>"
      ]
     },
     "metadata": {},
     "output_type": "display_data"
    }
   ],
   "source": [
    "nutri_palm = data[['nutri-score_letter', 'ingredients_from_palm_oil_n']].groupby('nutri-score_letter').mean()\n",
    "nutri_palm.plot.bar(rot=0, figsize = (12,6))"
   ]
  },
  {
   "cell_type": "code",
   "execution_count": 61,
   "metadata": {},
   "outputs": [
    {
     "data": {
      "text/plain": [
       "<matplotlib.axes._subplots.AxesSubplot at 0x1a22e4b5f8>"
      ]
     },
     "execution_count": 61,
     "metadata": {},
     "output_type": "execute_result"
    },
    {
     "data": {
      "image/png": "[encoded data removed]",
      "text/plain": [
       "<Figure size 864x432 with 1 Axes>"
      ]
     },
     "metadata": {},
     "output_type": "display_data"
    }
   ],
   "source": [
    "may_nutri_palm = data[['nutri-score_letter', 'ingredients_that_may_be_from_palm_oil_n']].groupby('nutri-score_letter').mean()\n",
    "may_nutri_palm.plot.bar(rot=0, figsize = (12,6))"
   ]
  },
  {
   "cell_type": "code",
   "execution_count": 62,
   "metadata": {},
   "outputs": [],
   "source": [
    "def replace(col, contains, replace_by):\n",
    "    data.loc[data[col].str.contains(contains), col] = replace_by"
   ]
  },
  {
   "cell_type": "code",
   "execution_count": 63,
   "metadata": {},
   "outputs": [],
   "source": [
    "data['labels_en'].fillna('Unknown', inplace = True)\n",
    "replace('labels_en','organic','Bio')\n",
    "replace('labels_en','biologique','Bio')\n",
    "replace('labels_en','Biologique','Bio')\n",
    "replace('labels_en','bio','Bio')\n",
    "replace('labels_en','Organic','Bio')\n",
    "replace('labels_en','vegan','Vegan')\n",
    "replace('labels_en','Vegan','Vegan')"
   ]
  },
  {
   "cell_type": "code",
   "execution_count": 64,
   "metadata": {},
   "outputs": [],
   "source": [
    "replace('labels_en','Green Dot','Green Dot')\n",
    "replace('labels_en','veget','Vegetarian')\n",
    "replace('labels_en','Veget','Vegetarian')"
   ]
  },
  {
   "cell_type": "code",
   "execution_count": 65,
   "metadata": {},
   "outputs": [
    {
     "data": {
      "text/plain": [
       "Unknown                                                                                                                                                                                                                                                                                                                                                                                                                                    595600\n",
       "Bio                                                                                                                                                                                                                                                                                                                                                                                                                                         38216\n",
       "Green Dot                                                                                                                                                                                                                                                                                                                                                                                                                                   19926\n",
       "Vegan                                                                                                                                                                                                                                                                                                                                                                                                                                        3875\n",
       "Vegetarian                                                                                                                                                                                                                                                                                                                                                                                                                                   1994\n",
       "Made in France                                                                                                                                                                                                                                                                                                                                                                                                                                888\n",
       "PDO                                                                                                                                                                                                                                                                                                                                                                                                                                           875\n",
       "Gluten-free                                                                                                                                                                                                                                                                                                                                                                                                                                   792\n",
       "Distributor labels,fr:Sélection Intermarché                                                                                                                                                                                                                                                                                                                                                                                                   627\n",
       "PGI                                                                                                                                                                                                                                                                                                                                                                                                                                           584\n",
       "No preservatives                                                                                                                                                                                                                                                                                                                                                                                                                              560\n",
       "No colorings,No preservatives                                                                                                                                                                                                                                                                                                                                                                                                                 525\n",
       "Produced in Bretagne                                                                                                                                                                                                                                                                                                                                                                                                                          482\n",
       "fr:Viande Française,fr:Viande Porcine Française                                                                                                                                                                                                                                                                                                                                                                                               475\n",
       "Sustainable farming,UTZ Certified,UTZ Certified Cacao                                                                                                                                                                                                                                                                                                                                                                                         462\n",
       "Lait Français (French milk)                                                                                                                                                                                                                                                                                                                                                                                                                   429\n",
       "Transformed in France                                                                                                                                                                                                                                                                                                                                                                                                                         390\n",
       "fr:Déconseillé aux femmes enceintes                                                                                                                                                                                                                                                                                                                                                                                                           365\n",
       "Palm oil free                                                                                                                                                                                                                                                                                                                                                                                                                                 360\n",
       "Halal                                                                                                                                                                                                                                                                                                                                                                                                                                         356\n",
       "fr:Viande Française,fr:Viande Bovine Française                                                                                                                                                                                                                                                                                                                                                                                                326\n",
       "Pure butter                                                                                                                                                                                                                                                                                                                                                                                                                                   294\n",
       "In braille                                                                                                                                                                                                                                                                                                                                                                                                                                    277\n",
       "Packaged in France                                                                                                                                                                                                                                                                                                                                                                                                                            262\n",
       "Class I                                                                                                                                                                                                                                                                                                                                                                                                                                       257\n",
       "Distributor labels,Carrefour Quality                                                                                                                                                                                                                                                                                                                                                                                                          236\n",
       "No GMOs                                                                                                                                                                                                                                                                                                                                                                                                                                       234\n",
       "No added sugar                                                                                                                                                                                                                                                                                                                                                                                                                                232\n",
       "fr:Viande Française,fr:Volaille Française                                                                                                                                                                                                                                                                                                                                                                                                     223\n",
       "Sustainable fishery,Sustainable Seafood MSC                                                                                                                                                                                                                                                                                                                                                                                                   219\n",
       "                                                                                                                                                                                                                                                                                                                                                                                                                                            ...  \n",
       "Sustainable farming,No preservatives,fr:cultivee-en-france,fr:preparee-en-france                                                                                                                                                                                                                                                                                                                                                                1\n",
       "Made in France,No GMOs,Produced in Bretagne                                                                                                                                                                                                                                                                                                                                                                                                     1\n",
       "fr:apellation-d-origine-protegee                                                                                                                                                                                                                                                                                                                                                                                                                1\n",
       "Sustainable farming,FSC,UTZ Certified,FSC Mix,High fibres,Natural flavors,UTZ Certified Cacao,Fsc-c043107                                                                                                                                                                                                                                                                                                                                       1\n",
       "Angled fish,fr:safe                                                                                                                                                                                                                                                                                                                                                                                                                             1\n",
       "No lactose,fr:lithuanian-product                                                                                                                                                                                                                                                                                                                                                                                                                1\n",
       "Sustainable Palm Oil,New                                                                                                                                                                                                                                                                                                                                                                                                                        1\n",
       "EAC,No GMOs,ru:ту-9128-001-13189832-2013                                                                                                                                                                                                                                                                                                                                                                                                        1\n",
       "PDO,de:agrocert                                                                                                                                                                                                                                                                                                                                                                                                                                 1\n",
       "fr:Origine France,fr:beurre-de-baratte-frais                                                                                                                                                                                                                                                                                                                                                                                                    1\n",
       "With sulfites,fr:fabrique-a-taiwan                                                                                                                                                                                                                                                                                                                                                                                                              1\n",
       "EAC,ru:ту-9222-009-50179010-02                                                                                                                                                                                                                                                                                                                                                                                                                  1\n",
       "Do not freeze again,Pure butter                                                                                                                                                                                                                                                                                                                                                                                                                 1\n",
       "100% natural,EAC,ru:золотая-медаль-на-всероссийской-специализированной-выставке-продиндустрия-2002,ru:золотая-медаль-на-выставке-продэкспо-2009,ru:лучший-продукт-2007,ru:лучший-продукт-2009-на-xvi-международном-конкурсе-сельскохозяйственных-товаров-на-выставке-продэкспо-2009,ru:победитель-народной-дегустации,ru:победителю-дегустационного-конкурса,ru:ту-9214-001-51303191-14,ru:товар-года-2015,ru:хассп-мясо-гост-р-51705-1         1\n",
       "No artificial flavors,No preservatives,fr:info-tri-point-vert,fr:moins-de-1-de-sel                                                                                                                                                                                                                                                                                                                                                              1\n",
       "EAC,No GMOs,ru:Добровольная сертификация РСТ,ru:ту-9116-002-77186541-2015                                                                                                                                                                                                                                                                                                                                                                       1\n",
       "Kascher,Sans-ogm                                                                                                                                                                                                                                                                                                                                                                                                                                1\n",
       "fr:Certifié par bureau Veritas,EAC,fr:kf                                                                                                                                                                                                                                                                                                                                                                                                        1\n",
       "Contains-25-fruit                                                                                                                                                                                                                                                                                                                                                                                                                               1\n",
       "es:qualita-oro                                                                                                                                                                                                                                                                                                                                                                                                                                  1\n",
       "Gluten-free,Made in France,fr:fabrique-en-aveyron                                                                                                                                                                                                                                                                                                                                                                                               1\n",
       "No colorings,No preservatives,Gluten-free,No flavour enhancer,No hydrogenated fats                                                                                                                                                                                                                                                                                                                                                              1\n",
       "Not advised for specific people,fr:Déconseillé aux femmes enceintes,fr:ruban-de-mobius                                                                                                                                                                                                                                                                                                                                                          1\n",
       "No artificial flavors,No added sugar,No artificial colors                                                                                                                                                                                                                                                                                                                                                                                       1\n",
       "Gluten-free,Made in France,No lactose,fr:Afdiag                                                                                                                                                                                                                                                                                                                                                                                                 1\n",
       "With sweeteners,fr:0-8-mg                                                                                                                                                                                                                                                                                                                                                                                                                       1\n",
       "fr:entreprise-adaptee                                                                                                                                                                                                                                                                                                                                                                                                                           1\n",
       "Made in France,Pure butter,With Guérande salt                                                                                                                                                                                                                                                                                                                                                                                                   1\n",
       "EAC,ru:знак-відповідності-державної-системи-сертифікації-обов-язкова-сертифікація-029,ru:маркировка-соответствия-sm-1003                                                                                                                                                                                                                                                                                                                        1\n",
       "Gluten-free,No lactose,fr:eco-emballages                                                                                                                                                                                                                                                                                                                                                                                                        1\n",
       "Name: labels_en, Length: 11177, dtype: int64"
      ]
     },
     "execution_count": 65,
     "metadata": {},
     "output_type": "execute_result"
    }
   ],
   "source": [
    "data['labels_en'].value_counts()"
   ]
  },
  {
   "cell_type": "code",
   "execution_count": 66,
   "metadata": {
    "scrolled": true
   },
   "outputs": [
    {
     "data": {
      "text/html": [
       "<div>\n",
       "<style scoped>\n",
       "    .dataframe tbody tr th:only-of-type {\n",
       "        vertical-align: middle;\n",
       "    }\n",
       "\n",
       "    .dataframe tbody tr th {\n",
       "        vertical-align: top;\n",
       "    }\n",
       "\n",
       "    .dataframe thead th {\n",
       "        text-align: right;\n",
       "    }\n",
       "</style>\n",
       "<table border=\"1\" class=\"dataframe\">\n",
       "  <thead>\n",
       "    <tr style=\"text-align: right;\">\n",
       "      <th></th>\n",
       "      <th>labels_en</th>\n",
       "      <th>nutri-score_letter</th>\n",
       "    </tr>\n",
       "  </thead>\n",
       "  <tbody>\n",
       "    <tr>\n",
       "      <th>0</th>\n",
       "      <td>Unknown</td>\n",
       "      <td>D</td>\n",
       "    </tr>\n",
       "    <tr>\n",
       "      <th>2</th>\n",
       "      <td>Unknown</td>\n",
       "      <td>B</td>\n",
       "    </tr>\n",
       "    <tr>\n",
       "      <th>3</th>\n",
       "      <td>Unknown</td>\n",
       "      <td>B</td>\n",
       "    </tr>\n",
       "    <tr>\n",
       "      <th>5</th>\n",
       "      <td>Unknown</td>\n",
       "      <td>B</td>\n",
       "    </tr>\n",
       "    <tr>\n",
       "      <th>6</th>\n",
       "      <td>Unknown</td>\n",
       "      <td>C</td>\n",
       "    </tr>\n",
       "    <tr>\n",
       "      <th>9</th>\n",
       "      <td>Unknown</td>\n",
       "      <td>B</td>\n",
       "    </tr>\n",
       "    <tr>\n",
       "      <th>10</th>\n",
       "      <td>Unknown</td>\n",
       "      <td>D</td>\n",
       "    </tr>\n",
       "    <tr>\n",
       "      <th>11</th>\n",
       "      <td>Unknown</td>\n",
       "      <td>B</td>\n",
       "    </tr>\n",
       "    <tr>\n",
       "      <th>12</th>\n",
       "      <td>Unknown</td>\n",
       "      <td>D</td>\n",
       "    </tr>\n",
       "    <tr>\n",
       "      <th>13</th>\n",
       "      <td>Unknown</td>\n",
       "      <td>C</td>\n",
       "    </tr>\n",
       "    <tr>\n",
       "      <th>14</th>\n",
       "      <td>Unknown</td>\n",
       "      <td>D</td>\n",
       "    </tr>\n",
       "    <tr>\n",
       "      <th>15</th>\n",
       "      <td>Unknown</td>\n",
       "      <td>C</td>\n",
       "    </tr>\n",
       "    <tr>\n",
       "      <th>16</th>\n",
       "      <td>Unknown</td>\n",
       "      <td>B</td>\n",
       "    </tr>\n",
       "    <tr>\n",
       "      <th>18</th>\n",
       "      <td>Unknown</td>\n",
       "      <td>C</td>\n",
       "    </tr>\n",
       "    <tr>\n",
       "      <th>19</th>\n",
       "      <td>Unknown</td>\n",
       "      <td>C</td>\n",
       "    </tr>\n",
       "    <tr>\n",
       "      <th>21</th>\n",
       "      <td>Unknown</td>\n",
       "      <td>A</td>\n",
       "    </tr>\n",
       "    <tr>\n",
       "      <th>22</th>\n",
       "      <td>Unknown</td>\n",
       "      <td>D</td>\n",
       "    </tr>\n",
       "    <tr>\n",
       "      <th>23</th>\n",
       "      <td>Unknown</td>\n",
       "      <td>B</td>\n",
       "    </tr>\n",
       "    <tr>\n",
       "      <th>24</th>\n",
       "      <td>Unknown</td>\n",
       "      <td>B</td>\n",
       "    </tr>\n",
       "    <tr>\n",
       "      <th>25</th>\n",
       "      <td>Unknown</td>\n",
       "      <td>A</td>\n",
       "    </tr>\n",
       "    <tr>\n",
       "      <th>26</th>\n",
       "      <td>Unknown</td>\n",
       "      <td>B</td>\n",
       "    </tr>\n",
       "    <tr>\n",
       "      <th>27</th>\n",
       "      <td>Unknown</td>\n",
       "      <td>B</td>\n",
       "    </tr>\n",
       "    <tr>\n",
       "      <th>29</th>\n",
       "      <td>Unknown</td>\n",
       "      <td>D</td>\n",
       "    </tr>\n",
       "    <tr>\n",
       "      <th>30</th>\n",
       "      <td>Unknown</td>\n",
       "      <td>C</td>\n",
       "    </tr>\n",
       "    <tr>\n",
       "      <th>31</th>\n",
       "      <td>Unknown</td>\n",
       "      <td>C</td>\n",
       "    </tr>\n",
       "    <tr>\n",
       "      <th>32</th>\n",
       "      <td>Unknown</td>\n",
       "      <td>B</td>\n",
       "    </tr>\n",
       "    <tr>\n",
       "      <th>33</th>\n",
       "      <td>Unknown</td>\n",
       "      <td>D</td>\n",
       "    </tr>\n",
       "    <tr>\n",
       "      <th>34</th>\n",
       "      <td>Unknown</td>\n",
       "      <td>C</td>\n",
       "    </tr>\n",
       "    <tr>\n",
       "      <th>35</th>\n",
       "      <td>Unknown</td>\n",
       "      <td>D</td>\n",
       "    </tr>\n",
       "    <tr>\n",
       "      <th>36</th>\n",
       "      <td>Unknown</td>\n",
       "      <td>D</td>\n",
       "    </tr>\n",
       "    <tr>\n",
       "      <th>...</th>\n",
       "      <td>...</td>\n",
       "      <td>...</td>\n",
       "    </tr>\n",
       "    <tr>\n",
       "      <th>697782</th>\n",
       "      <td>Unknown</td>\n",
       "      <td>B</td>\n",
       "    </tr>\n",
       "    <tr>\n",
       "      <th>697784</th>\n",
       "      <td>Unknown</td>\n",
       "      <td>E</td>\n",
       "    </tr>\n",
       "    <tr>\n",
       "      <th>697785</th>\n",
       "      <td>Unknown</td>\n",
       "      <td>E</td>\n",
       "    </tr>\n",
       "    <tr>\n",
       "      <th>697786</th>\n",
       "      <td>Unknown</td>\n",
       "      <td>D</td>\n",
       "    </tr>\n",
       "    <tr>\n",
       "      <th>697787</th>\n",
       "      <td>Unknown</td>\n",
       "      <td>B</td>\n",
       "    </tr>\n",
       "    <tr>\n",
       "      <th>697790</th>\n",
       "      <td>Unknown</td>\n",
       "      <td>D</td>\n",
       "    </tr>\n",
       "    <tr>\n",
       "      <th>697792</th>\n",
       "      <td>Unknown</td>\n",
       "      <td>B</td>\n",
       "    </tr>\n",
       "    <tr>\n",
       "      <th>697795</th>\n",
       "      <td>Unknown</td>\n",
       "      <td>D</td>\n",
       "    </tr>\n",
       "    <tr>\n",
       "      <th>697796</th>\n",
       "      <td>Unknown</td>\n",
       "      <td>D</td>\n",
       "    </tr>\n",
       "    <tr>\n",
       "      <th>697797</th>\n",
       "      <td>Unknown</td>\n",
       "      <td>E</td>\n",
       "    </tr>\n",
       "    <tr>\n",
       "      <th>697800</th>\n",
       "      <td>Unknown</td>\n",
       "      <td>B</td>\n",
       "    </tr>\n",
       "    <tr>\n",
       "      <th>697801</th>\n",
       "      <td>Green Dot</td>\n",
       "      <td>B</td>\n",
       "    </tr>\n",
       "    <tr>\n",
       "      <th>697803</th>\n",
       "      <td>Unknown</td>\n",
       "      <td>B</td>\n",
       "    </tr>\n",
       "    <tr>\n",
       "      <th>697804</th>\n",
       "      <td>Unknown</td>\n",
       "      <td>D</td>\n",
       "    </tr>\n",
       "    <tr>\n",
       "      <th>697805</th>\n",
       "      <td>Unknown</td>\n",
       "      <td>C</td>\n",
       "    </tr>\n",
       "    <tr>\n",
       "      <th>697807</th>\n",
       "      <td>Unknown</td>\n",
       "      <td>D</td>\n",
       "    </tr>\n",
       "    <tr>\n",
       "      <th>697808</th>\n",
       "      <td>Unknown</td>\n",
       "      <td>E</td>\n",
       "    </tr>\n",
       "    <tr>\n",
       "      <th>697809</th>\n",
       "      <td>Unknown</td>\n",
       "      <td>D</td>\n",
       "    </tr>\n",
       "    <tr>\n",
       "      <th>697810</th>\n",
       "      <td>Unknown</td>\n",
       "      <td>E</td>\n",
       "    </tr>\n",
       "    <tr>\n",
       "      <th>697811</th>\n",
       "      <td>Unknown</td>\n",
       "      <td>D</td>\n",
       "    </tr>\n",
       "    <tr>\n",
       "      <th>697812</th>\n",
       "      <td>Unknown</td>\n",
       "      <td>E</td>\n",
       "    </tr>\n",
       "    <tr>\n",
       "      <th>697814</th>\n",
       "      <td>Unknown</td>\n",
       "      <td>E</td>\n",
       "    </tr>\n",
       "    <tr>\n",
       "      <th>697815</th>\n",
       "      <td>Unknown</td>\n",
       "      <td>C</td>\n",
       "    </tr>\n",
       "    <tr>\n",
       "      <th>697816</th>\n",
       "      <td>Unknown</td>\n",
       "      <td>D</td>\n",
       "    </tr>\n",
       "    <tr>\n",
       "      <th>697818</th>\n",
       "      <td>Unknown</td>\n",
       "      <td>E</td>\n",
       "    </tr>\n",
       "    <tr>\n",
       "      <th>697819</th>\n",
       "      <td>Unknown</td>\n",
       "      <td>C</td>\n",
       "    </tr>\n",
       "    <tr>\n",
       "      <th>697820</th>\n",
       "      <td>Unknown</td>\n",
       "      <td>C</td>\n",
       "    </tr>\n",
       "    <tr>\n",
       "      <th>697821</th>\n",
       "      <td>Unknown</td>\n",
       "      <td>D</td>\n",
       "    </tr>\n",
       "    <tr>\n",
       "      <th>697822</th>\n",
       "      <td>Unknown</td>\n",
       "      <td>B</td>\n",
       "    </tr>\n",
       "    <tr>\n",
       "      <th>697823</th>\n",
       "      <td>Unknown</td>\n",
       "      <td>B</td>\n",
       "    </tr>\n",
       "  </tbody>\n",
       "</table>\n",
       "<p>555887 rows × 2 columns</p>\n",
       "</div>"
      ],
      "text/plain": [
       "        labels_en nutri-score_letter\n",
       "0         Unknown                  D\n",
       "2         Unknown                  B\n",
       "3         Unknown                  B\n",
       "5         Unknown                  B\n",
       "6         Unknown                  C\n",
       "9         Unknown                  B\n",
       "10        Unknown                  D\n",
       "11        Unknown                  B\n",
       "12        Unknown                  D\n",
       "13        Unknown                  C\n",
       "14        Unknown                  D\n",
       "15        Unknown                  C\n",
       "16        Unknown                  B\n",
       "18        Unknown                  C\n",
       "19        Unknown                  C\n",
       "21        Unknown                  A\n",
       "22        Unknown                  D\n",
       "23        Unknown                  B\n",
       "24        Unknown                  B\n",
       "25        Unknown                  A\n",
       "26        Unknown                  B\n",
       "27        Unknown                  B\n",
       "29        Unknown                  D\n",
       "30        Unknown                  C\n",
       "31        Unknown                  C\n",
       "32        Unknown                  B\n",
       "33        Unknown                  D\n",
       "34        Unknown                  C\n",
       "35        Unknown                  D\n",
       "36        Unknown                  D\n",
       "...           ...                ...\n",
       "697782    Unknown                  B\n",
       "697784    Unknown                  E\n",
       "697785    Unknown                  E\n",
       "697786    Unknown                  D\n",
       "697787    Unknown                  B\n",
       "697790    Unknown                  D\n",
       "697792    Unknown                  B\n",
       "697795    Unknown                  D\n",
       "697796    Unknown                  D\n",
       "697797    Unknown                  E\n",
       "697800    Unknown                  B\n",
       "697801  Green Dot                  B\n",
       "697803    Unknown                  B\n",
       "697804    Unknown                  D\n",
       "697805    Unknown                  C\n",
       "697807    Unknown                  D\n",
       "697808    Unknown                  E\n",
       "697809    Unknown                  D\n",
       "697810    Unknown                  E\n",
       "697811    Unknown                  D\n",
       "697812    Unknown                  E\n",
       "697814    Unknown                  E\n",
       "697815    Unknown                  C\n",
       "697816    Unknown                  D\n",
       "697818    Unknown                  E\n",
       "697819    Unknown                  C\n",
       "697820    Unknown                  C\n",
       "697821    Unknown                  D\n",
       "697822    Unknown                  B\n",
       "697823    Unknown                  B\n",
       "\n",
       "[555887 rows x 2 columns]"
      ]
     },
     "execution_count": 66,
     "metadata": {},
     "output_type": "execute_result"
    }
   ],
   "source": [
    "data[['labels_en', 'nutri-score_letter']].dropna()"
   ]
  },
  {
   "cell_type": "code",
   "execution_count": 77,
   "metadata": {},
   "outputs": [
    {
     "data": {
      "image/png": "[encoded data removed]",
      "text/plain": [
       "<Figure size 864x432 with 1 Axes>"
      ]
     },
     "metadata": {},
     "output_type": "display_data"
    }
   ],
   "source": [
    "bio_score = data[['labels_en', 'nutri-score_letter']].dropna().query('labels_en == \"Bio\"').groupby('nutri-score_letter').count()\n",
    "bio_score.plot.bar(rot=0, figsize = (12,6));"
   ]
  },
  {
   "cell_type": "code",
   "execution_count": 78,
   "metadata": {},
   "outputs": [
    {
     "data": {
      "image/png": "[encoded data removed]",
      "text/plain": [
       "<Figure size 864x432 with 1 Axes>"
      ]
     },
     "metadata": {},
     "output_type": "display_data"
    }
   ],
   "source": [
    "vegan_score = data[['labels_en', 'nutri-score_letter']].dropna().query('labels_en == \"Vegan\"').groupby('nutri-score_letter').count()\n",
    "vegan_score.plot.bar(rot=0, figsize = (12,6));"
   ]
  },
  {
   "cell_type": "code",
   "execution_count": 79,
   "metadata": {},
   "outputs": [
    {
     "data": {
      "text/plain": [
       "<matplotlib.axes._subplots.AxesSubplot at 0x1a2b1c39b0>"
      ]
     },
     "execution_count": 79,
     "metadata": {},
     "output_type": "execute_result"
    },
    {
     "data": {
      "image/png": "[encoded data removed]",
      "text/plain": [
       "<Figure size 864x432 with 1 Axes>"
      ]
     },
     "metadata": {},
     "output_type": "display_data"
    }
   ],
   "source": [
    "veggie_score = data[['labels_en', 'nutri-score_letter']].dropna().query('labels_en == \"Vegetarian\"').groupby('nutri-score_letter').count()\n",
    "veggie_score.plot.bar(rot=0, figsize = (12,6))"
   ]
  },
  {
   "cell_type": "code",
   "execution_count": 86,
   "metadata": {},
   "outputs": [
    {
     "data": {
      "text/plain": [
       "316"
      ]
     },
     "execution_count": 86,
     "metadata": {},
     "output_type": "execute_result"
    }
   ],
   "source": [
    "veggie_score['labels_en']"
   ]
  },
  {
   "cell_type": "code",
   "execution_count": 89,
   "metadata": {},
   "outputs": [],
   "source": [
    "score_labels = pd.DataFrame({'Veggie':veggie_score['labels_en'], 'Vegan':vegan_score['labels_en'], 'Bio':bio_score['labels_en']})"
   ]
  },
  {
   "cell_type": "code",
   "execution_count": 90,
   "metadata": {},
   "outputs": [
    {
     "data": {
      "text/html": [
       "<div>\n",
       "<style scoped>\n",
       "    .dataframe tbody tr th:only-of-type {\n",
       "        vertical-align: middle;\n",
       "    }\n",
       "\n",
       "    .dataframe tbody tr th {\n",
       "        vertical-align: top;\n",
       "    }\n",
       "\n",
       "    .dataframe thead th {\n",
       "        text-align: right;\n",
       "    }\n",
       "</style>\n",
       "<table border=\"1\" class=\"dataframe\">\n",
       "  <thead>\n",
       "    <tr style=\"text-align: right;\">\n",
       "      <th></th>\n",
       "      <th>Veggie</th>\n",
       "      <th>Vegan</th>\n",
       "      <th>Bio</th>\n",
       "    </tr>\n",
       "    <tr>\n",
       "      <th>nutri-score_letter</th>\n",
       "      <th></th>\n",
       "      <th></th>\n",
       "      <th></th>\n",
       "    </tr>\n",
       "  </thead>\n",
       "  <tbody>\n",
       "    <tr>\n",
       "      <th>A</th>\n",
       "      <td>237</td>\n",
       "      <td>534</td>\n",
       "      <td>6129</td>\n",
       "    </tr>\n",
       "    <tr>\n",
       "      <th>B</th>\n",
       "      <td>316</td>\n",
       "      <td>610</td>\n",
       "      <td>7671</td>\n",
       "    </tr>\n",
       "    <tr>\n",
       "      <th>C</th>\n",
       "      <td>352</td>\n",
       "      <td>526</td>\n",
       "      <td>6232</td>\n",
       "    </tr>\n",
       "    <tr>\n",
       "      <th>D</th>\n",
       "      <td>688</td>\n",
       "      <td>685</td>\n",
       "      <td>9941</td>\n",
       "    </tr>\n",
       "    <tr>\n",
       "      <th>E</th>\n",
       "      <td>239</td>\n",
       "      <td>241</td>\n",
       "      <td>3701</td>\n",
       "    </tr>\n",
       "  </tbody>\n",
       "</table>\n",
       "</div>"
      ],
      "text/plain": [
       "                    Veggie  Vegan   Bio\n",
       "nutri-score_letter                     \n",
       "A                      237    534  6129\n",
       "B                      316    610  7671\n",
       "C                      352    526  6232\n",
       "D                      688    685  9941\n",
       "E                      239    241  3701"
      ]
     },
     "execution_count": 90,
     "metadata": {},
     "output_type": "execute_result"
    }
   ],
   "source": [
    "score_labels"
   ]
  },
  {
   "cell_type": "code",
   "execution_count": 102,
   "metadata": {
    "scrolled": false
   },
   "outputs": [
    {
     "data": {
      "text/plain": [
       "<matplotlib.axes._subplots.AxesSubplot at 0x1a1b5b0160>"
      ]
     },
     "execution_count": 102,
     "metadata": {},
     "output_type": "execute_result"
    },
    {
     "data": {
      "image/png": "[encoded data removed]",
      "text/plain": [
       "<Figure size 1080x720 with 3 Axes>"
      ]
     },
     "metadata": {},
     "output_type": "display_data"
    }
   ],
   "source": [
    "plt.figure(figsize = (15,10))\n",
    "score_labels['Veggie'].plot.pie(ax=plt.subplot(231), title='Vegetarian Score', colors=nutri_score_colors)\n",
    "score_labels['Vegan'].plot.pie(ax=plt.subplot(232), title='Vegan Score', colors=nutri_score_colors)\n",
    "score_labels['Bio'].plot.pie(ax=plt.subplot(233), title='Bio Score', colors=nutri_score_colors)"
   ]
  },
  {
   "cell_type": "code",
   "execution_count": 118,
   "metadata": {},
   "outputs": [],
   "source": [
    "bio_plastic = data[['packaging_tags', 'labels_en']][(data['labels_en'] == 'Bio') & (data['packaging_tags'] == 'Plastic')].count()[0]\n",
    "bio_reclycl = data[['packaging_tags', 'labels_en']][(data['labels_en'] == 'Bio') & (data['packaging_tags'] == 'Recyclable')].count()[0]\n",
    "bio_dirt = data[['packaging_tags', 'labels_en']][(data['labels_en'] == 'Bio') & (data['packaging_tags'] == 'Non-Recyclable')].count()[0]\n",
    "\n",
    "bio_pack = [bio_plastic, bio_reclycl, bio_dirt]"
   ]
  },
  {
   "cell_type": "code",
   "execution_count": 119,
   "metadata": {},
   "outputs": [],
   "source": [
    "veggie_plastic = data[['packaging_tags', 'labels_en']][(data['labels_en'] == 'Vegetarian') & (data['packaging_tags'] == 'Plastic')].count()[0]\n",
    "veggie_reclycl = data[['packaging_tags', 'labels_en']][(data['labels_en'] == 'Vegetarian') & (data['packaging_tags'] == 'Recyclable')].count()[0]\n",
    "veggie_dirt = data[['packaging_tags', 'labels_en']][(data['labels_en'] == 'Vegetarian') & (data['packaging_tags'] == 'Non-Recyclable')].count()[0]\n",
    "\n",
    "veggie_pack = [veggie_plastic, veggie_reclycl, veggie_dirt]"
   ]
  },
  {
   "cell_type": "code",
   "execution_count": 120,
   "metadata": {},
   "outputs": [],
   "source": [
    "vegan_plastic = data[['packaging_tags', 'labels_en']][(data['labels_en'] == 'Vegan') & (data['packaging_tags'] == 'Plastic')].count()[0]\n",
    "vegan_reclycl = data[['packaging_tags', 'labels_en']][(data['labels_en'] == 'Vegan') & (data['packaging_tags'] == 'Recyclable')].count()[0]\n",
    "vegan_dirt = data[['packaging_tags', 'labels_en']][(data['labels_en'] == 'Vegan') & (data['packaging_tags'] == 'Non-Recyclable')].count()[0]\n",
    "\n",
    "vegan_pack = [vegan_plastic, vegan_reclycl, vegan_dirt]"
   ]
  },
  {
   "cell_type": "code",
   "execution_count": 125,
   "metadata": {},
   "outputs": [],
   "source": [
    "label_recycl = pd.DataFrame({'Bio':bio_pack, 'Veggie':veggie_pack, 'Vegan': vegan_pack})\n",
    "label_recycl.index = ['Plastic', 'Recyclable', 'Non-Recyclable']"
   ]
  },
  {
   "cell_type": "code",
   "execution_count": 126,
   "metadata": {},
   "outputs": [
    {
     "data": {
      "text/plain": [
       "<matplotlib.axes._subplots.AxesSubplot at 0x1a1dfdf5c0>"
      ]
     },
     "execution_count": 126,
     "metadata": {},
     "output_type": "execute_result"
    },
    {
     "data": {
      "image/png": "[encoded data removed]",
      "text/plain": [
       "<Figure size 1080x720 with 3 Axes>"
      ]
     },
     "metadata": {},
     "output_type": "display_data"
    }
   ],
   "source": [
    "plt.figure(figsize = (15,10))\n",
    "label_recycl['Veggie'].plot.pie(ax=plt.subplot(231), title='Vegetarian Recyclability', colors=nutri_score_colors)\n",
    "label_recycl['Vegan'].plot.pie(ax=plt.subplot(232), title='Vegan Recyclability', colors=nutri_score_colors)\n",
    "label_recycl['Bio'].plot.pie(ax=plt.subplot(233), title='Bio Recyclability', colors=nutri_score_colors)"
   ]
  },
  {
   "cell_type": "code",
   "execution_count": 59,
   "metadata": {},
   "outputs": [],
   "source": [
    "chosen_fields = ['product_name', 'packaging_tags', 'brands_tags',\n",
    "                 'origins_tags', 'manufacturing_places_tags', 'labels_en',\n",
    "                 'stores', 'countries_en','additives_n',\n",
    "                 'ingredients_from_palm_oil_n', 'ingredients_that_may_be_from_palm_oil_n', \n",
    "                 'nutrition_grade_fr', 'pnns_groups_1', 'fruits-vegetables-nuts_100g',\n",
    "                 'main_category_en', 'energy_100g', 'energy-from-fat_100g', 'fat_100g', \n",
    "                 'saturated-fat_100g', 'monounsaturated-fat_100g', 'polyunsaturated-fat_100g', \n",
    "                 'omega-3-fat_100g', 'omega-6-fat_100g', 'omega-9-fat_100g', 'trans-fat_100g', \n",
    "                 'cholesterol_100g', 'carbohydrates_100g', 'sugars_100g',\n",
    "                 'fiber_100g', 'proteins_100g', 'sodium_100g', \n",
    "                 'nutrition-score-fr_100g', 'nutrition-score-uk_100g',\n",
    "                 'carbon-footprint_100g', 'first_packaging_code_geo']"
   ]
  },
  {
   "cell_type": "markdown",
   "metadata": {},
   "source": [
    "**Global Food Packaging:**"
   ]
  },
  {
   "cell_type": "code",
   "execution_count": 151,
   "metadata": {},
   "outputs": [],
   "source": [
    "categ_plastic = data[['Category', 'packaging_tags']][(data['packaging_tags'] == 'Plastic')].groupby('Category').count()['packaging_tags']\n",
    "\n",
    "categ_recy = data[['Category', 'packaging_tags']][(data['packaging_tags'] == 'Recyclable')].groupby('Category').count()['packaging_tags']\n",
    "\n",
    "categ_nonrec = data[['Category', 'packaging_tags']][(data['packaging_tags'] == 'Plastic')].groupby('Category').count()['packaging_tags']\n",
    "\n",
    "category_pack = pd.DataFrame({'Plastic':categ_plastic, 'Recyclable':categ_recy, 'Non-Recyclable':categ_nonrec})\n",
    "\n",
    "category_pack.drop(index = 'Unknown', inplace = True)"
   ]
  },
  {
   "cell_type": "code",
   "execution_count": 152,
   "metadata": {},
   "outputs": [
    {
     "data": {
      "text/plain": [
       "<matplotlib.axes._subplots.AxesSubplot at 0x1a28ae3d30>"
      ]
     },
     "execution_count": 152,
     "metadata": {},
     "output_type": "execute_result"
    },
    {
     "data": {
      "image/png": "[encoded data removed]",
      "text/plain": [
       "<Figure size 1080x720 with 3 Axes>"
      ]
     },
     "metadata": {},
     "output_type": "display_data"
    }
   ],
   "source": [
    "plt.figure(figsize = (15,10))\n",
    "category_pack['Plastic'].plot.pie(ax=plt.subplot(231), title='Plastic Packaging')\n",
    "category_pack['Recyclable'].plot.pie(ax=plt.subplot(234), title='Recyclable Packaging')\n",
    "category_pack['Non-Recyclable'].plot.pie(ax=plt.subplot(233), title='Non-Recyclable Packaging')"
   ]
  },
  {
   "cell_type": "code",
   "execution_count": null,
   "metadata": {},
   "outputs": [],
   "source": [
    "#liste_pack = ['Plastic, Recyclable', 'Non-Recyclable']\n",
    "\n",
    "#def clean(col, liste, replace_by):\n",
    "    #for i in range (0,data.shape[0]):\n",
    "     #   if not data[col][i] in liste:\n",
    "    #        data[col][i] = replace_by\n",
    "\n",
    "#clean('packaging_tags', liste_pack, 'Other')"
   ]
  }
 ],
 "metadata": {
  "kernelspec": {
   "display_name": "Python 3",
   "language": "python",
   "name": "python3"
  },
  "language_info": {
   "codemirror_mode": {
    "name": "ipython",
    "version": 3
   },
   "file_extension": ".py",
   "mimetype": "text/x-python",
   "name": "python",
   "nbconvert_exporter": "python",
   "pygments_lexer": "ipython3",
   "version": "3.6.5"
  }
 },
 "nbformat": 4,
 "nbformat_minor": 2
}
